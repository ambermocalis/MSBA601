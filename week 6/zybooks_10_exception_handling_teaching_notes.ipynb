{
 "cells": [
  {
   "cell_type": "markdown",
   "id": "6aee8827",
   "metadata": {},
   "source": [
    "\n",
    "# Python Exception Handling - Teaching Notes\n",
    "\n",
    "In this notebook, we'll cover the fundamentals of exception handling in Python, including raising exceptions, using multiple exception handlers, and creating custom exceptions. We'll explore examples that demonstrate how these concepts work in real scenarios.\n",
    "\n",
    "## Topics Covered:\n",
    "1. Basic Exception Handling with `try` and `except`\n",
    "2. Multiple Exception Handlers\n",
    "3. Raising Exceptions\n",
    "4. Using `finally` for Clean-up\n",
    "5. Custom Exception Types"
   ]
  },
  {
   "cell_type": "markdown",
   "id": "ec66ad31",
   "metadata": {},
   "source": [
    "Take Aways\n",
    "\n",
    "The `try` block lets you test a block of code for errors.\n",
    "\n",
    "The `except` block lets you handle the error.\n",
    "\n",
    "The `else` block lets you execute code when there is no error.\n",
    "\n",
    "The `finally` block lets you execute code, regardless of the result of the try- and except blocks.\n"
   ]
  },
  {
   "cell_type": "markdown",
   "id": "9cb5aed7",
   "metadata": {},
   "source": [
    "\n",
    "## 1. Basic Exception Handling with `try` and `except`\n",
    "\n",
    "In Python, we handle exceptions using the `try` and `except` blocks. Here's a simple example where we handle invalid input from the user.\n"
   ]
  },
  {
   "cell_type": "code",
   "execution_count": 1,
   "id": "ce06905f",
   "metadata": {},
   "outputs": [
    {
     "name": "stdout",
     "output_type": "stream",
     "text": [
      "The number you entered is: 16\n"
     ]
    }
   ],
   "source": [
    "\n",
    "# Example 1: Basic exception handling\n",
    "try:\n",
    "    number = int(input(\"Enter a number: \")) #what happens when you enter a string or a float?\n",
    "    print(f\"The number you entered is: {number}\")\n",
    "except ValueError:\n",
    "    print(\"Invalid input! Please enter a valid number.\")\n"
   ]
  },
  {
   "cell_type": "markdown",
   "id": "318e8061",
   "metadata": {},
   "source": [
    "## Sidebar: why not just use if-else?\n",
    "\n",
    "Why try-except is preferable in some cases:\n",
    "\n",
    "**Cleaner Code**: In complex scenarios, try-except keeps the code cleaner by focusing on handling the main logic first and dealing with errors only if they occur, without cluttering the main flow with multiple if-else checks.\n",
    "\n",
    "**Catches Unforeseen Errors**: If the code encounters an unexpected runtime error (e.g., user input is invalid), try-except can handle the error gracefully, while if-else only works for conditions you've anticipated.\n",
    "\n",
    "**Prevents Redundant Checks**: Constantly checking conditions with if-else can lead to redundant checks. For example, checking every division operation with if-else when division by zero might happen infrequently can be less efficient than simply attempting the division and catching the error.\n",
    "\n",
    "Example 2: Dealing with f"
   ]
  },
  {
   "cell_type": "code",
   "execution_count": 2,
   "id": "7940e60d",
   "metadata": {},
   "outputs": [
    {
     "name": "stdout",
     "output_type": "stream",
     "text": [
      "5.0\n",
      "Division by zero is not allowed\n"
     ]
    }
   ],
   "source": [
    "def divide_if_else(a, b):\n",
    "    if b != 0:\n",
    "        return a / b\n",
    "    else:\n",
    "        return \"Division by zero is not allowed\"\n",
    "\n",
    "print(divide_if_else(10, 2))  # Outputs: 5.0\n",
    "print(divide_if_else(10, 0))  # Outputs: Division by zero is not allowed"
   ]
  },
  {
   "cell_type": "code",
   "execution_count": 3,
   "id": "50a4cec2",
   "metadata": {},
   "outputs": [
    {
     "name": "stdout",
     "output_type": "stream",
     "text": [
      "5.0\n",
      "Division by zero is not allowed\n"
     ]
    }
   ],
   "source": [
    "def divide_try_except(a, b):\n",
    "    try:\n",
    "        return a / b\n",
    "    except ZeroDivisionError:\n",
    "        return \"Division by zero is not allowed\"\n",
    "\n",
    "print(divide_try_except(10, 2))  # Outputs: 5.0\n",
    "print(divide_try_except(10, 0))  # Outputs: Division by zero is not allowed"
   ]
  },
  {
   "cell_type": "markdown",
   "id": "c97883ed",
   "metadata": {},
   "source": [
    "\n",
    "## 2. Multiple Exception Handlers\n",
    "\n",
    "We can handle different types of exceptions using multiple `except` blocks. For example, here we handle both `ValueError` and `ZeroDivisionError`.\n"
   ]
  },
  {
   "cell_type": "code",
   "execution_count": 4,
   "id": "c7ca1f3e",
   "metadata": {},
   "outputs": [
    {
     "name": "stdout",
     "output_type": "stream",
     "text": [
      "The result is: 1.0\n"
     ]
    }
   ],
   "source": [
    "\n",
    "# Example 2: Multiple exception handlers\n",
    "try:\n",
    "    number = int(input(\"Enter a number: \"))\n",
    "    result = 100 / number\n",
    "    print(f\"The result is: {result}\")\n",
    "except ValueError:\n",
    "    print(\"Invalid input! Please enter a valid number.\")\n",
    "except ZeroDivisionError:\n",
    "    print(\"Cannot divide by zero!\")\n"
   ]
  },
  {
   "cell_type": "markdown",
   "id": "0fdbfcb2",
   "metadata": {},
   "source": [
    "\n",
    "## 3. Raising Exceptions\n",
    "\n",
    "We can raise exceptions in our own code using the `raise` keyword. This is useful for input validation and ensuring that certain conditions are met before proceeding.\n"
   ]
  },
  {
   "cell_type": "code",
   "execution_count": 8,
   "id": "4a4d2db0",
   "metadata": {},
   "outputs": [
    {
     "name": "stdout",
     "output_type": "stream",
     "text": [
      "invalid literal for int() with base 10: 'three'\n"
     ]
    }
   ],
   "source": [
    "\n",
    "# Example 3: Raising an exception\n",
    "def get_positive_number():\n",
    "    number = int(input(\"Enter a positive number: \"))\n",
    "    if number <= 0:\n",
    "        raise ValueError(\"The number must be greater than 0!\") #custom exception\n",
    "    return number\n",
    "\n",
    "try:\n",
    "    number = get_positive_number()\n",
    "    print(f\"You entered: {number}\")\n",
    "except ValueError as e:\n",
    "    print(e)\n"
   ]
  },
  {
   "cell_type": "markdown",
   "id": "fcaa9ab1",
   "metadata": {},
   "source": [
    "\n",
    "## 4. Using `finally` for Clean-up\n",
    "\n",
    "The `finally` block always executes, whether an exception occurred or not. It's commonly used for clean-up actions such as closing files or releasing resources.\n"
   ]
  },
  {
   "cell_type": "code",
   "execution_count": 11,
   "id": "239a944f",
   "metadata": {},
   "outputs": [
    {
     "name": "stdout",
     "output_type": "stream",
     "text": [
      "Closing the file (if it was opened).\n"
     ]
    }
   ],
   "source": [
    "\n",
    "# Example 4: Using finally for clean-up\n",
    "try:\n",
    "    file = open(\"sample.txt\", \"r\")\n",
    "    # Do some operations with the file\n",
    "except FileNotFoundError:\n",
    "    print(\"File not found.\")\n",
    "finally:\n",
    "    print(\"Closing the file (if it was opened).\")\n",
    "\n",
    "\n",
    "#run again after renaming txt file. \n"
   ]
  },
  {
   "cell_type": "markdown",
   "id": "13302d04",
   "metadata": {},
   "source": [
    "\n",
    "## 5. Custom Exception Types\n",
    "\n",
    "We can define our own custom exception types by inheriting from the built-in `Exception` class. This is helpful when we need to signal specific error conditions in our programs.\n"
   ]
  },
  {
   "cell_type": "code",
   "execution_count": 10,
   "id": "5790275c",
   "metadata": {},
   "outputs": [
    {
     "name": "stdout",
     "output_type": "stream",
     "text": [
      "Negative number entered!\n"
     ]
    }
   ],
   "source": [
    "\n",
    "# Example 5: Custom exception type\n",
    "class NegativeNumberError(Exception):\n",
    "    def __init__(self, value):\n",
    "        self.value = value\n",
    "\n",
    "def check_positive(number):\n",
    "    if number < 0:\n",
    "        raise NegativeNumberError(\"Negative number entered!\")\n",
    "\n",
    "try:\n",
    "    num = int(input(\"Enter a number: \"))\n",
    "    check_positive(num)\n",
    "    print(f\"The number you entered is: {num}\")\n",
    "except NegativeNumberError as e:\n",
    "    print(e)\n"
   ]
  }
 ],
 "metadata": {
  "kernelspec": {
   "display_name": "venv",
   "language": "python",
   "name": "python3"
  },
  "language_info": {
   "codemirror_mode": {
    "name": "ipython",
    "version": 3
   },
   "file_extension": ".py",
   "mimetype": "text/x-python",
   "name": "python",
   "nbconvert_exporter": "python",
   "pygments_lexer": "ipython3",
   "version": "3.10.8"
  }
 },
 "nbformat": 4,
 "nbformat_minor": 5
}
