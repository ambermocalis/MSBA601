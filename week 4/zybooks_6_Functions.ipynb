{
 "cells": [
  {
   "cell_type": "markdown",
   "id": "652da054",
   "metadata": {},
   "source": [
    "\n",
    "# Python Functions\n",
    "\n",
    "A function is a block of code which only runs when it is called.\n",
    "\n",
    "You can pass data, known as parameters, into a function.\n",
    "\n",
    "A function can return data as a result.\n"
   ]
  },
  {
   "cell_type": "code",
   "execution_count": 24,
   "id": "d2566768",
   "metadata": {},
   "outputs": [],
   "source": [
    "\n",
    "# Creating a Function\n",
    "# In Python, a function is defined using the def keyword:\n",
    "\n",
    "def my_function():\n",
    "    print(\"Hello from a function\")\n"
   ]
  },
  {
   "cell_type": "code",
   "execution_count": 25,
   "id": "b5ceb8ab",
   "metadata": {},
   "outputs": [
    {
     "name": "stdout",
     "output_type": "stream",
     "text": [
      "Hello from a function\n"
     ]
    }
   ],
   "source": [
    "\n",
    "# Calling a Function\n",
    "\n",
    "my_function()\n"
   ]
  },
  {
   "cell_type": "markdown",
   "id": "97ec79c8",
   "metadata": {},
   "source": [
    "\n",
    "## Arguments\n",
    "\n",
    "Information can be passed into functions as arguments.\n"
   ]
  },
  {
   "cell_type": "code",
   "execution_count": 26,
   "id": "eba4d332",
   "metadata": {},
   "outputs": [
    {
     "name": "stdout",
     "output_type": "stream",
     "text": [
      "Emil Refsnes\n",
      "Tobias Refsnes\n",
      "Linus Refsnes\n"
     ]
    }
   ],
   "source": [
    "\n",
    "def my_function(fname):\n",
    "    print(fname + \" Refsnes\")\n",
    "\n",
    "my_function(\"Emil\") #these are arguments.\n",
    "my_function(\"Tobias\")\n",
    "my_function(\"Linus\")\n"
   ]
  },
  {
   "cell_type": "markdown",
   "id": "1f14fb37",
   "metadata": {},
   "source": [
    "\n",
    "## Parameters or Arguments?\n",
    "\n",
    "A parameter is the variable listed inside the parentheses in the function definition. An argument is the value that is sent to the function when it is called.\n"
   ]
  },
  {
   "cell_type": "code",
   "execution_count": 27,
   "id": "a7a23833",
   "metadata": {},
   "outputs": [
    {
     "name": "stdout",
     "output_type": "stream",
     "text": [
      "Emil Refsnes\n"
     ]
    }
   ],
   "source": [
    "# arguments\n",
    "def my_function(fname, lname):  #these are params.\n",
    "    print(fname + \" \" + lname)\n",
    "\n",
    "#parameters\n",
    "my_function(\"Emil\", \"Refsnes\")\n"
   ]
  },
  {
   "cell_type": "markdown",
   "id": "e30d030d",
   "metadata": {},
   "source": [
    "## Arbitrary Arguments, *args\n",
    "\n",
    "If you do not know how many arguments that will be passed into your function, add a * before the parameter name in the function definition.\n",
    "\n",
    "This way the function will receive a tuple of arguments, and can access the items accordingly:"
   ]
  },
  {
   "cell_type": "code",
   "execution_count": 28,
   "id": "ab193190",
   "metadata": {},
   "outputs": [
    {
     "name": "stdout",
     "output_type": "stream",
     "text": [
      "The youngest child is Linus\n"
     ]
    }
   ],
   "source": [
    "\n",
    "# Arbitrary Arguments (*args)\n",
    "\n",
    "def my_function(*kids):\n",
    "    print(\"The youngest child is \" + kids[2])\n",
    "\n",
    "my_function(\"Emil\", \"Tobias\", \"Linus\")\n"
   ]
  },
  {
   "cell_type": "markdown",
   "id": "a08cd3ca",
   "metadata": {},
   "source": [
    "## Keyword Arguments\n",
    "You can also send arguments with the key = value syntax.\n",
    "\n",
    "This way the order of the arguments does not matter."
   ]
  },
  {
   "cell_type": "code",
   "execution_count": 29,
   "id": "e9b99d42",
   "metadata": {},
   "outputs": [
    {
     "name": "stdout",
     "output_type": "stream",
     "text": [
      "The youngest child is Linus\n"
     ]
    }
   ],
   "source": [
    "\n",
    "# Keyword Arguments\n",
    "\n",
    "def my_function(child3, child2, child1):\n",
    "    print(\"The youngest child is \" + child3)\n",
    "\n",
    "my_function(child1 = \"Emil\", child2 = \"Tobias\", child3 = \"Linus\")\n"
   ]
  },
  {
   "cell_type": "markdown",
   "id": "9d02a862",
   "metadata": {},
   "source": [
    "## Arbitrary Keyword Arguments, **kwargs\n",
    "If you do not know how many keyword arguments that will be passed into your function, add two asterisk: ** before the parameter name in the function definition.\n",
    "\n",
    "This way the function will receive a dictionary of arguments, and can access the items accordingly:"
   ]
  },
  {
   "cell_type": "code",
   "execution_count": 30,
   "id": "44dd4993",
   "metadata": {},
   "outputs": [
    {
     "name": "stdout",
     "output_type": "stream",
     "text": [
      "His last name is Refsnes\n"
     ]
    }
   ],
   "source": [
    "\n",
    "# Arbitrary Keyword Arguments (**kwargs)\n",
    "\n",
    "def my_function(**kid):\n",
    "    print(\"His last name is \" + kid[\"lname\"])\n",
    "\n",
    "my_function(fname = \"Tobias\", lname = \"Refsnes\")\n"
   ]
  },
  {
   "cell_type": "markdown",
   "id": "af2e43b0",
   "metadata": {},
   "source": [
    "## Default Parameter Value\n",
    "The following example shows how to use a default parameter value.\n",
    "\n",
    "If we call the function without argument, it uses the default value:"
   ]
  },
  {
   "cell_type": "code",
   "execution_count": 31,
   "id": "736a1360",
   "metadata": {},
   "outputs": [
    {
     "name": "stdout",
     "output_type": "stream",
     "text": [
      "I am from Sweden\n",
      "I am from India\n",
      "I am from Norway\n",
      "I am from Brazil\n"
     ]
    }
   ],
   "source": [
    "\n",
    "# Default Parameter Value\n",
    "\n",
    "def my_function(country = \"Norway\"):\n",
    "    print(\"I am from \" + country)\n",
    "\n",
    "my_function(\"Sweden\")\n",
    "my_function(\"India\")\n",
    "my_function()\n",
    "my_function(\"Brazil\")\n"
   ]
  },
  {
   "cell_type": "markdown",
   "id": "60b7c566",
   "metadata": {},
   "source": [
    "## Passing a List as an Argument\n",
    "You can send any data types of argument to a function (string, number, list, dictionary etc.), and it will be treated as the same data type inside the function.\n",
    "\n",
    "E.g. if you send a List as an argument, it will still be a List when it reaches the function:"
   ]
  },
  {
   "cell_type": "code",
   "execution_count": 32,
   "id": "149079d5",
   "metadata": {},
   "outputs": [
    {
     "name": "stdout",
     "output_type": "stream",
     "text": [
      "apple\n",
      "banana\n",
      "cherry\n",
      "tomato\n",
      "persimmon\n"
     ]
    }
   ],
   "source": [
    "\n",
    "# Passing a List as an Argument\n",
    "\n",
    "def my_function(food):\n",
    "    for x in food:\n",
    "        print(x)\n",
    "\n",
    "fruits = [\"apple\", \"banana\", \"cherry\", \"tomato\", \"persimmon\"]\n",
    "my_function(fruits)\n"
   ]
  },
  {
   "cell_type": "markdown",
   "id": "6ae5f5a1",
   "metadata": {},
   "source": [
    "## Return Values\n",
    "To let a function return a value, use the return statement:"
   ]
  },
  {
   "cell_type": "code",
   "execution_count": 33,
   "id": "1ff22dad",
   "metadata": {},
   "outputs": [
    {
     "name": "stdout",
     "output_type": "stream",
     "text": [
      "15\n",
      "25\n",
      "45\n"
     ]
    }
   ],
   "source": [
    "\n",
    "# Return Values\n",
    "\n",
    "def my_function(x):\n",
    "    print(5*x)\n",
    "    return 5 * x\n",
    "\n",
    "a = my_function(3)\n",
    "b = my_function(5)\n",
    "c = my_function(9)\n"
   ]
  },
  {
   "cell_type": "code",
   "execution_count": 34,
   "id": "06e52392",
   "metadata": {},
   "outputs": [
    {
     "name": "stdout",
     "output_type": "stream",
     "text": [
      "16\n"
     ]
    }
   ],
   "source": [
    "#Note that return also stores variables in memory\n",
    "\n",
    "def my_function(x):\n",
    "        y=x*4\n",
    "        print(y)\n",
    "\n",
    "r= my_function(4)\n",
    "\n",
    "def my_function_2(x):\n",
    "        t=x*4\n",
    "        return t\n",
    "\n",
    "s = my_function_2(2)"
   ]
  },
  {
   "cell_type": "markdown",
   "id": "40ff4de9",
   "metadata": {},
   "source": [
    "## The pass Statement\n",
    "function definitions cannot be empty, but if you for some reason have a function definition with no content, put in the pass statement to avoid getting an error. This can be used for planinng, or creating placeholders. "
   ]
  },
  {
   "cell_type": "code",
   "execution_count": 39,
   "id": "115096d8",
   "metadata": {},
   "outputs": [],
   "source": [
    "\n",
    "# The pass Statement\n",
    "\n",
    "def my_function():\n",
    "    pass\n"
   ]
  },
  {
   "cell_type": "markdown",
   "id": "0a8fc344",
   "metadata": {},
   "source": [
    "## Positional-Only Arguments\n",
    "You can specify that a function can have ONLY positional arguments, or ONLY keyword arguments.\n",
    "\n",
    "To specify that a function can have only positional arguments, add , / after the arguments:"
   ]
  },
  {
   "cell_type": "code",
   "execution_count": 36,
   "id": "2dcc9bea",
   "metadata": {},
   "outputs": [
    {
     "name": "stdout",
     "output_type": "stream",
     "text": [
      "3\n"
     ]
    }
   ],
   "source": [
    "\n",
    "# Positional-Only Arguments\n",
    "\n",
    "def my_function(x, /):\n",
    "    print(x)\n",
    "\n",
    "my_function(3)\n"
   ]
  },
  {
   "cell_type": "markdown",
   "id": "f821818b",
   "metadata": {},
   "source": [
    "## Keyword-Only Arguments\n",
    "To specify that a function can have only keyword arguments, add *, before the arguments:"
   ]
  },
  {
   "cell_type": "code",
   "execution_count": 37,
   "id": "c79da1f9",
   "metadata": {},
   "outputs": [
    {
     "name": "stdout",
     "output_type": "stream",
     "text": [
      "3\n"
     ]
    }
   ],
   "source": [
    "\n",
    "# Keyword-Only Arguments\n",
    "\n",
    "def my_function(*, x):\n",
    "    print(x)\n",
    "\n",
    "my_function(x = 3)\n"
   ]
  },
  {
   "cell_type": "markdown",
   "id": "732ac476",
   "metadata": {},
   "source": [
    "## Combine Positional-Only and Keyword-Only\n",
    "You can combine the two argument types in the same function.\n",
    "\n",
    "Any argument before the / , are positional-only, and any argument after the *, are keyword-only."
   ]
  },
  {
   "cell_type": "code",
   "execution_count": 38,
   "id": "183afa2f",
   "metadata": {},
   "outputs": [
    {
     "name": "stdout",
     "output_type": "stream",
     "text": [
      "26\n"
     ]
    }
   ],
   "source": [
    "\n",
    "# Combine Positional-Only and Keyword-Only\n",
    "\n",
    "def my_function(a, b, /, *, c, d):\n",
    "    print(a + b + c + d)\n",
    "\n",
    "my_function(5, 6, c = 7, d = 8)\n"
   ]
  },
  {
   "cell_type": "markdown",
   "id": "10a457a5",
   "metadata": {},
   "source": [
    "# Why Use Functions/The Case of Why They're Awesome!\n",
    "\n",
    "- Improving program readability\n",
    "- Avoid writing redundant code"
   ]
  },
  {
   "cell_type": "code",
   "execution_count": 47,
   "id": "5f2da382",
   "metadata": {},
   "outputs": [
    {
     "name": "stdout",
     "output_type": "stream",
     "text": [
      "1.58\n",
      "7.90\n",
      "63.20\n"
     ]
    }
   ],
   "source": [
    "# Define your function here.\n",
    "def driving_cost(miles_per_gallon, gas_price, miles_driven):\n",
    "    y = (miles_driven/miles_per_gallon)*gas_price\n",
    "    print(f'{y:.2f}')\n",
    "\n",
    "#test function\n",
    "#driving_cost(20.0,3.1599,50.0)\n",
    "\n",
    "miles_per_gallon = float(input())\n",
    "gas_price = float(input())\n",
    "\n",
    "driving_cost(miles_per_gallon,gas_price,10)\n",
    "driving_cost(miles_per_gallon,gas_price,50)\n",
    "driving_cost(miles_per_gallon,gas_price,400)\n",
    "\n",
    "#if __name__ == '__main__':\n",
    "    # Type your code here.\n"
   ]
  },
  {
   "cell_type": "code",
   "execution_count": 71,
   "id": "c3f5926b",
   "metadata": {},
   "outputs": [
    {
     "name": "stdout",
     "output_type": "stream",
     "text": [
      "60\n"
     ]
    }
   ],
   "source": [
    "def feet_to_steps(x): # x = number of feet walked\n",
    "    x = int(x*.4)\n",
    "    print(x)\n",
    "    #print(int(f'{x/2.5}'))\n",
    "\n",
    "user_input=float(input())\n",
    "feet_to_steps(user_input)"
   ]
  },
  {
   "cell_type": "code",
   "execution_count": null,
   "id": "217729a7",
   "metadata": {},
   "outputs": [],
   "source": [
    "\n",
    "# Return Values\n",
    "\n",
    "def my_function(x):\n",
    "    print(5*x)\n",
    "    return 5 * x\n",
    "\n",
    "a = my_function(3)\n",
    "b = my_function(5)\n",
    "c = my_function(9)\n"
   ]
  }
 ],
 "metadata": {
  "kernelspec": {
   "display_name": "venv",
   "language": "python",
   "name": "python3"
  },
  "language_info": {
   "codemirror_mode": {
    "name": "ipython",
    "version": 3
   },
   "file_extension": ".py",
   "mimetype": "text/x-python",
   "name": "python",
   "nbconvert_exporter": "python",
   "pygments_lexer": "ipython3",
   "version": "3.10.8"
  }
 },
 "nbformat": 4,
 "nbformat_minor": 5
}
