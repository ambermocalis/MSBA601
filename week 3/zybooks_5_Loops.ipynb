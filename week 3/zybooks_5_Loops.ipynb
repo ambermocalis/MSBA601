{
 "cells": [
  {
   "cell_type": "markdown",
   "id": "f7c6eeaf",
   "metadata": {},
   "source": [
    "# Python While Loops and For Loops\n",
    "This notebook covers basic Python while and for loops and associated control statements like `break`, `continue`, and `else`."
   ]
  },
  {
   "cell_type": "markdown",
   "id": "9d2314a1",
   "metadata": {},
   "source": [
    "## 1. Basic While Loop\n",
    "The `while` loop executes a set of statements as long as a condition is true."
   ]
  },
  {
   "cell_type": "code",
   "execution_count": 37,
   "id": "cc1c3383",
   "metadata": {},
   "outputs": [
    {
     "name": "stdout",
     "output_type": "stream",
     "text": [
      "1\n",
      "2\n",
      "3\n",
      "4\n",
      "5\n"
     ]
    }
   ],
   "source": [
    "i = 1\n",
    "while i < 6:\n",
    "  print(i)\n",
    "  i += 1"
   ]
  },
  {
   "cell_type": "markdown",
   "id": "8a4116de",
   "metadata": {},
   "source": [
    "## 2. The `break` Statement in While Loop\n",
    "The `break` statement can be used to exit the loop even if the while condition is true."
   ]
  },
  {
   "cell_type": "code",
   "execution_count": 40,
   "id": "4a6f0067",
   "metadata": {},
   "outputs": [
    {
     "name": "stdout",
     "output_type": "stream",
     "text": [
      "1\n",
      "2\n",
      "3\n"
     ]
    }
   ],
   "source": [
    "i = 1\n",
    "while i < 6:\n",
    "  print(i)\n",
    "  if i == 3:\n",
    "    break\n",
    "  i += 1"
   ]
  },
  {
   "cell_type": "markdown",
   "id": "1aca88f6",
   "metadata": {},
   "source": [
    "## 3. The `continue` Statement in While Loop\n",
    "The `continue` statement skips the current iteration and continues with the next."
   ]
  },
  {
   "cell_type": "code",
   "execution_count": 43,
   "id": "a4b5ea26",
   "metadata": {},
   "outputs": [
    {
     "name": "stdout",
     "output_type": "stream",
     "text": [
      "1\n",
      "2\n",
      "4\n",
      "5\n",
      "6\n"
     ]
    }
   ],
   "source": [
    "i = 0\n",
    "while i < 6:\n",
    "  i += 1\n",
    "  if i == 3:\n",
    "    continue\n",
    "  print(i)\n",
    "#what do you notice in the output?"
   ]
  },
  {
   "cell_type": "markdown",
   "id": "0b456b96",
   "metadata": {},
   "source": [
    "## 4. The `else` Statement in While Loop\n",
    "The `else` block runs once when the condition in the while loop becomes false."
   ]
  },
  {
   "cell_type": "code",
   "execution_count": 46,
   "id": "0401df66",
   "metadata": {},
   "outputs": [
    {
     "name": "stdout",
     "output_type": "stream",
     "text": [
      "1\n",
      "2\n",
      "3\n",
      "4\n",
      "5\n",
      "i is no longer less than 6\n"
     ]
    }
   ],
   "source": [
    "i = 1\n",
    "while i < 6:\n",
    "  print(i)\n",
    "  i += 1\n",
    "else:\n",
    "  print('i is no longer less than 6')"
   ]
  },
  {
   "cell_type": "markdown",
   "id": "5839a4de",
   "metadata": {},
   "source": [
    "## 5. Basic For Loop\n",
    "The `for` loop is used for iterating over a sequence (list, tuple, dictionary, set, or string)."
   ]
  },
  {
   "cell_type": "code",
   "execution_count": 49,
   "id": "76d756ed",
   "metadata": {},
   "outputs": [
    {
     "name": "stdout",
     "output_type": "stream",
     "text": [
      "apple\n",
      "banana\n",
      "cherry\n"
     ]
    }
   ],
   "source": [
    "fruits = ['apple', 'banana', 'cherry']\n",
    "for x in fruits:\n",
    "  print(x)"
   ]
  },
  {
   "cell_type": "markdown",
   "id": "df8ae908",
   "metadata": {},
   "source": [
    "## 6. Looping Through a String\n",
    "Strings are iterable, so you can loop through the characters of a string."
   ]
  },
  {
   "cell_type": "code",
   "execution_count": 52,
   "id": "9daff7e7",
   "metadata": {},
   "outputs": [
    {
     "name": "stdout",
     "output_type": "stream",
     "text": [
      "b\n",
      "a\n",
      "n\n",
      "a\n",
      "n\n",
      "a\n"
     ]
    }
   ],
   "source": [
    "for x in 'banana':\n",
    "  print(x)"
   ]
  },
  {
   "cell_type": "markdown",
   "id": "a6d4aced",
   "metadata": {},
   "source": [
    "## 7. The `break` Statement in For Loop\n",
    "The `break` statement can stop the loop before it has looped through all the items."
   ]
  },
  {
   "cell_type": "code",
   "execution_count": 55,
   "id": "13f9c968",
   "metadata": {},
   "outputs": [
    {
     "name": "stdout",
     "output_type": "stream",
     "text": [
      "apple\n",
      "banana\n"
     ]
    }
   ],
   "source": [
    "fruits = ['apple', 'banana', 'cherry']\n",
    "for x in fruits:\n",
    "  print(x)\n",
    "  if x == 'banana':\n",
    "    break\n",
    "#what do you notice in the output?"
   ]
  },
  {
   "cell_type": "markdown",
   "id": "d1b4dbde",
   "metadata": {},
   "source": [
    "## 8. The `continue` Statement in For Loop\n",
    "The `continue` statement skips the current iteration and continues with the next."
   ]
  },
  {
   "cell_type": "code",
   "execution_count": 58,
   "id": "7d1169c1",
   "metadata": {},
   "outputs": [
    {
     "name": "stdout",
     "output_type": "stream",
     "text": [
      "apple\n",
      "cherry\n"
     ]
    }
   ],
   "source": [
    "fruits = ['apple', 'banana', 'cherry']\n",
    "for x in fruits:\n",
    "  if x == 'banana':\n",
    "    continue\n",
    "  print(x)\n",
    "#what do you notice in the output?"
   ]
  },
  {
   "cell_type": "markdown",
   "id": "46bc1f64",
   "metadata": {},
   "source": [
    "## 9. Using `range()` in For Loop\n",
    "The `range()` function returns a sequence of numbers."
   ]
  },
  {
   "cell_type": "code",
   "execution_count": 61,
   "id": "00d952c1",
   "metadata": {},
   "outputs": [
    {
     "name": "stdout",
     "output_type": "stream",
     "text": [
      "0\n",
      "1\n",
      "2\n",
      "3\n",
      "4\n",
      "5\n"
     ]
    }
   ],
   "source": [
    "for x in range(6):\n",
    "  print(x)"
   ]
  },
  {
   "cell_type": "markdown",
   "id": "c7ddf68d",
   "metadata": {},
   "source": [
    "## 10. Else in For Loop\n",
    "The `else` keyword in a for loop specifies a block of code to be executed when the loop finishes."
   ]
  },
  {
   "cell_type": "code",
   "execution_count": 64,
   "id": "c0aa4a67",
   "metadata": {},
   "outputs": [
    {
     "name": "stdout",
     "output_type": "stream",
     "text": [
      "0\n",
      "1\n",
      "2\n",
      "3\n",
      "4\n",
      "5\n",
      "Finally finished!\n"
     ]
    }
   ],
   "source": [
    "for x in range(6):\n",
    "  print(x)\n",
    "else:\n",
    "  print('Finally finished!')"
   ]
  },
  {
   "cell_type": "markdown",
   "id": "c82d780c",
   "metadata": {},
   "source": [
    "## 11. Nested Loops\n",
    "A nested loop is a loop inside another loop."
   ]
  },
  {
   "cell_type": "code",
   "execution_count": 67,
   "id": "64537f0f",
   "metadata": {},
   "outputs": [
    {
     "name": "stdout",
     "output_type": "stream",
     "text": [
      "red apple\n",
      "red banana\n",
      "red cherry\n",
      "big apple\n",
      "big banana\n",
      "big cherry\n",
      "tasty apple\n",
      "tasty banana\n",
      "tasty cherry\n"
     ]
    }
   ],
   "source": [
    "adj = ['red', 'big', 'tasty']\n",
    "fruits = ['apple', 'banana', 'cherry']\n",
    "for x in adj:\n",
    "  for y in fruits:\n",
    "    print(x, y)\n",
    "#notice the loop runs outside in "
   ]
  },
  {
   "cell_type": "markdown",
   "id": "a3817a3f",
   "metadata": {},
   "source": [
    "## 12. The `pass` Statement in For Loop\n",
    "Use `pass` when a for loop has no content to avoid getting an error."
   ]
  },
  {
   "cell_type": "code",
   "execution_count": 70,
   "id": "b47a367b",
   "metadata": {},
   "outputs": [],
   "source": [
    "for x in [0, 1, 2]:\n",
    "  pass"
   ]
  },
  {
   "cell_type": "markdown",
   "id": "cc6ef999-a799-4a7e-b610-3d78b3b17534",
   "metadata": {},
   "source": [
    "Write a program that takes in a line of text as input, and outputs that line of text in reverse. The program repeats, ending when the user enters \"Done\", \"done\", or \"d\" for the line of text.\n",
    "\n",
    "Ex: If the input is:\n",
    "\n",
    "Hello there\n",
    "Hey\n",
    "done\n",
    "then the output is:\n",
    "\n",
    "ereht olleH\n",
    "yeH"
   ]
  },
  {
   "cell_type": "code",
   "execution_count": 72,
   "id": "71cd4bf4-5207-476e-ab3e-d86c62dbf944",
   "metadata": {},
   "outputs": [
    {
     "name": "stdout",
     "output_type": "stream",
     "text": [
      "Enter phone number:\n",
      " 1-555-HOLIDAY\n"
     ]
    },
    {
     "name": "stdout",
     "output_type": "stream",
     "text": [
      "Numbers only: 1-555-4654329\n"
     ]
    }
   ],
   "source": [
    "user_input = input('Enter phone number:\\n')\n",
    "phone_number = ''\n",
    "\n",
    "for character in user_input:\n",
    "    if ('0' <= character <= '9') or (character == '-'):\n",
    "        phone_number += character\n",
    "    elif ('a' <= character <= 'c') or ('A' <= character <= 'C'):\n",
    "        phone_number += '2'\n",
    "    elif ('d' <= character <= 'f') or ('D' <= character <= 'F'):\n",
    "        phone_number += '3'\n",
    "    elif ('g' <= character <= 'i') or ('G' <= character <= 'I'):\n",
    "        phone_number += '4'\n",
    "    elif ('j' <= character <= 'l') or ('J' <= character <= 'L'):\n",
    "        phone_number += '5'\n",
    "    elif ('m' <= character <= 'o') or ('M' <= character <= 'O'):\n",
    "        phone_number += '6'\n",
    "    elif ('p' <= character <= 's') or ('P' <= character <= 'S'):\n",
    "        phone_number += '7'\n",
    "    elif ('t' <= character <= 'v') or ('R' <= character <= 'V'):\n",
    "        phone_number += '8'\n",
    "    elif ('w' <= character <= 'z') or ('W' <= character <= 'Z'):\n",
    "        phone_number += '9'#FIXME: Add remaining elif branches\n",
    "    else:\n",
    "        phone_number += '?'\n",
    "\n",
    "print(f'Numbers only: {phone_number}')\n"
   ]
  },
  {
   "cell_type": "code",
   "execution_count": null,
   "id": "e1c3d598-93dc-4172-b5e2-b497ffcb5a97",
   "metadata": {},
   "outputs": [],
   "source": []
  }
 ],
 "metadata": {
  "kernelspec": {
   "display_name": "Python 3 (ipykernel)",
   "language": "python",
   "name": "python3"
  },
  "language_info": {
   "codemirror_mode": {
    "name": "ipython",
    "version": 3
   },
   "file_extension": ".py",
   "mimetype": "text/x-python",
   "name": "python",
   "nbconvert_exporter": "python",
   "pygments_lexer": "ipython3",
   "version": "3.10.8"
  }
 },
 "nbformat": 4,
 "nbformat_minor": 5
}
