{
 "cells": [
  {
   "cell_type": "markdown",
   "id": "4d1a330a",
   "metadata": {},
   "source": [
    "## Machine Learning: Iris Example\n",
    "There are three main types of machine learning:\n",
    "1. **Supervised Learning**: Learning from labeled data. The system is trained on a dataset that contains both the input features (X) and the expected output (Y).\n",
    "2. **Unsupervised Learning**: Learning from unlabeled data. The system identifies patterns and relationships without predefined labels.\n",
    "3. **Reinforcement Learning**: Learning by interacting with an environment. The system learns to make decisions based on rewards and penalties.\n",
    "\n",
    "Let's start with a simple example of supervised learning using a popular dataset: the Iris dataset.\n"
   ]
  },
  {
   "cell_type": "code",
   "execution_count": null,
   "id": "01009154",
   "metadata": {},
   "outputs": [],
   "source": [
    "# Import necessary libraries\n",
    "from sklearn.datasets import load_iris\n",
    "from sklearn.model_selection import train_test_split\n",
    "from sklearn.ensemble import RandomForestClassifier\n",
    "from sklearn.metrics import accuracy_score\n",
    "import pandas as pd\n",
    "\n",
    "# Load the Iris dataset\n",
    "iris = load_iris()\n",
    "\n",
    "# Convert the dataset to a Pandas DataFrame for better readability\n",
    "iris_df = pd.DataFrame(data=iris.data, columns=iris.feature_names)\n",
    "iris_df['target'] = iris.target  # Add the target variable as a new column\n",
    "\n",
    "# Display the DataFrame\n",
    "print(iris_df.head())  # Show the first few rows for a quick preview\n",
    "\n",
    "# Print the dimensions of the DataFrame\n",
    "print(\"Dimensions of the DataFrame:\", iris_df.shape)\n"
   ]
  },
  {
   "cell_type": "code",
   "execution_count": null,
   "id": "47b66ce1",
   "metadata": {},
   "outputs": [],
   "source": [
    "# Features (X) and labels (y)\n",
    "X = iris.data #Features (X): iris.data contains the features (measurements of flower characteristics like petal length, sepal width, etc.).\n",
    "y = iris.target #Labels (y): iris.target contains the labels (species of the iris flowers), which we want the model to predict."
   ]
  },
  {
   "cell_type": "code",
   "execution_count": null,
   "id": "249ab6cb",
   "metadata": {},
   "outputs": [],
   "source": [
    "# Split data into training and testing sets\n",
    "X_train, X_test, y_train, y_test = train_test_split(X, y, test_size=0.3, random_state=42)"
   ]
  },
  {
   "cell_type": "markdown",
   "id": "747e686c",
   "metadata": {},
   "source": [
    "- **Data Splitting**: The `train_test_split` function from Scikit-Learn splits the dataset into training and testing sets.\n",
    "  - **`test_size=0.3`**: Specifies that 30% of the data should be used for testing, and 70% for training.\n",
    "  - **`random_state=42`**: Sets a seed for reproducibility, ensuring that the split is consistent across different runs.\n"
   ]
  },
  {
   "cell_type": "code",
   "execution_count": null,
   "id": "0d8943eb",
   "metadata": {},
   "outputs": [],
   "source": [
    "# Initialize the Random Forest classifier\n",
    "clf = RandomForestClassifier()"
   ]
  },
  {
   "cell_type": "markdown",
   "id": "adb798db",
   "metadata": {},
   "source": [
    "- **Random Forest Classifier**: `RandomForestClassifier()` initializes a Random Forest model, an ensemble learning method that builds multiple decision trees and combines them for better prediction accuracy and robustness.\n"
   ]
  },
  {
   "cell_type": "code",
   "execution_count": null,
   "id": "029e47e8",
   "metadata": {},
   "outputs": [],
   "source": [
    "# Train the model\n",
    "clf.fit(X_train, y_train)"
   ]
  },
  {
   "cell_type": "markdown",
   "id": "3ae0f9a5",
   "metadata": {},
   "source": [
    "- **Model Training**: The `fit` method trains the Random Forest model on the training data (`X_train` and `y_train`). The model learns patterns in the training data, allowing it to make predictions."
   ]
  },
  {
   "cell_type": "code",
   "execution_count": null,
   "id": "96c29509",
   "metadata": {},
   "outputs": [],
   "source": [
    "# Make predictions\n",
    "y_pred = clf.predict(X_test)"
   ]
  },
  {
   "cell_type": "markdown",
   "id": "af860ac8",
   "metadata": {},
   "source": [
    "- **Predictions**: `clf.predict(X_test)` uses the trained model to predict the labels for the test set (`X_test`). These predictions are stored in `y_pred`."
   ]
  },
  {
   "cell_type": "code",
   "execution_count": null,
   "id": "6d14ab56",
   "metadata": {},
   "outputs": [],
   "source": [
    "# Calculate accuracy\n",
    "accuracy = accuracy_score(y_test, y_pred)\n",
    "print(f\"Model accuracy: {accuracy * 100:.2f}%\")"
   ]
  },
  {
   "cell_type": "markdown",
   "id": "937dbee5",
   "metadata": {},
   "source": [
    "- **Calculate Accuracy**: `accuracy_score(y_test, y_pred)` compares the model’s predictions (`y_pred`) with the actual labels in the test set (`y_test`) to calculate the accuracy, which is the percentage of correct predictions.\n",
    "- **Print Accuracy**: The code prints the accuracy as a percentage, formatted to two decimal places.\n"
   ]
  },
  {
   "cell_type": "markdown",
   "id": "60af3398",
   "metadata": {},
   "source": [
    "## Explanation of the Code\n",
    "\n",
    "1. **Loading the Dataset**: We used the `load_iris()` function from `sklearn.datasets` to load the Iris dataset, which is a popular dataset for classification tasks. It contains 150 samples with 4 features (sepal length, sepal width, petal length, and petal width), and the goal is to classify these into three species of Iris.\n",
    "\n",
    "2. **Train-Test Split**: We split the data into two parts—70% for training and 30% for testing. This is important to evaluate the model's performance on unseen data.\n",
    "\n",
    "3. **Random Forest Classifier**: We used a Random Forest classifier, which is an ensemble method that combines multiple decision trees to improve prediction accuracy.\n",
    "\n",
    "4. **Training the Model**: The model is trained on the training set using the `.fit()` method.\n",
    "\n",
    "5. **Making Predictions**: The trained model makes predictions on the test set using `.predict()`.\n",
    "\n",
    "6. **Evaluating the Model**: Finally, we evaluate the accuracy of the model by comparing the predicted labels to the actual labels using `accuracy_score()`.\n",
    "\n",
    "## Key Takeaways\n",
    "\n",
    "- Machine Learning models require data to learn patterns and relationships.\n",
    "- In **Supervised Learning**, we provide labeled data to the model.\n",
    "- The **Train-Test Split** is crucial for evaluating model performance.\n",
    "\n",
    "Next, we will explore more advanced topics like model evaluation, hyperparameter tuning, and real-world applications in future lessons.\n"
   ]
  }
 ],
 "metadata": {
  "kernelspec": {
   "display_name": "venv",
   "language": "python",
   "name": "python3"
  },
  "language_info": {
   "codemirror_mode": {
    "name": "ipython",
    "version": 3
   },
   "file_extension": ".py",
   "mimetype": "text/x-python",
   "name": "python",
   "nbconvert_exporter": "python",
   "pygments_lexer": "ipython3",
   "version": "3.10.8"
  }
 },
 "nbformat": 4,
 "nbformat_minor": 5
}
