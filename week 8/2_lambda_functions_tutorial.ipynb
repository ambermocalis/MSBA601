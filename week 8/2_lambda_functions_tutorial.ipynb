{
 "cells": [
  {
   "cell_type": "markdown",
   "id": "1db5f358",
   "metadata": {},
   "source": [
    "# Understanding Lambda Functions in Python\n",
    "\n",
    "A **lambda function** in Python is a small, anonymous function defined using the `lambda` keyword. Lambda functions are useful when you need a short, simple function that will be used only once, often within other functions like `map()`, `filter()`, or `apply()`.\n",
    "\n",
    "### Syntax:\n",
    "\n",
    "```python\n",
    "lambda arguments: expression\n",
    "```\n",
    "\n",
    "- **arguments**: These are the inputs to the lambda function (like the parameters of a normal function).\n",
    "- **expression**: This is the calculation or operation the lambda function will perform. It must evaluate to a single value, which will be returned.\n",
    "\n",
    "### Regular Function vs Lambda Function:\n",
    "Let's compare a traditional function and an equivalent lambda function:\n",
    "    "
   ]
  },
  {
   "cell_type": "code",
   "execution_count": null,
   "id": "a51129b7",
   "metadata": {},
   "outputs": [],
   "source": [
    "# Regular function\n",
    "def add(a, b):\n",
    "    return a + b\n",
    "\n",
    "result = add(2, 3)\n",
    "print(result)  # Output: 5\n"
   ]
  },
  {
   "cell_type": "code",
   "execution_count": null,
   "id": "e327ffe4",
   "metadata": {},
   "outputs": [],
   "source": [
    "# Equivalent lambda function\n",
    "add = lambda a, b: a + b\n",
    "\n",
    "result = add(2, 3)\n",
    "print(result)  # Output: 5\n",
    "    "
   ]
  },
  {
   "cell_type": "markdown",
   "id": "817bec77",
   "metadata": {},
   "source": [
    "### Lambda Functions in Pandas\n",
    "\n",
    "Lambda functions are often used in Pandas when we need to apply a simple transformation to each element of a column. The `apply()` function in Pandas allows us to apply such a transformation.\n",
    "\n",
    "#### Example: Doubling values in a DataFrame column using a lambda function\n",
    "    "
   ]
  },
  {
   "cell_type": "code",
   "execution_count": null,
   "id": "6f58db00",
   "metadata": {},
   "outputs": [],
   "source": [
    "import pandas as pd\n",
    "\n",
    "# Create a simple DataFrame\n",
    "df = pd.DataFrame({\n",
    "    'Value': [1, 2, 3, 4]\n",
    "})\n",
    "\n",
    "# Use a lambda function to double each value in the 'Value' column\n",
    "df['Doubled'] = df['Value'].apply(lambda x: x * 2)\n",
    "\n",
    "print(df)\n",
    "    "
   ]
  },
  {
   "cell_type": "markdown",
   "id": "3e800bae",
   "metadata": {},
   "source": [
    "### When to Use Lambda Functions\n",
    "\n",
    "Lambda functions are ideal when you need a simple function for a short period of time, or when using higher-order functions like `map()`, `filter()`, or `apply()`.\n",
    "\n",
    "However, if the function logic becomes more complex or needs multiple statements, it's better to define a regular function using the `def` keyword.\n",
    "    "
   ]
  }
 ],
 "metadata": {},
 "nbformat": 4,
 "nbformat_minor": 5
}
