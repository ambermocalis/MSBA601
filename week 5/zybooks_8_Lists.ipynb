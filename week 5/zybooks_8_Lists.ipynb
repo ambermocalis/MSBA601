{
 "cells": [
  {
   "cell_type": "markdown",
   "id": "5661be76",
   "metadata": {},
   "source": [
    "\n",
    "# Python Lists - Course Module\n",
    "\n",
    "Welcome to the Python Lists module. In this lesson, we'll cover the fundamentals of Python lists, including how to create, access, modify, and manipulate them. Each section will include explanations and practical code examples.\n"
   ]
  },
  {
   "cell_type": "markdown",
   "id": "b721554c",
   "metadata": {},
   "source": [
    "\n",
    "## Creating a List\n",
    "\n",
    "In Python, lists are created using square brackets. Lists can store multiple items in a single variable, and they are ordered, changeable, and allow duplicates.\n"
   ]
  },
  {
   "cell_type": "code",
   "execution_count": null,
   "id": "11d640dd",
   "metadata": {},
   "outputs": [],
   "source": [
    "\n",
    "# Example of creating a list\n",
    "thislist = [\"apple\", \"banana\", \"cherry\"]\n",
    "print(thislist)\n"
   ]
  },
  {
   "cell_type": "markdown",
   "id": "e6f47816",
   "metadata": {},
   "source": [
    "\n",
    "## List Characteristics\n",
    "\n",
    "Lists are:\n",
    "\n",
    "- **Ordered**: Items have a defined order.\n",
    "- **Changeable**: We can add, modify, or remove items.\n",
    "- **Allow Duplicates**: Lists can have items with the same value.\n"
   ]
  },
  {
   "cell_type": "markdown",
   "id": "065bf96a",
   "metadata": {},
   "source": [
    "\n",
    "## Accessing List Items\n",
    "\n",
    "You can access list items by referring to their index. Remember that indexes start from 0.\n"
   ]
  },
  {
   "cell_type": "code",
   "execution_count": null,
   "id": "cf2f40fe",
   "metadata": {},
   "outputs": [],
   "source": [
    "\n",
    "# Access the second item in the list\n",
    "thislist = [\"apple\", \"banana\", \"cherry\"]\n",
    "print(thislist[1])\n",
    "\n",
    "# Access the last item using negative indexing\n",
    "print(thislist[-1])\n"
   ]
  },
  {
   "cell_type": "markdown",
   "id": "79acbc21",
   "metadata": {},
   "source": [
    "\n",
    "## Slicing List Items\n",
    "\n",
    "You can return a range of items by specifying the start and end index. The range will start from the start index and go up to (but not including) the end index.\n"
   ]
  },
  {
   "cell_type": "code",
   "execution_count": 4,
   "id": "41c18c5b",
   "metadata": {},
   "outputs": [
    {
     "name": "stdout",
     "output_type": "stream",
     "text": [
      "['cherry', 'orange', 'kiwi']\n",
      "['apple', 'banana', 'cherry', 'orange']\n",
      "['cherry', 'orange', 'kiwi', 'melon', 'mango']\n"
     ]
    }
   ],
   "source": [
    "\n",
    "# Slicing a list\n",
    "thislist = [\"apple\", \"banana\", \"cherry\", \"orange\", \"kiwi\", \"melon\", \"mango\"]\n",
    "\n",
    "# Get items from index 2 to 5 (not included)\n",
    "print(thislist[2:5])\n",
    "\n",
    "# Slice from the start to index 4\n",
    "print(thislist[:4])\n",
    "\n",
    "# Slice from index 2 to the end\n",
    "print(thislist[2:])\n"
   ]
  },
  {
   "cell_type": "markdown",
   "id": "af83c9e2",
   "metadata": {},
   "source": [
    "\n",
    "## Modifying List Items\n",
    "\n",
    "Lists are mutable, meaning we can modify their contents. You can change a single item or a range of items by assigning new values.\n"
   ]
  },
  {
   "cell_type": "code",
   "execution_count": null,
   "id": "f024868e",
   "metadata": {},
   "outputs": [],
   "source": [
    "\n",
    "# Modify the second item in the list\n",
    "thislist = [\"apple\", \"banana\", \"cherry\"]\n",
    "thislist[1] = \"blackcurrant\"\n",
    "print(thislist)\n",
    "\n",
    "# Modify a range of items\n",
    "thislist = [\"apple\", \"banana\", \"cherry\", \"orange\"]\n",
    "thislist[1:3] = [\"watermelon\", \"kiwi\"]\n",
    "print(thislist)\n"
   ]
  },
  {
   "cell_type": "markdown",
   "id": "eca434f8",
   "metadata": {},
   "source": [
    "\n",
    "## Adding List Items\n",
    "\n",
    "You can add new items to a list using the `append()` method to add to the end, `insert()` to add at a specific index, or `extend()` to add another list or iterable.\n"
   ]
  },
  {
   "cell_type": "code",
   "execution_count": null,
   "id": "94f564d7",
   "metadata": {},
   "outputs": [],
   "source": [
    "\n",
    "# Append an item to the list\n",
    "thislist = [\"apple\", \"banana\", \"cherry\"]\n",
    "thislist.append(\"orange\")\n",
    "print(thislist)\n",
    "\n",
    "# Insert an item at a specific index\n",
    "thislist.insert(1, \"watermelon\")\n",
    "print(thislist)\n",
    "\n",
    "# Extend the list with another list\n",
    "tropical = [\"mango\", \"pineapple\"]\n",
    "thislist.extend(tropical)\n",
    "print(thislist)\n"
   ]
  },
  {
   "cell_type": "markdown",
   "id": "fa90b0f6",
   "metadata": {},
   "source": [
    "\n",
    "## Removing List Items\n",
    "\n",
    "Items can be removed using the `remove()`, `pop()`, `del`, or `clear()` methods.\n"
   ]
  },
  {
   "cell_type": "code",
   "execution_count": null,
   "id": "b1fee12d",
   "metadata": {},
   "outputs": [],
   "source": [
    "\n",
    "# Remove a specific item\n",
    "thislist = [\"apple\", \"banana\", \"cherry\"]\n",
    "thislist.remove(\"banana\")\n",
    "print(thislist)\n",
    "\n",
    "# Remove an item by index\n",
    "thislist.pop(1)\n",
    "print(thislist)\n",
    "\n",
    "# Clear the list\n",
    "thislist.clear()\n",
    "print(thislist)\n"
   ]
  },
  {
   "cell_type": "markdown",
   "id": "3bbd1422",
   "metadata": {},
   "source": [
    "\n",
    "## Looping Through a List\n",
    "\n",
    "You can loop through a list using `for` loops or `while` loops. You can also loop through list indexes.\n"
   ]
  },
  {
   "cell_type": "code",
   "execution_count": 5,
   "id": "3196b817",
   "metadata": {},
   "outputs": [
    {
     "name": "stdout",
     "output_type": "stream",
     "text": [
      "apple\n",
      "banana\n",
      "cherry\n",
      "apple\n",
      "banana\n",
      "cherry\n"
     ]
    }
   ],
   "source": [
    "\n",
    "# Loop through the list items\n",
    "thislist = [\"apple\", \"banana\", \"cherry\"]\n",
    "for x in thislist:\n",
    "    print(x)\n",
    "\n",
    "# Loop through indexes\n",
    "for i in range(len(thislist)):\n",
    "    print(thislist[i])\n"
   ]
  },
  {
   "cell_type": "markdown",
   "id": "3336c216",
   "metadata": {},
   "source": [
    "\n",
    "## List Comprehension\n",
    "\n",
    "List comprehension provides a shorter syntax for creating new lists based on existing lists with optional conditions.\n"
   ]
  },
  {
   "cell_type": "code",
   "execution_count": null,
   "id": "bf9fe28e",
   "metadata": {},
   "outputs": [],
   "source": [
    "\n",
    "# List comprehension to filter items with \"a\" in them\n",
    "fruits = [\"apple\", \"banana\", \"cherry\", \"kiwi\", \"mango\"]\n",
    "newlist = [x for x in fruits if \"a\" in x]\n",
    "print(newlist)\n"
   ]
  },
  {
   "cell_type": "markdown",
   "id": "4a1aa915",
   "metadata": {},
   "source": [
    "\n",
    "## Sorting Lists\n",
    "\n",
    "You can sort lists in ascending or descending order using the `sort()` method. You can also customize the sort with a key function.\n"
   ]
  },
  {
   "cell_type": "code",
   "execution_count": null,
   "id": "fc64d3b9",
   "metadata": {},
   "outputs": [],
   "source": [
    "\n",
    "# Sort the list alphabetically\n",
    "thislist = [\"orange\", \"mango\", \"kiwi\", \"pineapple\", \"banana\"]\n",
    "thislist.sort()\n",
    "print(thislist)\n",
    "\n",
    "# Sort the list in descending order\n",
    "thislist.sort(reverse=True)\n",
    "print(thislist)"
   ]
  },
  {
   "cell_type": "markdown",
   "id": "1f1ec537",
   "metadata": {},
   "source": [
    "\n",
    "## Copying Lists\n",
    "\n",
    "You can copy a list using the `copy()`, `list()`, or slice operator `[:]`.\n"
   ]
  },
  {
   "cell_type": "code",
   "execution_count": null,
   "id": "2851e67c",
   "metadata": {},
   "outputs": [],
   "source": [
    "\n",
    "# Copy a list with the copy() method\n",
    "thislist = [\"apple\", \"banana\", \"cherry\"]\n",
    "mylist = thislist.copy()\n",
    "print(mylist)\n",
    "\n",
    "# Copy a list with the list() method\n",
    "mylist = list(thislist)\n",
    "print(mylist)\n",
    "\n",
    "# Copy a list with the slice operator\n",
    "mylist = thislist[:]\n",
    "print(mylist)\n"
   ]
  },
  {
   "cell_type": "markdown",
   "id": "b10f1347",
   "metadata": {},
   "source": [
    "\n",
    "## Joining Lists\n",
    "\n",
    "You can join lists using the `+` operator, a loop, or the `extend()` method.\n"
   ]
  },
  {
   "cell_type": "code",
   "execution_count": null,
   "id": "2f233476",
   "metadata": {},
   "outputs": [],
   "source": [
    "\n",
    "# Join two lists with the + operator\n",
    "list1 = [\"a\", \"b\", \"c\"]\n",
    "list2 = [1, 2, 3]\n",
    "list3 = list1 + list2\n",
    "print(list3)\n",
    "\n",
    "# Join lists by appending items from one list to another\n",
    "for x in list2:\n",
    "    list1.append(x)\n",
    "print(list1)\n",
    "\n",
    "# Join lists using the extend() method\n",
    "list1.extend(list2)\n",
    "print(list1)\n"
   ]
  },
  {
   "cell_type": "markdown",
   "id": "c717f6fb",
   "metadata": {},
   "source": [
    "\n",
    "## List Nesting\n",
    "\n",
    "Since a list can contain any type of object as an element, and a list is itself an object, a list can contain another list as an element. Such embedding of a list inside another list is known as list nesting. Ex: The code my_list = [[5, 13], [50, 75, 100]] creates a list with two elements that are each another list."
   ]
  },
  {
   "cell_type": "code",
   "execution_count": null,
   "id": "c7c6b9e0",
   "metadata": {},
   "outputs": [],
   "source": [
    "\n",
    "my_list = [[10, 20], [30, 40]]\n",
    "print(f'First nested list: {my_list[0]}')\n",
    "print(f'Second nested list: {my_list[1]}')\n",
    "print(f'Element 0 of first nested list: {my_list[0][0]}')"
   ]
  },
  {
   "cell_type": "code",
   "execution_count": 1,
   "id": "e5e32e0c",
   "metadata": {},
   "outputs": [
    {
     "name": "stdout",
     "output_type": "stream",
     "text": [
      "[12, 10, 4, -2, -6, -7, -39]\n"
     ]
    }
   ],
   "source": [
    "\n",
    "user_input = input()\n",
    "\n",
    "numbers = user_input.split()\n",
    "\n",
    "nums = []\n",
    "for number in numbers:\n",
    "    if number in numbers:\n",
    "        nums.append(int(number))\n",
    "\n",
    "nums.sort(reverse=True)\n",
    "\n",
    "print(nums)\n"
   ]
  },
  {
   "cell_type": "code",
   "execution_count": null,
   "id": "2903079c",
   "metadata": {},
   "outputs": [],
   "source": [
    "user_input = input()\n",
    "\n",
    "numbers = user_input.split()\n",
    "\n",
    "nums = []\n",
    "for number in numbers:\n",
    "    if number in numbers:\n",
    "        nums.append(int(number))\n",
    "\n",
    "print(nums)\n",
    "user_list = [num for num in numbers if num < 0]\n",
    "#user_list = nums\n",
    "#user_list.sort(reverse=True)\n",
    "\n",
    "print(user_list)\n",
    "\n",
    "\n"
   ]
  },
  {
   "cell_type": "code",
   "execution_count": 3,
   "id": "42f9bc6d",
   "metadata": {},
   "outputs": [
    {
     "name": "stdout",
     "output_type": "stream",
     "text": [
      "[12, 4, 0, -6]\n",
      "[12, 4, 0, -6]\n"
     ]
    }
   ],
   "source": [
    "nums = [12, 4, 0, -2, -6]\n",
    "\n",
    "for num in nums:\n",
    "    if num < 0:\n",
    "        nums.remove(num)\n",
    "        print(nums)\n",
    "\n",
    "print(nums)"
   ]
  },
  {
   "cell_type": "code",
   "execution_count": null,
   "id": "f98542ef",
   "metadata": {},
   "outputs": [],
   "source": []
  }
 ],
 "metadata": {
  "kernelspec": {
   "display_name": "venv",
   "language": "python",
   "name": "python3"
  },
  "language_info": {
   "codemirror_mode": {
    "name": "ipython",
    "version": 3
   },
   "file_extension": ".py",
   "mimetype": "text/x-python",
   "name": "python",
   "nbconvert_exporter": "python",
   "pygments_lexer": "ipython3",
   "version": "3.10.8"
  }
 },
 "nbformat": 4,
 "nbformat_minor": 5
}
