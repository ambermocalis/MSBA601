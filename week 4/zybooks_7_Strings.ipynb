{
 "cells": [
  {
   "cell_type": "markdown",
   "id": "e9fa48c4",
   "metadata": {},
   "source": [
    "\n",
    "# Python String Operations - Course Module\n",
    "\n",
    "Welcome to the Python String Operations module. In this lesson, we'll explore various string operations in Python including looping through strings, slicing, modifying, concatenating, formatting, handling escape characters, and more. Each section will be explained, followed by practical code examples.\n"
   ]
  },
  {
   "cell_type": "markdown",
   "id": "3e87a7ab",
   "metadata": {},
   "source": [
    "\n",
    "## Looping Through a String\n",
    "\n",
    "Strings in Python can be treated like arrays of characters. This means we can loop through each character in a string using a `for` loop. Below is an example that demonstrates looping through each character in the word \"banana\".\n"
   ]
  },
  {
   "cell_type": "code",
   "execution_count": 1,
   "id": "3d89aed1",
   "metadata": {},
   "outputs": [
    {
     "name": "stdout",
     "output_type": "stream",
     "text": [
      "b\n",
      "a\n",
      "n\n",
      "a\n",
      "n\n",
      "a\n"
     ]
    }
   ],
   "source": [
    "\n",
    "# Looping Through a String\n",
    "for x in \"banana\":\n",
    "    print(x)\n"
   ]
  },
  {
   "cell_type": "markdown",
   "id": "64bcef18",
   "metadata": {},
   "source": [
    "\n",
    "## String Length\n",
    "\n",
    "To find out how many characters are in a string, we can use the built-in `len()` function. This function returns the length of the string.\n"
   ]
  },
  {
   "cell_type": "code",
   "execution_count": 2,
   "id": "720a9b6d",
   "metadata": {},
   "outputs": [
    {
     "name": "stdout",
     "output_type": "stream",
     "text": [
      "13\n"
     ]
    }
   ],
   "source": [
    "\n",
    "# String Length\n",
    "a = \"Hello, World!\"\n",
    "print(len(a))\n"
   ]
  },
  {
   "cell_type": "markdown",
   "id": "2f7b8d0e",
   "metadata": {},
   "source": [
    "\n",
    "## Checking for Substrings\n",
    "\n",
    "In Python, we can check if a specific word or character exists within a string using the `in` keyword. This is useful for filtering or conditionally executing code based on the presence of a substring.\n"
   ]
  },
  {
   "cell_type": "code",
   "execution_count": 3,
   "id": "bb69b3da",
   "metadata": {},
   "outputs": [
    {
     "name": "stdout",
     "output_type": "stream",
     "text": [
      "True\n",
      "Yes, 'free' is present.\n"
     ]
    }
   ],
   "source": [
    "\n",
    "# Check String\n",
    "txt = \"The best things in life are free!\"\n",
    "print(\"free\" in txt)\n",
    "\n",
    "# Use it in an if statement:\n",
    "if \"free\" in txt:\n",
    "    print(\"Yes, 'free' is present.\")\n"
   ]
  },
  {
   "cell_type": "markdown",
   "id": "7e894e6f",
   "metadata": {},
   "source": [
    "\n",
    "## Checking if a Substring is NOT in a String\n",
    "\n",
    "Similarly, we can check if a string does not contain a substring using the `not in` keyword.\n"
   ]
  },
  {
   "cell_type": "code",
   "execution_count": 4,
   "id": "5187c1f3",
   "metadata": {},
   "outputs": [
    {
     "name": "stdout",
     "output_type": "stream",
     "text": [
      "True\n",
      "No, 'expensive' is NOT present.\n"
     ]
    }
   ],
   "source": [
    "\n",
    "# Check if NOT\n",
    "txt = \"The best things in life are free!\"\n",
    "print(\"expensive\" not in txt)\n",
    "\n",
    "# Use it in an if statement:\n",
    "if \"expensive\" not in txt:\n",
    "    print(\"No, 'expensive' is NOT present.\")\n"
   ]
  },
  {
   "cell_type": "markdown",
   "id": "f726e124",
   "metadata": {},
   "source": [
    "\n",
    "## Slicing Strings\n",
    "\n",
    "You can extract a specific part of a string by specifying a range of indices. This process is called slicing. Below are examples of slicing strings in Python.\n"
   ]
  },
  {
   "cell_type": "code",
   "execution_count": 7,
   "id": "1c19e967",
   "metadata": {},
   "outputs": [
    {
     "name": "stdout",
     "output_type": "stream",
     "text": [
      "llo, World!\n",
      "Hello\n",
      "llo, World!\n",
      "orl\n"
     ]
    }
   ],
   "source": [
    "\n",
    "# Slicing Strings\n",
    "b = \"Hello, World!\"\n",
    "\n",
    "# Get characters from position 2 to 5 (not included):\n",
    "print(b[2:50])\n",
    "\n",
    "# Slice from the start:\n",
    "print(b[:5])\n",
    "\n",
    "# Slice to the end:\n",
    "print(b[2:])\n",
    "\n",
    "# Negative indexing:\n",
    "print(b[-5:-2])\n"
   ]
  },
  {
   "cell_type": "markdown",
   "id": "ce476b7d",
   "metadata": {},
   "source": [
    "\n",
    "## Modifying Strings\n",
    "\n",
    "Python provides several built-in methods for modifying strings. You can convert to uppercase, lowercase, remove whitespace, replace characters, and split strings into lists.\n"
   ]
  },
  {
   "cell_type": "code",
   "execution_count": 11,
   "id": "60ddaf0f",
   "metadata": {},
   "outputs": [
    {
     "name": "stdout",
     "output_type": "stream",
     "text": [
      " HELLO, WORLD! \n",
      " hello, world! \n",
      "Hello, World!\n",
      " Jello, World! \n",
      "[' He', '', 'o, Wor', 'd! ']\n"
     ]
    }
   ],
   "source": [
    "\n",
    "# Modify Strings\n",
    "a = \" Hello, World! \"\n",
    "\n",
    "# Upper case\n",
    "print(a.upper())\n",
    "\n",
    "# Lower case\n",
    "print(a.lower())\n",
    "\n",
    "# Remove whitespace\n",
    "print(a.strip())\n",
    "\n",
    "# Replace string\n",
    "print(a.replace(\"H\", \"J\"))\n",
    "\n",
    "# Split string\n",
    "print(a.split(\"l\"))\n"
   ]
  },
  {
   "cell_type": "markdown",
   "id": "4ce2ef1e",
   "metadata": {},
   "source": [
    "\n",
    "## String Concatenation\n",
    "\n",
    "You can combine multiple strings into one by using the `+` operator. This is called concatenation. Below are examples of simple concatenation and adding a space between two strings.\n"
   ]
  },
  {
   "cell_type": "code",
   "execution_count": 12,
   "id": "a7e6b614",
   "metadata": {},
   "outputs": [
    {
     "name": "stdout",
     "output_type": "stream",
     "text": [
      "HelloWorld\n",
      "Hello World\n"
     ]
    }
   ],
   "source": [
    "\n",
    "# String Concatenation\n",
    "a = \"Hello\"\n",
    "b = \"World\"\n",
    "\n",
    "# Merge two strings\n",
    "c = a + b\n",
    "print(c)\n",
    "\n",
    "# Merge with space\n",
    "c = a + \" \" + b\n",
    "print(c)\n"
   ]
  },
  {
   "cell_type": "markdown",
   "id": "b4d4b051",
   "metadata": {},
   "source": [
    "\n",
    "## String Formatting with F-Strings\n",
    "\n",
    "F-strings provide a powerful way to format strings in Python. You can insert variables and even perform operations inside curly braces `{}` in a string prefixed by an `f`.\n"
   ]
  },
  {
   "cell_type": "code",
   "execution_count": 13,
   "id": "42224100",
   "metadata": {},
   "outputs": [
    {
     "name": "stdout",
     "output_type": "stream",
     "text": [
      "My name is John, I am 36\n",
      "The price is 59.00 dollars\n",
      "The total is 1180 dollars\n"
     ]
    }
   ],
   "source": [
    "\n",
    "# String Formatting with F-Strings\n",
    "\n",
    "age = 36\n",
    "txt = f\"My name is John, I am {age}\"\n",
    "print(txt)\n",
    "\n",
    "# Placeholder with modifier\n",
    "price = 59\n",
    "txt = f\"The price is {price:.2f} dollars\"\n",
    "print(txt)\n",
    "\n",
    "# Perform math operations inside placeholders\n",
    "txt = f\"The total is {20 * 59} dollars\"\n",
    "print(txt)\n"
   ]
  },
  {
   "cell_type": "markdown",
   "id": "26f70ad4",
   "metadata": {},
   "source": [
    "\n",
    "## Escape Characters\n",
    "\n",
    "Certain characters, like quotes and backslashes, need to be \"escaped\" inside a string to avoid syntax errors. You can escape these characters by using a backslash `\\` before the character.\n"
   ]
  },
  {
   "cell_type": "code",
   "execution_count": 16,
   "id": "4f5fa06e",
   "metadata": {},
   "outputs": [
    {
     "name": "stdout",
     "output_type": "stream",
     "text": [
      "We are the so-called \"Vikings\" from the north.\n",
      "Single quote: It's a great day!\n",
      "Backslash: This is a backslash \\\n",
      "New line: Hello\n",
      "World\n",
      "Tab: Hello\tWorld\n"
     ]
    }
   ],
   "source": [
    "\n",
    "# Escape Characters\n",
    "txt = \"We are the so-called \\\"Vikings\\\" from the north.\"\n",
    "print(txt)\n",
    "\n",
    "# Examples of other escape characters:\n",
    "print(\"Single quote: It's a great day!\")\n",
    "print(\"Backslash: This is a backslash \\\\\")\n",
    "print(\"New line: Hello\\nWorld\")\n",
    "print(\"Tab: Hello\\tWorld\")\n"
   ]
  },
  {
   "cell_type": "markdown",
   "id": "b918d2d1",
   "metadata": {},
   "source": [
    "\n",
    "## Python String Methods\n",
    "\n",
    "Python provides a variety of built-in methods for manipulating strings. Below are some commonly used string methods along with their descriptions.\n"
   ]
  },
  {
   "cell_type": "code",
   "execution_count": 25,
   "id": "f77a9e27",
   "metadata": {},
   "outputs": [
    {
     "name": "stdout",
     "output_type": "stream",
     "text": [
      "Hello, world!\n",
      "3\n",
      "7\n",
      "False\n",
      "apple banana cherry\n",
      "Hi, World!\n",
      "['Hello,', 'World!']\n",
      "True\n"
     ]
    }
   ],
   "source": [
    "\n",
    "# Common String Methods\n",
    "txt = \"Hello, World!\"\n",
    "\n",
    "# capitalize()\n",
    "print(txt.capitalize())\n",
    "\n",
    "# count()\n",
    "print(txt.count(\"l\"))\n",
    "\n",
    "# find()\n",
    "print(txt.find(\"World\"))\n",
    "\n",
    "# isalpha()\n",
    "print(txt.isalpha())  # Returns False because of space and punctuation\n",
    "\n",
    "# join()\n",
    "my_list = [\"apple\", \"banana\", \"cherry\"]\n",
    "print(\" \".join(my_list))\n",
    "\n",
    "# replace()\n",
    "print(txt.replace(\"Hello\", \"Hi\"))\n",
    "\n",
    "# split()\n",
    "print(txt.split( ))\n",
    "\n",
    "# startswith()\n",
    "print(txt.startswith(\"Hello\"))\n"
   ]
  },
  {
   "cell_type": "code",
   "execution_count": null,
   "id": "ae3b893f",
   "metadata": {},
   "outputs": [],
   "source": []
  }
 ],
 "metadata": {
  "kernelspec": {
   "display_name": "venv",
   "language": "python",
   "name": "python3"
  },
  "language_info": {
   "codemirror_mode": {
    "name": "ipython",
    "version": 3
   },
   "file_extension": ".py",
   "mimetype": "text/x-python",
   "name": "python",
   "nbconvert_exporter": "python",
   "pygments_lexer": "ipython3",
   "version": "3.10.8"
  }
 },
 "nbformat": 4,
 "nbformat_minor": 5
}
