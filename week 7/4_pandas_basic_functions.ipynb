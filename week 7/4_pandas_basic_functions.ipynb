{
 "cells": [
  {
   "cell_type": "markdown",
   "id": "ddaccf04",
   "metadata": {},
   "source": [
    "# Basic Pandas Functions with Examples"
   ]
  },
  {
   "cell_type": "markdown",
   "id": "e7b2fb39",
   "metadata": {},
   "source": [
    "## 1. Data Loading and Saving"
   ]
  },
  {
   "cell_type": "code",
   "execution_count": 1,
   "id": "4d00ad96",
   "metadata": {},
   "outputs": [
    {
     "name": "stdout",
     "output_type": "stream",
     "text": [
      "      Name  Age         City  Salary\n",
      "0    Alice   23     New York   70000\n",
      "1      Bob   35  Los Angeles   80000\n",
      "2  Charlie   45      Chicago  120000\n",
      "3    David   22      Houston   90000\n",
      "4      Eva   30      Phoenix   85000\n"
     ]
    }
   ],
   "source": [
    "import pandas as pd\n",
    "\n",
    "# Create a sample DataFrame\n",
    "sample_data = {\n",
    "    'Name': ['Alice', 'Bob', 'Charlie', 'David', 'Eva'],\n",
    "    'Age': [23, 35, 45, 22, 30],\n",
    "    'City': ['New York', 'Los Angeles', 'Chicago', 'Houston', 'Phoenix'],\n",
    "    'Salary': [70000, 80000, 120000, 90000, 85000]\n",
    "}\n",
    "\n",
    "# Convert the dictionary to a DataFrame\n",
    "df = pd.DataFrame(sample_data)\n",
    "\n",
    "# Display the DataFrame\n",
    "print(df)\n"
   ]
  },
  {
   "cell_type": "code",
   "execution_count": 2,
   "id": "d173a911",
   "metadata": {},
   "outputs": [
    {
     "data": {
      "text/html": [
       "<div>\n",
       "<style scoped>\n",
       "    .dataframe tbody tr th:only-of-type {\n",
       "        vertical-align: middle;\n",
       "    }\n",
       "\n",
       "    .dataframe tbody tr th {\n",
       "        vertical-align: top;\n",
       "    }\n",
       "\n",
       "    .dataframe thead th {\n",
       "        text-align: right;\n",
       "    }\n",
       "</style>\n",
       "<table border=\"1\" class=\"dataframe\">\n",
       "  <thead>\n",
       "    <tr style=\"text-align: right;\">\n",
       "      <th></th>\n",
       "      <th>Name</th>\n",
       "      <th>Age</th>\n",
       "      <th>City</th>\n",
       "      <th>Salary</th>\n",
       "    </tr>\n",
       "  </thead>\n",
       "  <tbody>\n",
       "    <tr>\n",
       "      <th>0</th>\n",
       "      <td>Alice</td>\n",
       "      <td>23</td>\n",
       "      <td>New York</td>\n",
       "      <td>70000</td>\n",
       "    </tr>\n",
       "    <tr>\n",
       "      <th>1</th>\n",
       "      <td>Bob</td>\n",
       "      <td>35</td>\n",
       "      <td>Los Angeles</td>\n",
       "      <td>80000</td>\n",
       "    </tr>\n",
       "    <tr>\n",
       "      <th>2</th>\n",
       "      <td>Charlie</td>\n",
       "      <td>45</td>\n",
       "      <td>Chicago</td>\n",
       "      <td>120000</td>\n",
       "    </tr>\n",
       "    <tr>\n",
       "      <th>3</th>\n",
       "      <td>David</td>\n",
       "      <td>22</td>\n",
       "      <td>Houston</td>\n",
       "      <td>90000</td>\n",
       "    </tr>\n",
       "    <tr>\n",
       "      <th>4</th>\n",
       "      <td>Eva</td>\n",
       "      <td>30</td>\n",
       "      <td>Phoenix</td>\n",
       "      <td>85000</td>\n",
       "    </tr>\n",
       "  </tbody>\n",
       "</table>\n",
       "</div>"
      ],
      "text/plain": [
       "      Name  Age         City  Salary\n",
       "0    Alice   23     New York   70000\n",
       "1      Bob   35  Los Angeles   80000\n",
       "2  Charlie   45      Chicago  120000\n",
       "3    David   22      Houston   90000\n",
       "4      Eva   30      Phoenix   85000"
      ]
     },
     "execution_count": 2,
     "metadata": {},
     "output_type": "execute_result"
    }
   ],
   "source": [
    "# Display the DataFrame\n",
    "df\n"
   ]
  },
  {
   "cell_type": "markdown",
   "id": "7e5b6237",
   "metadata": {},
   "source": [
    "## 2. Data Inspection"
   ]
  },
  {
   "cell_type": "code",
   "execution_count": 3,
   "id": "97d3d3ad",
   "metadata": {},
   "outputs": [
    {
     "name": "stdout",
     "output_type": "stream",
     "text": [
      "Displaying the first few rows of the DataFrame:\n",
      "      Name  Age         City  Salary\n",
      "0    Alice   23     New York   70000\n",
      "1      Bob   35  Los Angeles   80000\n",
      "2  Charlie   45      Chicago  120000\n",
      "3    David   22      Houston   90000\n",
      "4      Eva   30      Phoenix   85000\n",
      "############################################################\n",
      "Summary statistics of the DataFrame:\n",
      "             Age         Salary\n",
      "count   5.000000       5.000000\n",
      "mean   31.000000   89000.000000\n",
      "std     9.460444   18841.443681\n",
      "min    22.000000   70000.000000\n",
      "25%    23.000000   80000.000000\n",
      "50%    30.000000   85000.000000\n",
      "75%    35.000000   90000.000000\n",
      "max    45.000000  120000.000000\n",
      "############################################################\n",
      "Information about the DataFrame (including data types and non-null counts):\n",
      "<class 'pandas.core.frame.DataFrame'>\n",
      "RangeIndex: 5 entries, 0 to 4\n",
      "Data columns (total 4 columns):\n",
      " #   Column  Non-Null Count  Dtype \n",
      "---  ------  --------------  ----- \n",
      " 0   Name    5 non-null      object\n",
      " 1   Age     5 non-null      int64 \n",
      " 2   City    5 non-null      object\n",
      " 3   Salary  5 non-null      int64 \n",
      "dtypes: int64(2), object(2)\n",
      "memory usage: 292.0+ bytes\n",
      "############################################################\n",
      "The shape of the DataFrame (rows, columns):\n",
      "(5, 4)\n",
      "############################################################\n",
      "Column names of the DataFrame:\n",
      "Index(['Name', 'Age', 'City', 'Salary'], dtype='object')\n",
      "############################################################\n",
      "Data types of each column in the DataFrame:\n",
      "Name      object\n",
      "Age        int64\n",
      "City      object\n",
      "Salary     int64\n",
      "dtype: object\n",
      "############################################################\n"
     ]
    }
   ],
   "source": [
    "# Display the first few rows\n",
    "print(\"Displaying the first few rows of the DataFrame:\")\n",
    "print(df.head())\n",
    "print(\"############################################################\")\n",
    "\n",
    "# Show summary statistics\n",
    "print(\"Summary statistics of the DataFrame:\")\n",
    "print(df.describe())\n",
    "print(\"############################################################\")\n",
    "\n",
    "# Show DataFrame info\n",
    "print(\"Information about the DataFrame (including data types and non-null counts):\")\n",
    "df.info()  # info() directly prints the output, no need for print()\n",
    "print(\"############################################################\")\n",
    "\n",
    "# Check the DataFrame's shape\n",
    "print(\"The shape of the DataFrame (rows, columns):\")\n",
    "print(df.shape)\n",
    "print(\"############################################################\")\n",
    "\n",
    "# Display column names\n",
    "print(\"Column names of the DataFrame:\")\n",
    "print(df.columns)\n",
    "print(\"############################################################\")\n",
    "\n",
    "# Check the data types of each column\n",
    "print(\"Data types of each column in the DataFrame:\")\n",
    "print(df.dtypes)\n",
    "print(\"############################################################\")\n",
    "\n"
   ]
  },
  {
   "cell_type": "markdown",
   "id": "63cde7fd",
   "metadata": {},
   "source": [
    "## 3. Data Selection and Filtering"
   ]
  },
  {
   "cell_type": "code",
   "execution_count": 4,
   "id": "f62588a9",
   "metadata": {},
   "outputs": [
    {
     "name": "stdout",
     "output_type": "stream",
     "text": [
      "Selecting the 'City' column:\n",
      "0       New York\n",
      "1    Los Angeles\n",
      "2        Chicago\n",
      "3        Houston\n",
      "4        Phoenix\n",
      "Name: City, dtype: object\n",
      "############################################################\n",
      "Selecting multiple columns: 'Name' and 'Age':\n",
      "      Name  Age\n",
      "0    Alice   23\n",
      "1      Bob   35\n",
      "2  Charlie   45\n",
      "3    David   22\n",
      "4      Eva   30\n",
      "############################################################\n",
      "Selecting a row by index (index 0 corresponds to Alice):\n",
      "Name         Alice\n",
      "Age             23\n",
      "City      New York\n",
      "Salary       70000\n",
      "Name: 0, dtype: object\n",
      "############################################################\n",
      "Selecting specific columns for row with label/index 1 (which is Bob):\n",
      "Name              Bob\n",
      "City      Los Angeles\n",
      "Salary          80000\n",
      "Name: 1, dtype: object\n",
      "############################################################\n",
      "Accessing a single value by row and column position (Row 0, Column 0):\n",
      "Alice\n",
      "############################################################\n"
     ]
    }
   ],
   "source": [
    "# Select a column\n",
    "print(\"Selecting the 'City' column:\")\n",
    "column = df['City']\n",
    "print(column)\n",
    "print(\"############################################################\")\n",
    "\n",
    "# Select multiple columns\n",
    "print(\"Selecting multiple columns: 'Name' and 'Age':\")\n",
    "multiple_columns = df[['Name', 'Age']]\n",
    "print(multiple_columns)\n",
    "print(\"############################################################\")\n",
    "\n",
    "# Select rows by index\n",
    "print(\"Selecting a row by index (index 0 corresponds to Alice):\")\n",
    "row = df.iloc[0]  # Alice is at index 0\n",
    "print(row)\n",
    "print(\"############################################################\")\n",
    "\n",
    "# Select rows by label\n",
    "print(\"Selecting specific columns for row with label/index 1 (which is Bob):\")\n",
    "label_row = df.loc[1, ['Name', 'City', 'Salary']]  # Row 1 is Bob\n",
    "print(label_row)\n",
    "print(\"############################################################\")\n",
    "\n",
    "# Access a single value by row and column position\n",
    "print(\"Accessing a single value by row and column position (Row 0, Column 0):\")\n",
    "value = df.iat[0, 0]\n",
    "print(value)\n",
    "print(\"############################################################\")\n",
    "\n"
   ]
  },
  {
   "cell_type": "markdown",
   "id": "732643b6",
   "metadata": {},
   "source": [
    "## 4. Data Cleaning"
   ]
  },
  {
   "cell_type": "code",
   "execution_count": 5,
   "id": "9ba8de32",
   "metadata": {},
   "outputs": [
    {
     "name": "stdout",
     "output_type": "stream",
     "text": [
      "      Name   Age         City    Salary\n",
      "0    Alice  23.0     New York   70000.0\n",
      "1      Bob   NaN  Los Angeles   80000.0\n",
      "2  Charlie  45.0      Chicago  120000.0\n",
      "3    David  22.0      Houston       NaN\n",
      "4      Eva  30.0      Phoenix   85000.0\n",
      "5      Bob   NaN  Los Angeles   80000.0\n"
     ]
    }
   ],
   "source": [
    "import pandas as pd\n",
    "import numpy as np\n",
    "\n",
    "# Create a sample DataFrame with missing values, specific values to replace, and duplicate rows\n",
    "sample_data = {\n",
    "    'Name': ['Alice', 'Bob', 'Charlie', 'David', 'Eva', 'Bob'],\n",
    "    'Age': [23, np.nan, 45, 22, 30, np.nan],\n",
    "    'City': ['New York', 'Los Angeles', 'Chicago', 'Houston', 'Phoenix', 'Los Angeles'],\n",
    "    'Salary': [70000, 80000, 120000, np.nan, 85000, 80000]\n",
    "}\n",
    "\n",
    "df = pd.DataFrame(sample_data)\n",
    "\n",
    "# Display the DataFrame\n",
    "print(df)"
   ]
  },
  {
   "cell_type": "code",
   "execution_count": 7,
   "id": "579826bf",
   "metadata": {},
   "outputs": [
    {
     "name": "stdout",
     "output_type": "stream",
     "text": [
      "Removing rows with missing values (NaN):\n",
      "      Name   Age      City    Salary\n",
      "0    Alice  23.0  New York   70000.0\n",
      "2  Charlie  45.0   Chicago  120000.0\n",
      "4      Eva  30.0   Phoenix   85000.0\n",
      "############################################################\n",
      "Filling missing values (NaN) with 0:\n",
      "      Name   Age         City    Salary\n",
      "0    Alice  23.0     New York   70000.0\n",
      "1      Bob   0.0  Los Angeles   80000.0\n",
      "2  Charlie  45.0      Chicago  120000.0\n",
      "3    David  22.0      Houston   50000.0\n",
      "4      Eva  30.0      Phoenix   85000.0\n",
      "5      Bob   0.0  Los Angeles   80000.0\n",
      "############################################################\n",
      "Replacing occurrences of 'old_value' with 'new_value':\n",
      "      Name   Age         City    Salary\n",
      "0    Alice  23.0     New York   70000.0\n",
      "1      Bob   NaN  Los Angeles   80000.0\n",
      "2  Charlie  45.0      Chicago  120000.0\n",
      "3     Dave  22.0      Houston       NaN\n",
      "4      Eva  30.0      Phoenix   85000.0\n",
      "5      Bob   NaN  Los Angeles   80000.0\n",
      "############################################################\n",
      "Removing duplicate rows from the DataFrame:\n",
      "      Name   Age         City    Salary\n",
      "0    Alice  23.0     New York   70000.0\n",
      "1      Bob   NaN  Los Angeles   80000.0\n",
      "2  Charlie  45.0      Chicago  120000.0\n",
      "3    David  22.0      Houston       NaN\n",
      "4      Eva  30.0      Phoenix   85000.0\n",
      "############################################################\n"
     ]
    }
   ],
   "source": [
    "# Remove missing values\n",
    "print(\"Removing rows with missing values (NaN):\")\n",
    "df_cleaned = df.dropna()\n",
    "print(df_cleaned)\n",
    "print(\"############################################################\")\n",
    "\n",
    "# Fill missing values\n",
    "print(\"Filling missing values (NaN) with 0:\")\n",
    "df_filled = df.fillna(0)\n",
    "df_filled['Salary'] = df['Salary'].fillna(50000)\n",
    "print(df_filled)\n",
    "print(\"############################################################\")\n",
    "\n",
    "# Replace specific values\n",
    "print(\"Replacing occurrences of 'old_value' with 'new_value':\")\n",
    "df_replaced = df.replace('David', 'Dave')\n",
    "print(df_replaced)\n",
    "print(\"############################################################\")\n",
    "\n",
    "# Remove duplicate rows\n",
    "print(\"Removing duplicate rows from the DataFrame:\")\n",
    "df_no_duplicates = df.drop_duplicates()\n",
    "print(df_no_duplicates)\n",
    "print(\"############################################################\")\n"
   ]
  },
  {
   "cell_type": "markdown",
   "id": "931644e2",
   "metadata": {},
   "source": [
    "## 5. Data Aggregation"
   ]
  },
  {
   "cell_type": "code",
   "execution_count": 8,
   "id": "9845276a",
   "metadata": {},
   "outputs": [
    {
     "name": "stdout",
     "output_type": "stream",
     "text": [
      "  Department  Employees  Salary    Bonus\n",
      "0         HR          5   50000   5000.0\n",
      "1    Finance         10   60000   6000.0\n",
      "2         IT         25  120000  12000.0\n",
      "3         HR          8   55000   5500.0\n",
      "4         IT         15  110000  11000.0\n",
      "5    Finance         12   65000      NaN\n",
      "6         HR          9   52000   5200.0\n"
     ]
    }
   ],
   "source": [
    "import pandas as pd\n",
    "import numpy as np\n",
    "\n",
    "# Create a sample DataFrame for aggregation and grouping examples\n",
    "sample_data = {\n",
    "    'Department': ['HR', 'Finance', 'IT', 'HR', 'IT', 'Finance', 'HR'],\n",
    "    'Employees': [5, 10, 25, 8, 15, 12, 9],\n",
    "    'Salary': [50000, 60000, 120000, 55000, 110000, 65000, 52000],\n",
    "    'Bonus': [5000, 6000, 12000, 5500, 11000, np.nan, 5200]\n",
    "}\n",
    "\n",
    "df = pd.DataFrame(sample_data)\n",
    "\n",
    "# Display the DataFrame\n",
    "print(df)"
   ]
  },
  {
   "cell_type": "code",
   "execution_count": 9,
   "id": "ab7f176a",
   "metadata": {},
   "outputs": [
    {
     "data": {
      "text/html": [
       "<div>\n",
       "<style scoped>\n",
       "    .dataframe tbody tr th:only-of-type {\n",
       "        vertical-align: middle;\n",
       "    }\n",
       "\n",
       "    .dataframe tbody tr th {\n",
       "        vertical-align: top;\n",
       "    }\n",
       "\n",
       "    .dataframe thead th {\n",
       "        text-align: right;\n",
       "    }\n",
       "</style>\n",
       "<table border=\"1\" class=\"dataframe\">\n",
       "  <thead>\n",
       "    <tr style=\"text-align: right;\">\n",
       "      <th></th>\n",
       "      <th>Department</th>\n",
       "      <th>Employees</th>\n",
       "      <th>Salary</th>\n",
       "      <th>Bonus</th>\n",
       "    </tr>\n",
       "  </thead>\n",
       "  <tbody>\n",
       "    <tr>\n",
       "      <th>0</th>\n",
       "      <td>HR</td>\n",
       "      <td>5</td>\n",
       "      <td>50000</td>\n",
       "      <td>5000.0</td>\n",
       "    </tr>\n",
       "    <tr>\n",
       "      <th>1</th>\n",
       "      <td>Finance</td>\n",
       "      <td>10</td>\n",
       "      <td>60000</td>\n",
       "      <td>6000.0</td>\n",
       "    </tr>\n",
       "    <tr>\n",
       "      <th>2</th>\n",
       "      <td>IT</td>\n",
       "      <td>25</td>\n",
       "      <td>120000</td>\n",
       "      <td>12000.0</td>\n",
       "    </tr>\n",
       "    <tr>\n",
       "      <th>3</th>\n",
       "      <td>HR</td>\n",
       "      <td>8</td>\n",
       "      <td>55000</td>\n",
       "      <td>5500.0</td>\n",
       "    </tr>\n",
       "    <tr>\n",
       "      <th>4</th>\n",
       "      <td>IT</td>\n",
       "      <td>15</td>\n",
       "      <td>110000</td>\n",
       "      <td>11000.0</td>\n",
       "    </tr>\n",
       "    <tr>\n",
       "      <th>5</th>\n",
       "      <td>Finance</td>\n",
       "      <td>12</td>\n",
       "      <td>65000</td>\n",
       "      <td>NaN</td>\n",
       "    </tr>\n",
       "    <tr>\n",
       "      <th>6</th>\n",
       "      <td>HR</td>\n",
       "      <td>9</td>\n",
       "      <td>52000</td>\n",
       "      <td>5200.0</td>\n",
       "    </tr>\n",
       "  </tbody>\n",
       "</table>\n",
       "</div>"
      ],
      "text/plain": [
       "  Department  Employees  Salary    Bonus\n",
       "0         HR          5   50000   5000.0\n",
       "1    Finance         10   60000   6000.0\n",
       "2         IT         25  120000  12000.0\n",
       "3         HR          8   55000   5500.0\n",
       "4         IT         15  110000  11000.0\n",
       "5    Finance         12   65000      NaN\n",
       "6         HR          9   52000   5200.0"
      ]
     },
     "execution_count": 9,
     "metadata": {},
     "output_type": "execute_result"
    }
   ],
   "source": [
    "df"
   ]
  },
  {
   "cell_type": "code",
   "execution_count": 13,
   "id": "f49d09f0",
   "metadata": {},
   "outputs": [
    {
     "name": "stdout",
     "output_type": "stream",
     "text": [
      "Summing the values in the 'Salary' column:\n",
      "Total sum of Salary: 512000\n",
      "############################################################\n",
      "Calculating the mean (average) of the 'Salary' column:\n",
      "Mean Salary: 73142.86\n",
      "############################################################\n",
      "Grouping by the 'Department' column and computing the mean of each group:\n",
      "            Employees         Salary         Bonus\n",
      "Department                                        \n",
      "Finance     11.000000   62500.000000   6000.000000\n",
      "HR           7.333333   52333.333333   5233.333333\n",
      "IT          20.000000  115000.000000  11500.000000\n",
      "############################################################\n",
      "Counting non-null values in the 'Bonus' column:\n",
      "Count of non-null Bonus values: 6\n",
      "############################################################\n"
     ]
    }
   ],
   "source": [
    "# Sum values\n",
    "print(\"Summing the values in the 'Salary' column:\")\n",
    "total_sum = df['Salary'].sum()\n",
    "print(f\"Total sum of Salary: {total_sum}\")\n",
    "print(\"############################################################\")\n",
    "\n",
    "# Mean values\n",
    "print(\"Calculating the mean (average) of the 'Salary' column:\")\n",
    "mean_value = df['Salary'].mean()\n",
    "print(f\"Mean Salary: {mean_value:.02f}\")\n",
    "print(\"############################################################\")\n",
    "\n",
    "# Group by a column and compute the mean\n",
    "print(\"Grouping by the 'Department' column and computing the mean of each group:\")\n",
    "grouped_mean = df.groupby('Department').mean(numeric_only=True)\n",
    "print(grouped_mean)\n",
    "print(\"############################################################\")\n",
    "\n",
    "# Count non-null values\n",
    "print(\"Counting non-null values in the 'Bonus' column:\")\n",
    "count_values = df['Bonus'].count()\n",
    "print(f\"Count of non-null Bonus values: {count_values}\")\n",
    "print(\"############################################################\")\n"
   ]
  },
  {
   "cell_type": "markdown",
   "id": "48d6eafe",
   "metadata": {},
   "source": [
    "## 6. Data Manipulation"
   ]
  },
  {
   "cell_type": "code",
   "execution_count": 18,
   "id": "7daf0732",
   "metadata": {},
   "outputs": [],
   "source": [
    "import pandas as pd\n",
    "\n",
    "# Create a sample DataFrame for sorting and custom function application\n",
    "data = {\n",
    "    'Name': ['Alice', 'Bob', 'Charlie', 'David', 'Eva'],\n",
    "    'Age': [23, 35, 45, 22, 30],\n",
    "    'Salary': [70000, 80000, 120000, 90000, 85000],\n",
    "    'Department': ['HR', 'Finance', 'IT', 'HR', 'Finance']\n",
    "}\n",
    "\n",
    "df = pd.DataFrame(data)\n",
    "\n",
    "# Create a second DataFrame for concatenation and appending\n",
    "data_new = {\n",
    "    'Name': ['Frank', 'Grace'],\n",
    "    'Age': [40, 29],\n",
    "    'Salary': [95000, 67000],\n",
    "    'Department': ['HR', 'Finance']\n",
    "}\n",
    "df_new = pd.DataFrame(data_new)"
   ]
  },
  {
   "cell_type": "code",
   "execution_count": 19,
   "id": "daab7342",
   "metadata": {},
   "outputs": [
    {
     "data": {
      "text/html": [
       "<div>\n",
       "<style scoped>\n",
       "    .dataframe tbody tr th:only-of-type {\n",
       "        vertical-align: middle;\n",
       "    }\n",
       "\n",
       "    .dataframe tbody tr th {\n",
       "        vertical-align: top;\n",
       "    }\n",
       "\n",
       "    .dataframe thead th {\n",
       "        text-align: right;\n",
       "    }\n",
       "</style>\n",
       "<table border=\"1\" class=\"dataframe\">\n",
       "  <thead>\n",
       "    <tr style=\"text-align: right;\">\n",
       "      <th></th>\n",
       "      <th>Name</th>\n",
       "      <th>Age</th>\n",
       "      <th>Salary</th>\n",
       "      <th>Department</th>\n",
       "    </tr>\n",
       "  </thead>\n",
       "  <tbody>\n",
       "    <tr>\n",
       "      <th>0</th>\n",
       "      <td>Alice</td>\n",
       "      <td>23</td>\n",
       "      <td>70000</td>\n",
       "      <td>HR</td>\n",
       "    </tr>\n",
       "    <tr>\n",
       "      <th>1</th>\n",
       "      <td>Bob</td>\n",
       "      <td>35</td>\n",
       "      <td>80000</td>\n",
       "      <td>Finance</td>\n",
       "    </tr>\n",
       "    <tr>\n",
       "      <th>2</th>\n",
       "      <td>Charlie</td>\n",
       "      <td>45</td>\n",
       "      <td>120000</td>\n",
       "      <td>IT</td>\n",
       "    </tr>\n",
       "    <tr>\n",
       "      <th>3</th>\n",
       "      <td>David</td>\n",
       "      <td>22</td>\n",
       "      <td>90000</td>\n",
       "      <td>HR</td>\n",
       "    </tr>\n",
       "    <tr>\n",
       "      <th>4</th>\n",
       "      <td>Eva</td>\n",
       "      <td>30</td>\n",
       "      <td>85000</td>\n",
       "      <td>Finance</td>\n",
       "    </tr>\n",
       "  </tbody>\n",
       "</table>\n",
       "</div>"
      ],
      "text/plain": [
       "      Name  Age  Salary Department\n",
       "0    Alice   23   70000         HR\n",
       "1      Bob   35   80000    Finance\n",
       "2  Charlie   45  120000         IT\n",
       "3    David   22   90000         HR\n",
       "4      Eva   30   85000    Finance"
      ]
     },
     "execution_count": 19,
     "metadata": {},
     "output_type": "execute_result"
    }
   ],
   "source": [
    "df"
   ]
  },
  {
   "cell_type": "code",
   "execution_count": 20,
   "id": "051cbb97",
   "metadata": {},
   "outputs": [
    {
     "data": {
      "text/html": [
       "<div>\n",
       "<style scoped>\n",
       "    .dataframe tbody tr th:only-of-type {\n",
       "        vertical-align: middle;\n",
       "    }\n",
       "\n",
       "    .dataframe tbody tr th {\n",
       "        vertical-align: top;\n",
       "    }\n",
       "\n",
       "    .dataframe thead th {\n",
       "        text-align: right;\n",
       "    }\n",
       "</style>\n",
       "<table border=\"1\" class=\"dataframe\">\n",
       "  <thead>\n",
       "    <tr style=\"text-align: right;\">\n",
       "      <th></th>\n",
       "      <th>Name</th>\n",
       "      <th>Age</th>\n",
       "      <th>Salary</th>\n",
       "      <th>Department</th>\n",
       "    </tr>\n",
       "  </thead>\n",
       "  <tbody>\n",
       "    <tr>\n",
       "      <th>0</th>\n",
       "      <td>Frank</td>\n",
       "      <td>40</td>\n",
       "      <td>95000</td>\n",
       "      <td>HR</td>\n",
       "    </tr>\n",
       "    <tr>\n",
       "      <th>1</th>\n",
       "      <td>Grace</td>\n",
       "      <td>29</td>\n",
       "      <td>67000</td>\n",
       "      <td>Finance</td>\n",
       "    </tr>\n",
       "  </tbody>\n",
       "</table>\n",
       "</div>"
      ],
      "text/plain": [
       "    Name  Age  Salary Department\n",
       "0  Frank   40   95000         HR\n",
       "1  Grace   29   67000    Finance"
      ]
     },
     "execution_count": 20,
     "metadata": {},
     "output_type": "execute_result"
    }
   ],
   "source": [
    "df_new"
   ]
  },
  {
   "cell_type": "code",
   "execution_count": 26,
   "id": "76370c86",
   "metadata": {},
   "outputs": [
    {
     "name": "stdout",
     "output_type": "stream",
     "text": [
      "Sorting the DataFrame by the 'Department' column:\n",
      "      Name  Age   Salary Department\n",
      "1      Bob   35  2560000    Finance\n",
      "4      Eva   30  2720000    Finance\n",
      "0    Alice   23  2240000         HR\n",
      "3    David   22  2880000         HR\n",
      "2  Charlie   45  3840000         IT\n",
      "############################################################\n",
      "Sorting the DataFrame by the 'Salary' column:\n",
      "      Name  Age   Salary Department\n",
      "0    Alice   23  2240000         HR\n",
      "1      Bob   35  2560000    Finance\n",
      "4      Eva   30  2720000    Finance\n",
      "3    David   22  2880000         HR\n",
      "2  Charlie   45  3840000         IT\n",
      "############################################################\n",
      "Doubling the values in the 'Salary' column using a custom function:\n",
      "      Name  Age   Salary Department\n",
      "0    Alice   23  4480000         HR\n",
      "1      Bob   35  5120000    Finance\n",
      "2  Charlie   45  7680000         IT\n",
      "3    David   22  5760000         HR\n",
      "4      Eva   30  5440000    Finance\n",
      "############################################################\n",
      "Concatenating two DataFrames (df and df_new):\n",
      "      Name  Age   Salary Department\n",
      "0    Alice   23  4480000         HR\n",
      "1      Bob   35  5120000    Finance\n",
      "2  Charlie   45  7680000         IT\n",
      "3    David   22  5760000         HR\n",
      "4      Eva   30  5440000    Finance\n",
      "0    Frank   40    95000         HR\n",
      "1    Grace   29    67000    Finance\n",
      "############################################################\n",
      "Creating a pivot table with 'Department' as the index and summing 'Salary':\n",
      "              Salary\n",
      "Department          \n",
      "Finance     10560000\n",
      "HR          10240000\n",
      "IT           7680000\n",
      "############################################################\n",
      "Transposing the DataFrame (switching rows and columns):\n",
      "                  0        1        2        3        4\n",
      "Name          Alice      Bob  Charlie    David      Eva\n",
      "Age              23       35       45       22       30\n",
      "Salary      4480000  5120000  7680000  5760000  5440000\n",
      "Department       HR  Finance       IT       HR  Finance\n",
      "############################################################\n"
     ]
    }
   ],
   "source": [
    "# Sort by column values\n",
    "print(\"Sorting the DataFrame by the 'Department' column:\")\n",
    "df_sorted = df.sort_values(by='Department')\n",
    "print(df_sorted)\n",
    "print(\"############################################################\")\n",
    "\n",
    "print(\"Sorting the DataFrame by the 'Salary' column:\")\n",
    "df_sorted = df.sort_values(by='Salary')\n",
    "print(df_sorted)\n",
    "print(\"############################################################\")\n",
    "\n",
    "# Apply a custom function to each element\n",
    "print(\"Doubling the values in the 'Salary' column using a custom function:\")\n",
    "df['Salary'] = df['Salary'].apply(lambda x: x * 2)\n",
    "print(df)\n",
    "print(\"############################################################\")\n",
    "\n",
    "# Concatenate two DataFrames\n",
    "print(\"Concatenating two DataFrames (df and df_new):\")\n",
    "df_combined = pd.concat([df, df_new])\n",
    "print(df_combined)\n",
    "print(\"############################################################\")\n",
    "\n",
    "# Create a pivot table\n",
    "print(\"Creating a pivot table with 'Department' as the index and summing 'Salary':\")\n",
    "pivot_table = df.pivot_table(index='Department', values='Salary', aggfunc='sum')\n",
    "print(pivot_table)\n",
    "print(\"############################################################\")\n",
    "\n",
    "# Transpose the DataFrame\n",
    "print(\"Transposing the DataFrame (switching rows and columns):\")\n",
    "df_transposed = df.T\n",
    "print(df_transposed)\n",
    "print(\"############################################################\")\n"
   ]
  },
  {
   "cell_type": "markdown",
   "id": "bca8309a",
   "metadata": {},
   "source": [
    "## 7. Indexing and Renaming"
   ]
  },
  {
   "cell_type": "code",
   "execution_count": 27,
   "id": "6bd379c1",
   "metadata": {},
   "outputs": [],
   "source": [
    "import pandas as pd\n",
    "\n",
    "# Create a sample DataFrame for sorting and custom function application\n",
    "data = {\n",
    "    'Name': ['Alice', 'Bob', 'Charlie', 'David', 'Eva'],\n",
    "    'Age': [23, 35, 45, 22, 30],\n",
    "    'Salary': [70000, 80000, 120000, 90000, 85000],\n",
    "    'Department': ['HR', 'Finance', 'IT', 'HR', 'Finance']\n",
    "}\n",
    "\n",
    "df = pd.DataFrame(data)"
   ]
  },
  {
   "cell_type": "code",
   "execution_count": 28,
   "id": "86b21dc7",
   "metadata": {},
   "outputs": [
    {
     "data": {
      "text/html": [
       "<div>\n",
       "<style scoped>\n",
       "    .dataframe tbody tr th:only-of-type {\n",
       "        vertical-align: middle;\n",
       "    }\n",
       "\n",
       "    .dataframe tbody tr th {\n",
       "        vertical-align: top;\n",
       "    }\n",
       "\n",
       "    .dataframe thead th {\n",
       "        text-align: right;\n",
       "    }\n",
       "</style>\n",
       "<table border=\"1\" class=\"dataframe\">\n",
       "  <thead>\n",
       "    <tr style=\"text-align: right;\">\n",
       "      <th></th>\n",
       "      <th>Name</th>\n",
       "      <th>Age</th>\n",
       "      <th>Salary</th>\n",
       "      <th>Department</th>\n",
       "    </tr>\n",
       "  </thead>\n",
       "  <tbody>\n",
       "    <tr>\n",
       "      <th>0</th>\n",
       "      <td>Alice</td>\n",
       "      <td>23</td>\n",
       "      <td>70000</td>\n",
       "      <td>HR</td>\n",
       "    </tr>\n",
       "    <tr>\n",
       "      <th>1</th>\n",
       "      <td>Bob</td>\n",
       "      <td>35</td>\n",
       "      <td>80000</td>\n",
       "      <td>Finance</td>\n",
       "    </tr>\n",
       "    <tr>\n",
       "      <th>2</th>\n",
       "      <td>Charlie</td>\n",
       "      <td>45</td>\n",
       "      <td>120000</td>\n",
       "      <td>IT</td>\n",
       "    </tr>\n",
       "    <tr>\n",
       "      <th>3</th>\n",
       "      <td>David</td>\n",
       "      <td>22</td>\n",
       "      <td>90000</td>\n",
       "      <td>HR</td>\n",
       "    </tr>\n",
       "    <tr>\n",
       "      <th>4</th>\n",
       "      <td>Eva</td>\n",
       "      <td>30</td>\n",
       "      <td>85000</td>\n",
       "      <td>Finance</td>\n",
       "    </tr>\n",
       "  </tbody>\n",
       "</table>\n",
       "</div>"
      ],
      "text/plain": [
       "      Name  Age  Salary Department\n",
       "0    Alice   23   70000         HR\n",
       "1      Bob   35   80000    Finance\n",
       "2  Charlie   45  120000         IT\n",
       "3    David   22   90000         HR\n",
       "4      Eva   30   85000    Finance"
      ]
     },
     "execution_count": 28,
     "metadata": {},
     "output_type": "execute_result"
    }
   ],
   "source": [
    "df"
   ]
  },
  {
   "cell_type": "code",
   "execution_count": 29,
   "id": "b96d181d",
   "metadata": {},
   "outputs": [
    {
     "name": "stdout",
     "output_type": "stream",
     "text": [
      "Setting the 'Name' column as the index of the DataFrame:\n",
      "         Age  Salary Department\n",
      "Name                           \n",
      "Alice     23   70000         HR\n",
      "Bob       35   80000    Finance\n",
      "Charlie   45  120000         IT\n",
      "David     22   90000         HR\n",
      "Eva       30   85000    Finance\n",
      "############################################################\n",
      "Resetting the index to return the 'Name' column back as a normal column:\n",
      "      Name  Age  Salary Department\n",
      "0    Alice   23   70000         HR\n",
      "1      Bob   35   80000    Finance\n",
      "2  Charlie   45  120000         IT\n",
      "3    David   22   90000         HR\n",
      "4      Eva   30   85000    Finance\n",
      "############################################################\n",
      "Renaming the 'Department' column to 'Department_name':\n",
      "      Name  Age  Salary Department_name\n",
      "0    Alice   23   70000              HR\n",
      "1      Bob   35   80000         Finance\n",
      "2  Charlie   45  120000              IT\n",
      "3    David   22   90000              HR\n",
      "4      Eva   30   85000         Finance\n",
      "############################################################\n"
     ]
    }
   ],
   "source": [
    "# Set a column as the index\n",
    "print(\"Setting the 'Name' column as the index of the DataFrame:\")\n",
    "df_indexed = df.set_index('Name')\n",
    "print(df_indexed)\n",
    "print(\"############################################################\")\n",
    "\n",
    "# Reset the index\n",
    "print(\"Resetting the index to return the 'Name' column back as a normal column:\")\n",
    "df_reset = df_indexed.reset_index()\n",
    "print(df_reset)\n",
    "print(\"############################################################\")\n",
    "\n",
    "# Rename columns\n",
    "print(\"Renaming the 'Department' column to 'Department_name':\")\n",
    "df_renamed = df.rename(columns={'Department': 'Department_name'})\n",
    "print(df_renamed)\n",
    "print(\"############################################################\")\n"
   ]
  },
  {
   "cell_type": "markdown",
   "id": "ce8c9a1f",
   "metadata": {},
   "source": [
    "## 8. String Operations"
   ]
  },
  {
   "cell_type": "code",
   "execution_count": 30,
   "id": "8c26ec08",
   "metadata": {},
   "outputs": [],
   "source": [
    "import pandas as pd\n",
    "\n",
    "# Create a sample DataFrame for sorting and custom function application\n",
    "data = {\n",
    "    'Name': ['Alice', 'Bob', 'Charlie', 'David', 'Eva'],\n",
    "    'Age': [23, 35, 45, 22, 30],\n",
    "    'Salary': [70000, 80000, 120000, 90000, 85000],\n",
    "    'Department': ['HR', 'Finance', 'IT', 'HR', 'Finance']\n",
    "}\n",
    "\n",
    "df = pd.DataFrame(data)"
   ]
  },
  {
   "cell_type": "code",
   "execution_count": 31,
   "id": "669aa2c4",
   "metadata": {},
   "outputs": [
    {
     "name": "stdout",
     "output_type": "stream",
     "text": [
      "Converting the 'Name' column to lowercase and storing it in a new column 'name_lower':\n",
      "      Name name_lower\n",
      "0    Alice      alice\n",
      "1      Bob        bob\n",
      "2  Charlie    charlie\n",
      "3    David      david\n",
      "4      Eva        eva\n",
      "############################################################\n",
      "Checking if the 'Department' column contains the string 'HR':\n",
      "0     True\n",
      "1    False\n",
      "2    False\n",
      "3     True\n",
      "4    False\n",
      "Name: Department, dtype: bool\n",
      "############################################################\n",
      "Replacing 'HR' with 'Human Resources' in the 'Department' column and storing the result in a new column 'Department_2':\n",
      "  Department     Department_2\n",
      "0         HR  Human Resources\n",
      "1    Finance          Finance\n",
      "2         IT               IT\n",
      "3         HR  Human Resources\n",
      "4    Finance          Finance\n",
      "############################################################\n",
      "Removing leading and trailing spaces from the 'Name' column and storing it in a new column 'Name_stripped':\n",
      "      Name Name_stripped\n",
      "0    Alice         Alice\n",
      "1      Bob           Bob\n",
      "2  Charlie       Charlie\n",
      "3    David         David\n",
      "4      Eva           Eva\n",
      "############################################################\n"
     ]
    }
   ],
   "source": [
    "# Convert strings to lowercase\n",
    "print(\"Converting the 'Name' column to lowercase and storing it in a new column 'name_lower':\")\n",
    "df['name_lower'] = df['Name'].str.lower()\n",
    "print(df[['Name', 'name_lower']])\n",
    "print(\"############################################################\")\n",
    "\n",
    "# Check if strings contain a specific pattern\n",
    "print(\"Checking if the 'Department' column contains the string 'HR':\")\n",
    "contains_pattern = df['Department'].str.contains('HR')\n",
    "print(contains_pattern)\n",
    "print(\"############################################################\")\n",
    "\n",
    "# Replace occurrences of a substring\n",
    "print(\"Replacing 'HR' with 'Human Resources' in the 'Department' column and storing the result in a new column 'Department_2':\")\n",
    "df['Department_2'] = df['Department'].str.replace('HR', 'Human Resources')\n",
    "print(df[['Department', 'Department_2']])\n",
    "print(\"############################################################\")\n",
    "\n",
    "# Remove leading and trailing spaces\n",
    "print(\"Removing leading and trailing spaces from the 'Name' column and storing it in a new column 'Name_stripped':\")\n",
    "df['Name_stripped'] = df['Name'].str.strip()\n",
    "print(df[['Name', 'Name_stripped']])\n",
    "print(\"############################################################\")\n"
   ]
  },
  {
   "cell_type": "markdown",
   "id": "e6b9cf22",
   "metadata": {},
   "source": [
    "## 9. Mathematical Operations"
   ]
  },
  {
   "cell_type": "code",
   "execution_count": 32,
   "id": "91ef428f",
   "metadata": {},
   "outputs": [],
   "source": [
    "import pandas as pd\n",
    "\n",
    "# Create a sample DataFrame\n",
    "data = {\n",
    "    'Product': ['A', 'B', 'C', 'D', 'E'],\n",
    "    'Sales_Q1': [150, 200, 300, 100, 250],\n",
    "    'Sales_Q2': [180, 220, 320, 110, 270]\n",
    "}\n",
    "\n",
    "df = pd.DataFrame(data)"
   ]
  },
  {
   "cell_type": "code",
   "execution_count": 33,
   "id": "4ebf5333",
   "metadata": {},
   "outputs": [
    {
     "data": {
      "text/html": [
       "<div>\n",
       "<style scoped>\n",
       "    .dataframe tbody tr th:only-of-type {\n",
       "        vertical-align: middle;\n",
       "    }\n",
       "\n",
       "    .dataframe tbody tr th {\n",
       "        vertical-align: top;\n",
       "    }\n",
       "\n",
       "    .dataframe thead th {\n",
       "        text-align: right;\n",
       "    }\n",
       "</style>\n",
       "<table border=\"1\" class=\"dataframe\">\n",
       "  <thead>\n",
       "    <tr style=\"text-align: right;\">\n",
       "      <th></th>\n",
       "      <th>Product</th>\n",
       "      <th>Sales_Q1</th>\n",
       "      <th>Sales_Q2</th>\n",
       "    </tr>\n",
       "  </thead>\n",
       "  <tbody>\n",
       "    <tr>\n",
       "      <th>0</th>\n",
       "      <td>A</td>\n",
       "      <td>150</td>\n",
       "      <td>180</td>\n",
       "    </tr>\n",
       "    <tr>\n",
       "      <th>1</th>\n",
       "      <td>B</td>\n",
       "      <td>200</td>\n",
       "      <td>220</td>\n",
       "    </tr>\n",
       "    <tr>\n",
       "      <th>2</th>\n",
       "      <td>C</td>\n",
       "      <td>300</td>\n",
       "      <td>320</td>\n",
       "    </tr>\n",
       "    <tr>\n",
       "      <th>3</th>\n",
       "      <td>D</td>\n",
       "      <td>100</td>\n",
       "      <td>110</td>\n",
       "    </tr>\n",
       "    <tr>\n",
       "      <th>4</th>\n",
       "      <td>E</td>\n",
       "      <td>250</td>\n",
       "      <td>270</td>\n",
       "    </tr>\n",
       "  </tbody>\n",
       "</table>\n",
       "</div>"
      ],
      "text/plain": [
       "  Product  Sales_Q1  Sales_Q2\n",
       "0       A       150       180\n",
       "1       B       200       220\n",
       "2       C       300       320\n",
       "3       D       100       110\n",
       "4       E       250       270"
      ]
     },
     "execution_count": 33,
     "metadata": {},
     "output_type": "execute_result"
    }
   ],
   "source": [
    "df"
   ]
  },
  {
   "cell_type": "code",
   "execution_count": 35,
   "id": "0401d646",
   "metadata": {},
   "outputs": [
    {
     "name": "stdout",
     "output_type": "stream",
     "text": [
      "Performing element-wise addition of 'Sales_Q1' and 'Sales_Q2' to create 'Total_Sales':\n",
      "  Product  Sales_Q1  Sales_Q2  Total_Sales  Cumulative_Sales  \\\n",
      "0       A       150       180          330               330   \n",
      "1       B       200       220          420               750   \n",
      "2       C       300       320          620              1370   \n",
      "3       D       100       110          210              1580   \n",
      "4       E       250       270          520              2100   \n",
      "\n",
      "   Cumulative_Max_Sales  \n",
      "0                   330  \n",
      "1                   420  \n",
      "2                   620  \n",
      "3                   620  \n",
      "4                   620  \n",
      "############################################################\n",
      "Calculating the cumulative sum of 'Total_Sales' (running total) and storing it in 'Cumulative_Sales':\n",
      "  Product  Sales_Q1  Sales_Q2  Total_Sales  Cumulative_Sales  \\\n",
      "0       A       150       180          330               330   \n",
      "1       B       200       220          420               750   \n",
      "2       C       300       320          620              1370   \n",
      "3       D       100       110          210              1580   \n",
      "4       E       250       270          520              2100   \n",
      "\n",
      "   Cumulative_Max_Sales  \n",
      "0                   330  \n",
      "1                   420  \n",
      "2                   620  \n",
      "3                   620  \n",
      "4                   620  \n",
      "############################################################\n",
      "Calculating the cumulative maximum of 'Total_Sales' (the maximum value encountered so far) and storing it in 'Cumulative_Max_Sales':\n",
      "  Product  Sales_Q1  Sales_Q2  Total_Sales  Cumulative_Sales  \\\n",
      "0       A       150       180          330               330   \n",
      "1       B       200       220          420               750   \n",
      "2       C       300       320          620              1370   \n",
      "3       D       100       110          210              1580   \n",
      "4       E       250       270          520              2100   \n",
      "\n",
      "   Cumulative_Max_Sales  \n",
      "0                   330  \n",
      "1                   420  \n",
      "2                   620  \n",
      "3                   620  \n",
      "4                   620  \n",
      "############################################################\n"
     ]
    }
   ],
   "source": [
    "# Element-wise addition (add Sales_Q1 and Sales_Q2)\n",
    "print(\"Performing element-wise addition of 'Sales_Q1' and 'Sales_Q2' to create 'Total_Sales':\")\n",
    "df['Total_Sales'] = df['Sales_Q1'] + df['Sales_Q2']\n",
    "print(df)\n",
    "print(\"############################################################\")\n",
    "\n",
    "# Cumulative sum of 'Total_Sales' (cumulative sum is a running total)\n",
    "print(\"Calculating the cumulative sum of 'Total_Sales' (running total) and storing it in 'Cumulative_Sales':\")\n",
    "df['Cumulative_Sales'] = df['Total_Sales'].cumsum()\n",
    "print(df)\n",
    "print(\"############################################################\")\n",
    "\n",
    "# Cumulative max of 'Total_Sales' (shows the max value up to this point)\n",
    "print(\"Calculating the cumulative maximum of 'Total_Sales' (the maximum value encountered so far) and storing it in 'Cumulative_Max_Sales':\")\n",
    "df['Cumulative_Max_Sales'] = df['Total_Sales'].cummax()\n",
    "print(df)\n",
    "print(\"############################################################\")\n"
   ]
  },
  {
   "cell_type": "markdown",
   "id": "d6bfbcf3",
   "metadata": {},
   "source": [
    "## 10. Visualization"
   ]
  },
  {
   "cell_type": "code",
   "execution_count": 47,
   "id": "020e83d9",
   "metadata": {},
   "outputs": [],
   "source": [
    "import pandas as pd\n",
    "import matplotlib.pyplot as plt\n",
    "\n",
    "# Create a sample DataFrame\n",
    "data = {\n",
    "    'Month': ['Jan', 'Feb', 'Mar', 'Apr', 'May', 'Jun'],\n",
    "    'Sales': [150, 200, 250, 300, 350, 400],\n",
    "    'Profit': [20, 30, 50, 60, 70, 80]\n",
    "    'Total Sales': [330, 420, 620, 210, 520]\n",
    "}\n",
    "\n",
    "df = pd.DataFrame(data)"
   ]
  },
  {
   "cell_type": "code",
   "execution_count": 48,
   "id": "41bfa837",
   "metadata": {},
   "outputs": [
    {
     "data": {
      "text/html": [
       "<div>\n",
       "<style scoped>\n",
       "    .dataframe tbody tr th:only-of-type {\n",
       "        vertical-align: middle;\n",
       "    }\n",
       "\n",
       "    .dataframe tbody tr th {\n",
       "        vertical-align: top;\n",
       "    }\n",
       "\n",
       "    .dataframe thead th {\n",
       "        text-align: right;\n",
       "    }\n",
       "</style>\n",
       "<table border=\"1\" class=\"dataframe\">\n",
       "  <thead>\n",
       "    <tr style=\"text-align: right;\">\n",
       "      <th></th>\n",
       "      <th>Month</th>\n",
       "      <th>Sales</th>\n",
       "      <th>Profit</th>\n",
       "    </tr>\n",
       "  </thead>\n",
       "  <tbody>\n",
       "    <tr>\n",
       "      <th>0</th>\n",
       "      <td>Jan</td>\n",
       "      <td>330</td>\n",
       "      <td>20</td>\n",
       "    </tr>\n",
       "    <tr>\n",
       "      <th>1</th>\n",
       "      <td>Feb</td>\n",
       "      <td>420</td>\n",
       "      <td>30</td>\n",
       "    </tr>\n",
       "    <tr>\n",
       "      <th>2</th>\n",
       "      <td>Mar</td>\n",
       "      <td>620</td>\n",
       "      <td>50</td>\n",
       "    </tr>\n",
       "    <tr>\n",
       "      <th>3</th>\n",
       "      <td>Apr</td>\n",
       "      <td>210</td>\n",
       "      <td>60</td>\n",
       "    </tr>\n",
       "    <tr>\n",
       "      <th>4</th>\n",
       "      <td>May</td>\n",
       "      <td>520</td>\n",
       "      <td>70</td>\n",
       "    </tr>\n",
       "    <tr>\n",
       "      <th>5</th>\n",
       "      <td>Jun</td>\n",
       "      <td>450</td>\n",
       "      <td>80</td>\n",
       "    </tr>\n",
       "  </tbody>\n",
       "</table>\n",
       "</div>"
      ],
      "text/plain": [
       "  Month  Sales  Profit\n",
       "0   Jan    330      20\n",
       "1   Feb    420      30\n",
       "2   Mar    620      50\n",
       "3   Apr    210      60\n",
       "4   May    520      70\n",
       "5   Jun    450      80"
      ]
     },
     "execution_count": 48,
     "metadata": {},
     "output_type": "execute_result"
    }
   ],
   "source": [
    "df"
   ]
  },
  {
   "cell_type": "code",
   "execution_count": 49,
   "id": "0c7784d8",
   "metadata": {},
   "outputs": [
    {
     "name": "stdout",
     "output_type": "stream",
     "text": [
      "Creating a basic line plot for 'Sales' over the months:\n"
     ]
    },
    {
     "data": {
      "image/png": "[encoded data removed]",
      "text/plain": [
       "<Figure size 640x480 with 1 Axes>"
      ]
     },
     "metadata": {},
     "output_type": "display_data"
    }
   ],
   "source": [
    "import matplotlib.pyplot as plt\n",
    "\n",
    "# Basic line plot (plot 'Sales' over the months)\n",
    "print(\"Creating a basic line plot for 'Sales' over the months:\")\n",
    "df['Sales'].plot()\n",
    "plt.title('Monthly Sales')\n",
    "plt.xlabel('Index')\n",
    "plt.ylabel('Sales')\n",
    "plt.show()\n",
    "\n"
   ]
  },
  {
   "cell_type": "code",
   "execution_count": 50,
   "id": "5050fdc2",
   "metadata": {},
   "outputs": [
    {
     "name": "stdout",
     "output_type": "stream",
     "text": [
      "Creating a scatter plot to visualize the relationship between 'Sales' and 'Profit':\n"
     ]
    },
    {
     "data": {
      "image/png": "[encoded data removed]",
      "text/plain": [
       "<Figure size 640x480 with 1 Axes>"
      ]
     },
     "metadata": {},
     "output_type": "display_data"
    }
   ],
   "source": [
    "\n",
    "# Scatter plot (Sales vs Profit)\n",
    "print(\"Creating a scatter plot to visualize the relationship between 'Sales' and 'Profit':\")\n",
    "df.plot(kind='scatter', x='Sales', y='Profit')\n",
    "plt.title('Sales vs Profit')\n",
    "plt.xlabel('Sales')\n",
    "plt.ylabel('Profit')\n",
    "plt.show()\n"
   ]
  },
  {
   "cell_type": "code",
   "execution_count": 51,
   "id": "eb34a98f",
   "metadata": {},
   "outputs": [
    {
     "name": "stdout",
     "output_type": "stream",
     "text": [
      "Creating a histogram to show the distribution of 'Sales':\n"
     ]
    },
    {
     "data": {
      "image/png": "[encoded data removed]",
      "text/plain": [
       "<Figure size 640x480 with 1 Axes>"
      ]
     },
     "metadata": {},
     "output_type": "display_data"
    }
   ],
   "source": [
    "\n",
    "# Histogram of 'Sales'\n",
    "print(\"Creating a histogram to show the distribution of 'Sales':\")\n",
    "df['Sales'].plot(kind='hist')\n",
    "plt.title('Distribution of Sales')\n",
    "plt.xlabel('Sales')\n",
    "plt.show()\n"
   ]
  },
  {
   "cell_type": "code",
   "execution_count": 52,
   "id": "540329ba",
   "metadata": {},
   "outputs": [
    {
     "name": "stdout",
     "output_type": "stream",
     "text": [
      "Creating a bar chart to show the distribution of 'Sales' by 'Month':\n"
     ]
    },
    {
     "data": {
      "image/png": "[encoded data removed]",
      "text/plain": [
       "<Figure size 640x480 with 1 Axes>"
      ]
     },
     "metadata": {},
     "output_type": "display_data"
    }
   ],
   "source": [
    "# Bar Chart of 'Sales'\n",
    "print(\"Creating a bar chart to show the distribution of 'Sales' by 'Month':\")\n",
    "df['Sales'].plot(kind='bar', x='Month', y='Sales')\n",
    "plt.title('Sales by Month')\n",
    "plt.xlabel('Month')\n",
    "plt.ylabel('Sales')\n",
    "plt.show()\n"
   ]
  },
  {
   "cell_type": "code",
   "execution_count": null,
   "id": "350e87bb",
   "metadata": {},
   "outputs": [],
   "source": []
  }
 ],
 "metadata": {
  "kernelspec": {
   "display_name": "venv",
   "language": "python",
   "name": "python3"
  },
  "language_info": {
   "codemirror_mode": {
    "name": "ipython",
    "version": 3
   },
   "file_extension": ".py",
   "mimetype": "text/x-python",
   "name": "python",
   "nbconvert_exporter": "python",
   "pygments_lexer": "ipython3",
   "version": "3.12.4"
  }
 },
 "nbformat": 4,
 "nbformat_minor": 5
}
