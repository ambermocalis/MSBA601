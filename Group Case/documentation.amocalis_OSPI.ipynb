{
 "cells": [
  {
   "cell_type": "markdown",
   "id": "bd62c777",
   "metadata": {},
   "source": [
    "## OSPI Enrollment 2023-24 Dataset\n",
    "\n",
    "The Office of the Superintendent of Public Instruction (OSPI) maintains a repository of data that is available for public use. In my previous role as the tuition and financial aid director for a private high school, my team and I used data from OSPI to gain understanding of overall student enrollment in Washington State and to guide our strategic enrollment goals and long-term budgeting.\n"
   ]
  },
  {
   "cell_type": "code",
   "execution_count": null,
   "id": "b76593be",
   "metadata": {},
   "outputs": [],
   "source": [
    "# Import necessary libraries for assignment\n",
    "import pandas as pd\n",
    "import matplotlib.pyplot as plt\n",
    "import seaborn as sns"
   ]
  },
  {
   "cell_type": "code",
   "execution_count": 45,
   "id": "65861d89",
   "metadata": {},
   "outputs": [],
   "source": [
    "\n",
    "# Reads OSPI enrollment CSV files into a DataFrame.\n",
    "\n",
    "def load_enrollment_data(file_path):    \n",
    "    try:\n",
    "        # Load the CSV file into a DataFrame\n",
    "        df = pd.read_csv(file_path)\n",
    "        \n",
    "        return df\n",
    "    \n",
    "    except FileNotFoundError:\n",
    "        print(f'File not found: {file_path}')\n",
    "        return None\n",
    "\n",
    "# Read OSPI Enrollment Data into DataFrames    \n",
    "df_24 = load_enrollment_data('Report_Card_Enrollment_2023-24.csv')\n",
    "df_23 = load_enrollment_data('Report_Card_Enrollment_2022-23.csv')\n",
    "df_22 = load_enrollment_data('Report_Card_Enrollment_2021-22.csv')\n",
    "df_21 = load_enrollment_data('Report_Card_Enrollment_2020-21.csv')\n",
    "df_20 = load_enrollment_data('Report_Card_Enrollment_2019-20.csv')\n",
    "\n"
   ]
  },
  {
   "cell_type": "code",
   "execution_count": 48,
   "id": "a0d49e38",
   "metadata": {},
   "outputs": [
    {
     "name": "stdout",
     "output_type": "stream",
     "text": [
      "DataFrames concatenated successfully with aligned columns.\n",
      "      schoolyear organizationlevel    county  \\\n",
      "0        2023-24          District     Adams   \n",
      "1        2023-24          District     Adams   \n",
      "2        2023-24          District     Adams   \n",
      "3        2023-24          District     Adams   \n",
      "4        2023-24          District     Adams   \n",
      "...          ...               ...       ...   \n",
      "19934    2019-20             State  Multiple   \n",
      "19935    2019-20             State  Multiple   \n",
      "19936    2019-20             State  Multiple   \n",
      "19937    2019-20             State  Multiple   \n",
      "19938    2019-20             State  Multiple   \n",
      "\n",
      "                                esdname  esdorganizationid  districtcode  \\\n",
      "0      Educational Service District 101            100,001         1,109   \n",
      "1      Educational Service District 101            100,001         1,109   \n",
      "2      Educational Service District 101            100,001         1,109   \n",
      "3      Educational Service District 101            100,001         1,109   \n",
      "4      Educational Service District 101            100,001         1,109   \n",
      "...                                 ...                ...           ...   \n",
      "19934                       State Total                NaN           NaN   \n",
      "19935                       State Total                NaN           NaN   \n",
      "19936                       State Total                NaN           NaN   \n",
      "19937                       State Total                NaN           NaN   \n",
      "19938                       State Total                NaN           NaN   \n",
      "\n",
      "                    districtname  districtorganizationid  schoolcode  \\\n",
      "0      Washtucna School District                 100,287         NaN   \n",
      "1      Washtucna School District                 100,287         NaN   \n",
      "2      Washtucna School District                 100,287         NaN   \n",
      "3      Washtucna School District                 100,287         NaN   \n",
      "4      Washtucna School District                 100,287         NaN   \n",
      "...                          ...                     ...         ...   \n",
      "19934                State Total                     NaN         NaN   \n",
      "19935                State Total                     NaN         NaN   \n",
      "19936                State Total                     NaN         NaN   \n",
      "19937                State Total                     NaN         NaN   \n",
      "19938                State Total                     NaN         NaN   \n",
      "\n",
      "           schoolname  ...  non foster care non highly capable non homeless  \\\n",
      "0      District Total  ...                0                  5            5   \n",
      "1      District Total  ...                0                  9            9   \n",
      "2      District Total  ...                0                  6            6   \n",
      "3      District Total  ...                0                  3            3   \n",
      "4      District Total  ...                0                  5            5   \n",
      "...               ...  ...              ...                ...          ...   \n",
      "19934     State Total  ...            84879              79472        83051   \n",
      "19935     State Total  ...          1140070            1073801      1114215   \n",
      "19936     State Total  ...              410                410          388   \n",
      "19937     State Total  ...            82140              81623        79963   \n",
      "19938     State Total  ...            33747              33867        33059   \n",
      "\n",
      "       non low income  non migrant  non military parent  non mobile  \\\n",
      "0                   0            5                    5           5   \n",
      "1                   2            9                    9           8   \n",
      "2                   2            6                    6           6   \n",
      "3                   0            3                    3           3   \n",
      "4                   1            5                    5           5   \n",
      "...               ...          ...                  ...         ...   \n",
      "19934           46114        83475                83598       84293   \n",
      "19935          610696      1123358              1115910     1126840   \n",
      "19936             264          407                  408         394   \n",
      "19937           45274        81122                79195       81280   \n",
      "19938           18202        33526                32655       30935   \n",
      "\n",
      "       non section 504  students without disabilities                dataasof  \n",
      "0                    5                              5  06/18/2024 12:00:00 AM  \n",
      "1                    9                              8  06/18/2024 12:00:00 AM  \n",
      "2                    4                              6  06/18/2024 12:00:00 AM  \n",
      "3                    3                              3  06/18/2024 12:00:00 AM  \n",
      "4                    5                              3  06/18/2024 12:00:00 AM  \n",
      "...                ...                            ...                     ...  \n",
      "19934            80460                          74613           12/22/23 0:00  \n",
      "19935          1099760                         975921           12/22/23 0:00  \n",
      "19936              411                            377           12/22/23 0:00  \n",
      "19937            81911                          72329           12/22/23 0:00  \n",
      "19938            33807                          14781           12/22/23 0:00  \n",
      "\n",
      "[101812 rows x 45 columns]\n"
     ]
    }
   ],
   "source": [
    "# Function to reorder columns based on a reference DataFrame, then concatenate\n",
    "def reorder_and_concat(*dataframes):\n",
    "    try:\n",
    "        # Standardize column names\n",
    "        for df in dataframes:\n",
    "            df.columns = df.columns.str.lower()  # Convert to lowercase\n",
    "            df.columns = df.columns.str.replace(r\"[_\\-/]\", \" \", regex=True)  # Replace _, -, or / with a space\n",
    "        \n",
    "        # Use the columns from the first DataFrame as the reference\n",
    "        reference_columns = dataframes[0].columns\n",
    "        \n",
    "        # Reorder each DataFrame to match the reference column order\n",
    "        reordered_dfs = [df[reference_columns] for df in dataframes]\n",
    "        \n",
    "        # Concatenate the reordered DataFrames along rows\n",
    "        concatenated_df = pd.concat(reordered_dfs, axis=0)\n",
    "        \n",
    "        print(\"DataFrames concatenated successfully with aligned columns.\")\n",
    "        return concatenated_df\n",
    "    \n",
    "    except Exception as e:\n",
    "        print(\"Columns do not match. Concatenation failed.\")\n",
    "        return None\n",
    "\n",
    "concat_df = reorder_and_concat(df_24, df_23, df_22, df_21, df_20)\n",
    "print(concat_df) # Will print None if concatenation fails\n"
   ]
  },
  {
   "cell_type": "code",
   "execution_count": 47,
   "id": "fc529ddb",
   "metadata": {},
   "outputs": [
    {
     "name": "stdout",
     "output_type": "stream",
     "text": [
      "Dataframe objects:\n",
      "Index(['schoolyear', 'organizationlevel', 'county', 'esdname',\n",
      "       'esdorganizationid', 'districtcode', 'districtname',\n",
      "       'districtorganizationid', 'schoolcode', 'schoolname',\n",
      "       'schoolorganizationid', 'currentschooltype', 'gradelevel',\n",
      "       'all students', 'female', 'gender x', 'male',\n",
      "       'american indian/ alaskan native', 'asian', 'black/ african american',\n",
      "       'hispanic/ latino of any race(s)',\n",
      "       'native hawaiian/ other pacific islander', 'two or more races', 'white',\n",
      "       'english language learners', 'foster care', 'highly capable',\n",
      "       'homeless', 'low-income', 'migrant', 'military parent', 'mobile',\n",
      "       'section 504', 'students with disabilities',\n",
      "       'non-english language learners', 'non foster care',\n",
      "       'non-highly capable', 'non-homeless', 'non-low income', 'non migrant',\n",
      "       'non military parent', 'non mobile', 'non section 504',\n",
      "       'students without disabilities', 'dataasof'],\n",
      "      dtype='object')\n",
      "****************************************************************************************************\n",
      "Index(['schoolyear', 'organizationlevel', 'county', 'esdname',\n",
      "       'esdorganizationid', 'districtcode', 'districtname',\n",
      "       'districtorganizationid', 'schoolcode', 'schoolname',\n",
      "       'schoolorganizationid', 'currentschooltype', 'gradelevel',\n",
      "       'all students', 'female', 'gender x', 'male',\n",
      "       'american indian/ alaskan native', 'asian', 'black/ african american',\n",
      "       'hispanic/ latino of any race(s)',\n",
      "       'native hawaiian/ other pacific islander', 'two or more races', 'white',\n",
      "       'english language learners', 'foster care', 'highly capable',\n",
      "       'homeless', 'low-income', 'migrant', 'military parent', 'mobile',\n",
      "       'section 504', 'students with disabilities',\n",
      "       'non-english language learners', 'non foster care',\n",
      "       'non-highly capable', 'non-homeless', 'non-low income', 'non migrant',\n",
      "       'non military parent', 'non mobile', 'non section 504',\n",
      "       'students without disabilities', 'dataasof'],\n",
      "      dtype='object')\n",
      "****************************************************************************************************\n",
      "Index(['schoolyear', 'organizationlevel', 'county', 'esdname',\n",
      "       'esdorganizationid', 'districtcode', 'districtname',\n",
      "       'districtorganizationid', 'schoolcode', 'schoolname',\n",
      "       'schoolorganizationid', 'currentschooltype', 'gradelevel',\n",
      "       'all students', 'female', 'gender x', 'male',\n",
      "       'american indian/ alaskan native', 'asian', 'black/ african american',\n",
      "       'hispanic/ latino of any race(s)',\n",
      "       'native hawaiian/ other pacific islander', 'two or more races', 'white',\n",
      "       'english language learners', 'foster care', 'highly capable',\n",
      "       'homeless', 'low-income', 'migrant', 'military parent', 'mobile',\n",
      "       'section 504', 'students with disabilities',\n",
      "       'non-english language learners', 'non-foster care',\n",
      "       'non-highly capable', 'non-homeless', 'non-low income', 'non migrant',\n",
      "       'non military parent', 'non mobile', 'non section 504',\n",
      "       'students without disabilities', 'dataasof'],\n",
      "      dtype='object')\n",
      "****************************************************************************************************\n",
      "Index(['schoolyear', 'organizationlevel', 'county', 'esdname',\n",
      "       'esdorganizationid', 'districtcode', 'districtname',\n",
      "       'districtorganizationid', 'schoolcode', 'schoolname',\n",
      "       'schoolorganizationid', 'currentschooltype', 'gradelevel',\n",
      "       'all students', 'female', 'gender x', 'male',\n",
      "       'american indian/ alaskan native', 'asian', 'black/ african american',\n",
      "       'hispanic/ latino of any race(s)',\n",
      "       'native hawaiian/ other pacific islander', 'two or more races', 'white',\n",
      "       'english language learners', 'foster care', 'highly capable',\n",
      "       'homeless', 'low-income', 'migrant', 'military parent', 'mobile',\n",
      "       'section 504', 'students with disabilities',\n",
      "       'non-english language learners', 'non-foster care',\n",
      "       'non-highly capable', 'non-homeless', 'non-low income', 'non migrant',\n",
      "       'non military parent', 'non mobile', 'non section 504',\n",
      "       'students without disabilities', 'dataasof'],\n",
      "      dtype='object')\n",
      "****************************************************************************************************\n",
      "Index(['schoolyear', 'organizationlevel', 'county', 'esdname',\n",
      "       'esdorganizationid', 'districtcode', 'districtname',\n",
      "       'districtorganizationid', 'schoolcode', 'schoolname',\n",
      "       'schoolorganizationid', 'currentschooltype', 'gradelevel',\n",
      "       'all students', 'female', 'gender x', 'male',\n",
      "       'american indian/ alaskan native', 'asian', 'black/ african american',\n",
      "       'hispanic/ latino of any race(s)',\n",
      "       'native hawaiian/ other pacific islander', 'two or more races', 'white',\n",
      "       'english language learners', 'foster care', 'highly capable',\n",
      "       'homeless', 'low-income', 'migrant', 'military parent', 'mobile',\n",
      "       'section 504', 'students with disabilities',\n",
      "       'non-english language learners', 'non-foster care',\n",
      "       'non-highly capable', 'non-homeless', 'non-low income', 'non migrant',\n",
      "       'non military parent', 'non mobile', 'non section 504',\n",
      "       'students without disabilities', 'dataasof'],\n",
      "      dtype='object')\n",
      "****************************************************************************************************\n"
     ]
    }
   ],
   "source": [
    "print('Dataframe objects:')\n",
    "print(df_20.columns) \n",
    "print('*'*100)\n",
    "print(df_21.columns) \n",
    "print('*'*100)\n",
    "print(df_22.columns) \n",
    "print('*'*100)\n",
    "print(df_23.columns) \n",
    "print('*'*100)\n",
    "print(df_24.columns) \n",
    "print('*'*100)"
   ]
  },
  {
   "cell_type": "code",
   "execution_count": 27,
   "id": "5e5a3209",
   "metadata": {},
   "outputs": [
    {
     "name": "stdout",
     "output_type": "stream",
     "text": [
      "Columns do not match. Concatenation failed.\n",
      "None\n"
     ]
    }
   ],
   "source": [
    "# Check DataFrame columns and concatenate (stack rows) if columns match\n",
    "def check_columns_and_concat(df1, df2):\n",
    "    if df1.columns.equals(df2.columns):\n",
    "        print('{df1} and {df2} concatenated successfully')\n",
    "        return pd.concat([df1, df2], axis=0)\n",
    "    else:\n",
    "        print(\"Columns do not match. Concatenation failed.\")\n",
    "        return None\n",
    "\n",
    "# Check and Concatenate DataFrames one-by-one\n",
    "concat_df = check_columns_and_concat(df_23, df_24)\n",
    "\n",
    "print(concat_df)"
   ]
  },
  {
   "cell_type": "code",
   "execution_count": null,
   "id": "4ff440f5",
   "metadata": {},
   "outputs": [],
   "source": [
    "# Re-order columns for concatenation\n",
    "new_order = ['pokedex_number', 'name', 'type1', 'type2', 'hp', 'attack', 'defense', 'sp_attack', 'sp_defense', 'speed',\n",
    "            'classfication', 'generation', 'is_legendary', 'abilities', 'japanese_name']\n",
    "\n",
    "df = df[new_order]"
   ]
  },
  {
   "cell_type": "code",
   "execution_count": null,
   "id": "e5d3aa65",
   "metadata": {},
   "outputs": [],
   "source": [
    "# Analyze the 2023-2024 dataset to create baseline understanding\n",
    "\n",
    "print('Display the first 5 rows of the OSPI dataframe')\n",
    "print(df.head(5)) # Display the first 5 rows of the Dataframe\n",
    "print(\"*\"*75)\n",
    "\n",
    "print('Dataframe info:')\n",
    "print(df.info()) # Display info about the data, including shape & column info\n",
    "print(\"*\"*75)\n",
    "\n",
    "\n",
    "print('Missing data:')\n",
    "print(df.isnull().sum()) # Display columns with missing data\n"
   ]
  },
  {
   "cell_type": "markdown",
   "id": "2dca47b4",
   "metadata": {},
   "source": [
    "### Business Questions for Analysis\n",
    "\n",
    "- How is enrollment trending since 2020/post-COVID era (2020-2021, 2021-2022, 2022-2023, 2023-2024)\n",
    "    - by class\n",
    "- Can we see a heatmap of enrollment increases/decreases across school districts?\n",
    "- Isolate Spokane area schools and do same analysis as above\n",
    "    - may require school - zip code dataset to cross-reference\n",
    "    - is Spokane County good enough for aggregation?\n"
   ]
  },
  {
   "cell_type": "markdown",
   "id": "3faa3b44",
   "metadata": {},
   "source": [
    "<mark>read in prior year data sets and merge into one larger set <mark>"
   ]
  },
  {
   "cell_type": "code",
   "execution_count": null,
   "id": "2c544571",
   "metadata": {},
   "outputs": [],
   "source": [
    "# Remove rows with missing or duplicated values from dataframe\n",
    "\n",
    "cleaned_df = df.dropna()\n",
    "cleaned_df = cleaned_df.drop_duplicates() \n",
    "cleaned_df"
   ]
  },
  {
   "cell_type": "markdown",
   "id": "315db6a5",
   "metadata": {},
   "source": [
    "## Enrollment Trends\n",
    "\n",
    "Using merged datasets from above, produce plot line of enrollment change from 2020 to present."
   ]
  },
  {
   "cell_type": "code",
   "execution_count": null,
   "id": "d7425658",
   "metadata": {},
   "outputs": [],
   "source": [
    "enrollment_data = df.pivot_table(values=\"All Students\", index=\"GradeLevel\", columns=\"SchoolYear\", aggfunc=\"sum\")\n",
    "enrollment_data = enrollment_data.style.format(\"{:,.0f}\")\n",
    "\n",
    "enrollment_data"
   ]
  },
  {
   "cell_type": "code",
   "execution_count": null,
   "id": "98b50521",
   "metadata": {},
   "outputs": [],
   "source": [
    "enrollment_data = df.pivot_table(values=\"All Students\", index=[\"SchoolName\",\"GradeLevel\"], columns=[\"County\",\"SchoolYear\"], aggfunc=\"sum\", fill_value=0)\n",
    "enrollment_data = enrollment_data.style.format(\"{:,.0f}\")\n",
    "\n",
    "enrollment_data"
   ]
  },
  {
   "cell_type": "code",
   "execution_count": null,
   "id": "122073e2",
   "metadata": {},
   "outputs": [],
   "source": [
    "print('Dataframe objects:')\n",
    "print(cleaned_df.columns) # Display the columns for df.drop call"
   ]
  },
  {
   "cell_type": "code",
   "execution_count": null,
   "id": "697aa0bc",
   "metadata": {},
   "outputs": [],
   "source": [
    "trunc_df = cleaned_df.drop([['SchoolYear', 'OrganizationLevel', 'County', 'ESDName',\n",
    "       'ESDOrganizationID', 'DistrictCode', 'DistrictName',\n",
    "       'DistrictOrganizationId', 'SchoolCode', 'SchoolName',\n",
    "       'SchoolOrganizationID', 'CurrentSchoolType', 'GradeLevel',\n",
    "       'All Students', 'Female', 'Gender X', 'Male',\n",
    "       'American Indian/ Alaskan Native', 'Asian', 'Black/ African American',\n",
    "       'Hispanic/ Latino of any race(s)',\n",
    "       'Native Hawaiian/ Other Pacific Islander', 'Two or More Races', 'White',\n",
    "       'English Language Learners', 'Foster Care', 'Highly Capable',\n",
    "       'Homeless', 'Low-Income', 'Migrant', 'Military Parent', 'Mobile',\n",
    "       'Section 504', 'Students with Disabilities',\n",
    "       'Non-English Language Learners', 'Non-Foster Care',\n",
    "       'Non-Highly Capable', 'Non-Homeless', 'Non-Low Income', 'Non Migrant',\n",
    "       'Non Military Parent', 'Non Mobile', 'Non Section 504',\n",
    "       'Students without Disabilities', 'DataAsOf']], axis=1)"
   ]
  },
  {
   "cell_type": "code",
   "execution_count": null,
   "id": "6f9f1e09",
   "metadata": {},
   "outputs": [],
   "source": [
    "\n"
   ]
  },
  {
   "cell_type": "code",
   "execution_count": null,
   "id": "f1742e33",
   "metadata": {},
   "outputs": [],
   "source": [
    "# Display statistical summary of data\n",
    "print('Statistical summary of dataframe')\n",
    "print(df.describe())\n"
   ]
  },
  {
   "cell_type": "code",
   "execution_count": null,
   "id": "2d088d4f",
   "metadata": {},
   "outputs": [],
   "source": [
    "# Data Definition\n",
    "pd.pivot_table(ospi_df, values = 'school', index = 'Female', 'Male', 'All Students')"
   ]
  },
  {
   "cell_type": "markdown",
   "id": "08e734a5",
   "metadata": {},
   "source": [
    "<mark>Type Analysis Here</mark>"
   ]
  },
  {
   "cell_type": "markdown",
   "id": "5a9c44a2",
   "metadata": {},
   "source": [
    "hello\n",
    "\n"
   ]
  }
 ],
 "metadata": {
  "kernelspec": {
   "display_name": "venv",
   "language": "python",
   "name": "python3"
  },
  "language_info": {
   "codemirror_mode": {
    "name": "ipython",
    "version": 3
   },
   "file_extension": ".py",
   "mimetype": "text/x-python",
   "name": "python",
   "nbconvert_exporter": "python",
   "pygments_lexer": "ipython3",
   "version": "3.12.4"
  }
 },
 "nbformat": 4,
 "nbformat_minor": 5
}
