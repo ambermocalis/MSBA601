{
 "cells": [
  {
   "cell_type": "markdown",
   "id": "90ebb020",
   "metadata": {},
   "source": [
    "# Python Classes Lecture Notes\n",
    "\n",
    "This notebook covers the essentials of Python classes, including class creation, instance methods, constructors, customization, and memory management."
   ]
  },
  {
   "cell_type": "markdown",
   "id": "2ea62da4",
   "metadata": {},
   "source": [
    "Classes are mainly useful to structure larger programs into smaller bits which represent meaningful abstractions, and can potentially be reused.\n",
    "In Python, under the hood, classes are not that much different from functions, both are \"objects\" that have certain properties attached to them.\n",
    "But classes have special powers that they can implement magic methods, which allows us for example to write custom iterable data structures, override the meaning of operators between our own objects, and do other useful stuff.\n",
    "\n",
    "In smaller programs, using just functions can be perfectly fine and usual for Python.\n"
   ]
  },
  {
   "cell_type": "markdown",
   "id": "f3639c52",
   "metadata": {},
   "source": [
    "## Python Classes and Objects\n",
    "Python is an object-oriented programming language. Almost everything in Python is an object.\n",
    "\n",
    "A Class is a blueprint for creating objects with properties and methods.\n",
    "\n",
    "### Example: Creating a simple class"
   ]
  },
  {
   "cell_type": "code",
   "execution_count": null,
   "id": "caeec8b1",
   "metadata": {},
   "outputs": [],
   "source": [
    "class MyClass:\n",
    "    x = 5\n",
    "\n",
    "p1 = MyClass()\n",
    "print(p1.x)"
   ]
  },
  {
   "cell_type": "markdown",
   "id": "3b979f85",
   "metadata": {},
   "source": [
    "## The __init__() Function\n",
    "The `__init__()` function is a special method that initializes objects of a class. It is automatically called when a new object is created.\n",
    "\n",
    "### Example:"
   ]
  },
  {
   "cell_type": "code",
   "execution_count": null,
   "id": "3d4cde98",
   "metadata": {},
   "outputs": [],
   "source": [
    "class Person:\n",
    "    def __init__(self, name, age): #The self parameter is a reference to the current instance of the class, and is used to access variables that belongs to the class.\n",
    "        self.name = name\n",
    "        self.age = age\n",
    "\n",
    "p1 = Person(\"John\", 36)\n",
    "print(p1.name) #Self param does not have to be named self , you can call it whatever you like, but it has to be the first parameter of any function in the class:\n",
    "print(p1.age)"
   ]
  },
  {
   "cell_type": "markdown",
   "id": "072e195f",
   "metadata": {},
   "source": [
    "## Instance Methods\n",
    "Instance methods are functions defined within a class that operate on objects created from the class.\n",
    "\n",
    "### Example:"
   ]
  },
  {
   "cell_type": "code",
   "execution_count": null,
   "id": "c0bc8ed4",
   "metadata": {},
   "outputs": [],
   "source": [
    "class Person:\n",
    "    def __init__(self, name, age):\n",
    "        self.name = name\n",
    "        self.age = age\n",
    "\n",
    "    def myfunc(self): #Instance here\n",
    "        print(\"Hello my name is \" + self.name)\n",
    "\n",
    "p1 = Person(\"John\", 36)\n",
    "p1.myfunc()"
   ]
  },
  {
   "cell_type": "markdown",
   "id": "bc0e11a1",
   "metadata": {},
   "source": [
    "## Class Constructors\n",
    "Class constructors can be customized to accept additional parameters.\n",
    "\n",
    "### Example:"
   ]
  },
  {
   "cell_type": "code",
   "execution_count": null,
   "id": "2da49aec",
   "metadata": {},
   "outputs": [],
   "source": [
    "class RaceTime:\n",
    "    def __init__(self, start_hrs, start_mins, end_hrs, end_mins, dist):\n",
    "        # Constructors below.\n",
    "        self.start_hrs = start_hrs\n",
    "        self.start_mins = start_mins\n",
    "        self.end_hrs = end_hrs\n",
    "        self.end_mins = end_mins\n",
    "        self.distance = dist\n",
    "\n",
    "race_time = RaceTime(5, 30, 7, 0, 5.0)\n",
    "print(f\"Race start time: {race_time.start_hrs}:{race_time.start_mins}\")"
   ]
  },
  {
   "cell_type": "markdown",
   "id": "59d8d597",
   "metadata": {},
   "source": [
    "## Class and Instance Object Types\n",
    "A class object acts as a factory to create instance objects. A class attribute is shared among all instances, while instance attributes are unique to each object.\n",
    "\n",
    "### Example:"
   ]
  },
  {
   "cell_type": "code",
   "execution_count": null,
   "id": "7d6515b1",
   "metadata": {},
   "outputs": [],
   "source": [
    "class MarathonRunner:\n",
    "    race_distance = 42.195  # Class attribute\n",
    "\n",
    "    def __init__(self, speed):\n",
    "        self.speed = speed  # Instance attribute\n",
    "\n",
    "runner1 = MarathonRunner(7.5)\n",
    "runner2 = MarathonRunner(8.0)\n",
    "\n",
    "print(f'Runner 1 speed: {runner1.speed}')\n",
    "print(f'Runner 2 speed: {runner2.speed}')\n",
    "print(f'Marathon distance: {MarathonRunner.race_distance}')"
   ]
  },
  {
   "cell_type": "markdown",
   "id": "4b00401e",
   "metadata": {},
   "source": [
    "## Class Customization\n",
    "Class customization allows you to define how an object should behave when printed or compared.\n",
    "\n",
    "### Example: Customizing the __str__ method"
   ]
  },
  {
   "cell_type": "code",
   "execution_count": null,
   "id": "7cbea40b",
   "metadata": {},
   "outputs": [],
   "source": [
    "class Toy:\n",
    "    def __init__(self, name, price, min_age):\n",
    "        self.name = name\n",
    "        self.price = price\n",
    "        self.min_age = min_age\n",
    "\n",
    "    def __str__(self): #customization The __str__() function controls what should be returned when the class object is represented as a string.\n",
    "        return f'{self.name} costs ${self.price:.2f}. Not for children under {self.min_age}!'\n",
    "\n",
    "truck = Toy('Monster Truck', 14.99, 5)\n",
    "print(truck)"
   ]
  },
  {
   "cell_type": "markdown",
   "id": "029098fa",
   "metadata": {},
   "source": [
    "## Operator Overloading\n",
    "You can overload operators to define how objects of a class behave with operators like `+`, `-`, `*`, etc.\n",
    "\n",
    "### Example: Overloading the subtraction operator"
   ]
  },
  {
   "cell_type": "code",
   "execution_count": null,
   "id": "6217479f",
   "metadata": {},
   "outputs": [],
   "source": [
    "class Time24:\n",
    "    def __init__(self, hours, minutes):\n",
    "        self.hours = hours\n",
    "        self.minutes = minutes\n",
    "\n",
    "    def __sub__(self, other):\n",
    "        hrs = self.hours - other.hours\n",
    "        mins = self.minutes - other.minutes\n",
    "        if mins < 0:\n",
    "            mins += 60\n",
    "            hrs -= 1\n",
    "        return Time24(hrs, mins)\n",
    "\n",
    "    def __str__(self):\n",
    "        return f'{self.hours:02}:{self.minutes:02}'\n",
    "\n",
    "time1 = Time24(10, 45)\n",
    "time2 = Time24(8, 30)\n",
    "print(f'Time difference: {time1 - time2}')"
   ]
  }
 ],
 "metadata": {
  "kernelspec": {
   "display_name": "venv",
   "language": "python",
   "name": "python3"
  },
  "language_info": {
   "codemirror_mode": {
    "name": "ipython",
    "version": 3
   },
   "file_extension": ".py",
   "mimetype": "text/x-python",
   "name": "python",
   "nbconvert_exporter": "python",
   "pygments_lexer": "ipython3",
   "version": "3.10.8"
  }
 },
 "nbformat": 4,
 "nbformat_minor": 5
}
