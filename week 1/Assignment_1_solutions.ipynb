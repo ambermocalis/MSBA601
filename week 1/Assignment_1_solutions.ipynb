{
 "cells": [
  {
   "cell_type": "markdown",
   "metadata": {},
   "source": [
    "# 1.15 LAB: Formatted output: Hello World!"
   ]
  },
  {
   "cell_type": "code",
   "execution_count": 1,
   "metadata": {},
   "outputs": [
    {
     "name": "stdout",
     "output_type": "stream",
     "text": [
      "Hello World!\n"
     ]
    }
   ],
   "source": [
    "# Write a program that outputs \"Hello World!\" as shown below. For ALL labs, end with newline (unless otherwise stated).\n",
    "\n",
    "print('Hello World!')"
   ]
  },
  {
   "cell_type": "markdown",
   "metadata": {},
   "source": [
    "# 1.16 LAB: Formatted output: No parking sign"
   ]
  },
  {
   "cell_type": "code",
   "execution_count": 3,
   "metadata": {},
   "outputs": [
    {
     "name": "stdout",
     "output_type": "stream",
     "text": [
      "  NO PARKING\n",
      "2:00 - 6:00 a.m.\n"
     ]
    }
   ],
   "source": [
    "# Write a program that prints a formatted \"No parking\" sign as shown below. Note the first line has two leading spaces. For ALL labs, end with newline (unless otherwise stated).\n",
    "\n",
    "print('  NO PARKING')\n",
    "print('2:00 - 6:00 a.m.')\n",
    "\n"
   ]
  },
  {
   "cell_type": "markdown",
   "metadata": {},
   "source": [
    "# 1.17 LAB: Input: Welcome message"
   ]
  },
  {
   "cell_type": "markdown",
   "metadata": {},
   "source": [
    "Write a program that takes a first name as the input, and outputs a welcome message to that name.\n",
    "\n",
    "Ex: If the input is Pat, the output is:\n",
    "\n",
    "Hey Pat\n",
    "Welcome to zyBooks!"
   ]
  },
  {
   "cell_type": "code",
   "execution_count": null,
   "metadata": {},
   "outputs": [],
   "source": [
    "user_name = input()\n",
    "\n",
    "print('Hey', user_name)\n",
    "print('Welcome to zyBooks!')"
   ]
  },
  {
   "cell_type": "markdown",
   "metadata": {},
   "source": [
    "# 1.18 LAB: Input: Mad Lib"
   ]
  },
  {
   "cell_type": "markdown",
   "metadata": {},
   "source": [
    "Mad Libs are activities that have a person provide various words, which are then used to complete a short story in unexpected (and hopefully funny) ways.\n",
    "\n",
    "Complete a program that reads four values from input and stores the values in variables first_name, generic_location, whole_number, and plural_noun. The program then uses the input values to output a short story. The first input statement is provided in the code as an example.\n",
    "\n",
    "Notes: To test your program in the Develop mode, pre-enter four values (in separate lines) in the input box and click the Run program button. The auto-grader in the Submit mode will test your program with different sets input of values.\n",
    "\n",
    "Ex: If the input values are:\n",
    "\n",
    "Eric\n",
    "12\n",
    "cars\n",
    "Chipotle\n",
    "then the program uses the input values and outputs a story:\n",
    "\n",
    "Eric buys 12 different types of cars at Chipotle\n",
    "Ex: If the input values are:\n",
    "\n",
    "Brenda\n",
    "6\n",
    "bells\n",
    "Phillys\n",
    "then the program uses the input values and outputs a story:\n",
    "\n",
    "Brenda buys 6 different types of bells at Phillys"
   ]
  },
  {
   "cell_type": "code",
   "execution_count": null,
   "metadata": {},
   "outputs": [],
   "source": [
    "# Read a value from a user and store the value in first_name\n",
    "first_name = input()\n",
    "\n",
    "whole_number = input()\n",
    "plural_noun = input()\n",
    "generic_location = input()\n",
    "\n",
    "\n",
    "# Output a short story using the four input values. Do not modify the code below.\n",
    "print(first_name, 'buys', whole_number, 'different types of', plural_noun, 'at', generic_location)"
   ]
  }
 ],
 "metadata": {
  "kernelspec": {
   "display_name": "venv",
   "language": "python",
   "name": "python3"
  },
  "language_info": {
   "codemirror_mode": {
    "name": "ipython",
    "version": 3
   },
   "file_extension": ".py",
   "mimetype": "text/x-python",
   "name": "python",
   "nbconvert_exporter": "python",
   "pygments_lexer": "ipython3",
   "version": "3.10.8"
  }
 },
 "nbformat": 4,
 "nbformat_minor": 2
}
