{
 "cells": [
  {
   "cell_type": "markdown",
   "id": "4b247819",
   "metadata": {},
   "source": [
    "\n",
    "# Data Analysis Project\n",
    "\n",
    "**Students Names:** Norhan Ali & Amber Mocalis <br>\n",
    "**Course Name:**  MSBA-601-01 Fund Tech for Bus Analytics (Fall 2024) <br>\n",
    "**Date:** November 20, 2024 <br>\n",
    "\n",
    "---\n",
    "\n",
    "### Project Overview\n",
    "\n",
    "In this project, you will work in a team of two and utilize what we have learned in this class to preform an analysis on a dataset. \n",
    "\n",
    "The data you choose is up to you! I encourage you to select a dataset that fits your area of expertise. Some of the resources for datasets are listed below. Note that these are just resources I've used in the past. You are not limited to these resources, but it's a place to start.<br>\n",
    "    <br>\n",
    "    - [kaggle](https://www.kaggle.com/datasets)<br>\n",
    "    - [data.gov](https://data.gov/)<br>\n",
    "    - [google datasets](https://datasetsearch.research.google.com/)<br>\n",
    "    - [SEC datasets](https://www.sec.gov/data-research/sec-markets-data/financial-statement-data-sets)<br>\n",
    "    - [dataquest](https://www.dataquest.io/blog/free-datasets-for-projects/)<br>\n",
    "\n",
    "Your dataset must have at LEAST 10,000 rows of data. Additionally, it should have enough attributes to allow for a meaningful analysis and level of complexity (e.g., a dataset with just two columns for \"name\" and \"birthdate\" likely is not going to be enough.)\n",
    "\n",
    "Once you have selected a dataset, you will be required to perform an analysis with a large dataset of at least 10,000 rows. \n",
    "\n",
    "The goal is to:\n",
    "\n",
    "- Import and explore the dataset.\n",
    "- Clean and prepare the data for analysis.\n",
    "- Derive at least <mark>6 key insights</mark> from the data using Python and Python libraries. You are welcome to add more coding blocks and more insights. \n",
    "- Communicate these insights clearly, professionally, and explain how they can inform decision-making.\n",
    "\n",
    "---\n"
   ]
  },
  {
   "cell_type": "markdown",
   "id": "3c323273",
   "metadata": {},
   "source": [
    "## 1. Importing Necessary Libraries"
   ]
  },
  {
   "cell_type": "markdown",
   "id": "bd62c777",
   "metadata": {},
   "source": [
    "### OSPI Enrollment Report Card Datasets\n",
    "\n",
    "The Office of the Superintendent of Public Instruction (OSPI) maintains a repository of data that is available for public use. In my previous role as the tuition and financial aid director for a private high school, my team and I used data from OSPI to gain understanding of overall student enrollment in Washington State and to guide our strategic enrollment goals and long-term budgeting.\n"
   ]
  },
  {
   "cell_type": "code",
   "execution_count": null,
   "id": "b76593be",
   "metadata": {},
   "outputs": [],
   "source": [
    "# Import necessary libraries for assignment\n",
    "import pandas as pd\n",
    "import matplotlib.pyplot as plt\n",
    "import seaborn as sns"
   ]
  },
  {
   "cell_type": "markdown",
   "id": "9a69eed3",
   "metadata": {},
   "source": [
    "\n",
    "## 2. Loading the Dataset\n"
   ]
  },
  {
   "cell_type": "code",
   "execution_count": null,
   "id": "65861d89",
   "metadata": {},
   "outputs": [],
   "source": [
    "\n",
    "# Reads OSPI enrollment CSV files into a DataFrame.\n",
    "\n",
    "def load_enrollment_data(file_path):    \n",
    "    try:\n",
    "        # Load the CSV file into a DataFrame\n",
    "        df = pd.read_csv(file_path)\n",
    "        \n",
    "        return df\n",
    "    \n",
    "    except FileNotFoundError:\n",
    "        print(f'File not found: {file_path}')\n",
    "        return None\n",
    "\n",
    "# Read OSPI Enrollment Data into DataFrames    \n",
    "df_24 = load_enrollment_data('Report_Card_Enrollment_2023-24.csv')\n",
    "df_23 = load_enrollment_data('Report_Card_Enrollment_2022-23.csv')\n",
    "df_22 = load_enrollment_data('Report_Card_Enrollment_2021-22.csv')\n",
    "df_21 = load_enrollment_data('Report_Card_Enrollment_2020-21.csv')\n",
    "df_20 = load_enrollment_data('Report_Card_Enrollment_2019-20.csv')\n",
    "\n"
   ]
  },
  {
   "cell_type": "markdown",
   "id": "fb0f9d20",
   "metadata": {},
   "source": [
    "\n",
    "## 3. Data Exploration\n",
    "\n",
    "Explore the dataset by checking its dimensions, data types, and any missing values.\n",
    "\n",
    "\n",
    "**Guiding Questions:**\n",
    "- What columns are available in the data?\n",
    "- Are there any columns with missing values?\n",
    "- What data types are present?\n",
    "\n"
   ]
  },
  {
   "cell_type": "code",
   "execution_count": null,
   "id": "7e374a5c",
   "metadata": {},
   "outputs": [],
   "source": [
    "print('Dataframe info:')\n",
    "print(df_24.info()) # Display info about the data, including shape & column info\n",
    "print(\"*\"*75)\n",
    "\n",
    "print('Missing data:')\n",
    "print(df_24.isnull().sum()) # Display columns with missing data\n",
    "print(\"*\"*75)\n",
    "\n",
    "print('Display the first 5 rows of the OSPI dataframe')\n",
    "print(df_24.head(5)) # Display the first 5 rows of the Dataframe"
   ]
  },
  {
   "cell_type": "markdown",
   "id": "ea3cc476",
   "metadata": {},
   "source": [
    "##### Dimensions\n",
    "\n",
    "##### Data types\n",
    "\n",
    "##### Columns\n",
    "\n",
    "##### Missing Values\n",
    "\n",
    "---\n"
   ]
  },
  {
   "cell_type": "markdown",
   "id": "4d7eff26",
   "metadata": {},
   "source": [
    "### Concatenate Dataframes\n",
    "\n",
    "In order to better understand enrollment trends in the past five years, we concatenated dataframes from FY20 to FY24."
   ]
  },
  {
   "cell_type": "code",
   "execution_count": null,
   "id": "a0d49e38",
   "metadata": {},
   "outputs": [],
   "source": [
    "# Function to reorder columns based on a reference DataFrame (df_24-the most recent OSPI dataset), then concatenate all dataframes\n",
    "def reorder_and_concat(*dataframes):\n",
    "    try:\n",
    "        # Standardize column names to prevent concatenation errors\n",
    "        for df in dataframes:\n",
    "            df.columns = df.columns.str.lower()  # Convert to lowercase\n",
    "            df.columns = df.columns.str.replace(r\"[_\\-/]\", \" \", regex=True)  # Replace _, -, or / with a space\n",
    "        \n",
    "        # Use the columns from the first DataFrame as the reference\n",
    "        reference_columns = dataframes[0].columns\n",
    "        \n",
    "        # Reorder each DataFrame to match the reference column order\n",
    "        reordered_dfs = [df[reference_columns] for df in dataframes]\n",
    "        \n",
    "        # Concatenate the reordered DataFrames along rows (axis=0)\n",
    "        concatenated_df = pd.concat(reordered_dfs, axis=0) \n",
    "        \n",
    "        print(\"Dataframes concatenated successfully.\")\n",
    "        return concatenated_df\n",
    "    \n",
    "    except Exception as e:\n",
    "        print(\"Columns do not match. Concatenation failed.\")\n",
    "        return None\n",
    "\n",
    "concat_df = reorder_and_concat(df_24, df_23, df_22, df_21, df_20)\n"
   ]
  },
  {
   "cell_type": "code",
   "execution_count": null,
   "id": "e5d3aa65",
   "metadata": {},
   "outputs": [],
   "source": [
    "# Analyze the concatenated dataset to create baseline understanding\n",
    "\n",
    "print('Dataframe info:')\n",
    "print(concat_df.info()) # Display info about the data, including shape & column info\n",
    "print(\"*\"*75)\n",
    "\n",
    "\n",
    "print('Missing data:')\n",
    "print(concat_df.isnull().sum()) # Display columns with missing data\n",
    "print(\"*\"*75)\n",
    "\n",
    "print('Preview the OSPI dataframe')\n",
    "print(concat_df) # Display the first 5 rows of the Dataframe\n"
   ]
  },
  {
   "cell_type": "markdown",
   "id": "498d3394",
   "metadata": {},
   "source": [
    "\n",
    "## 4. Data Cleaning\n",
    "\n",
    "Clean the data to ensure consistency and handle any missing values or outliers.\n",
    "\n",
    "\n",
    "**Instructions:**\n",
    "- Describe each cleaning step you take.\n",
    "- Explain how these changes will improve the analysis.\n"
   ]
  },
  {
   "cell_type": "code",
   "execution_count": null,
   "id": "2c544571",
   "metadata": {},
   "outputs": [],
   "source": [
    "# Remove rows with missing or duplicated values from dataframe\n",
    "\n",
    "cleaned_df = concat_df.dropna()\n",
    "cleaned_df = cleaned_df.drop_duplicates() \n",
    "\n",
    "cleaned_df.shape"
   ]
  },
  {
   "cell_type": "markdown",
   "id": "93874e14",
   "metadata": {},
   "source": [
    "By dropping null values, we have reduced the dataframe from 101,812 rows to 78,671 rows "
   ]
  },
  {
   "cell_type": "code",
   "execution_count": null,
   "id": "b58e4b65",
   "metadata": {},
   "outputs": [],
   "source": [
    "\n",
    "cleaned_df = cleaned_df.drop(['american indian  alaskan native', 'asian', 'black  african american',\n",
    "       'hispanic  latino of any race(s)',\n",
    "       'native hawaiian  other pacific islander', 'two or more races', 'white',\n",
    "       'english language learners', 'foster care', 'highly capable',\n",
    "       'homeless', 'low income', 'migrant', 'military parent', 'mobile',\n",
    "       'section 504', 'students with disabilities',\n",
    "       'non english language learners', 'non foster care',\n",
    "       'non highly capable', 'non homeless', 'non low income', 'non migrant',\n",
    "       'non military parent', 'non mobile', 'non section 504',\n",
    "       'students without disabilities'], axis=1)\n"
   ]
  },
  {
   "cell_type": "code",
   "execution_count": null,
   "id": "41217197",
   "metadata": {},
   "outputs": [],
   "source": [
    "cleaned_df"
   ]
  },
  {
   "cell_type": "markdown",
   "id": "209fb58d",
   "metadata": {},
   "source": [
    "\n",
    "## 5. Data Visualization\n",
    "\n",
    "Use visualization to better understand the data and spot trends. Include <mark>at least two visualizations</mark>.\n",
    "\n",
    "\n",
    "**Guiding Questions:**\n",
    "- What patterns do you see?\n",
    "- How can these patterns contribute to further insights?\n"
   ]
  },
  {
   "cell_type": "markdown",
   "id": "315db6a5",
   "metadata": {},
   "source": [
    "### Enrollment Trends\n",
    "\n",
    "Using merged datasets from above, produce plot line of enrollment change from 2020 to present."
   ]
  },
  {
   "cell_type": "code",
   "execution_count": null,
   "id": "5b481107",
   "metadata": {},
   "outputs": [],
   "source": [
    "\n",
    "\n",
    "plt.figure(figsize=(10, 6))\n",
    "for grade in filtered_enrollment_data.index:\n",
    "    plt.plot(filtered_enrollment_data.columns, filtered_enrollment_data.loc[grade], marker='o', label=grade)\n",
    "\n",
    "plt.title('Enrollment Trend by Grade from 2020 to 2024')\n",
    "plt.xlabel('School Year')\n",
    "plt.ylabel('Number of Students')\n",
    "plt.legend(title=\"Grade Level\", bbox_to_anchor=(1.05, 1), loc='upper left')\n",
    "plt.grid(True)\n",
    "plt.tight_layout()\n",
    "plt.show()"
   ]
  },
  {
   "cell_type": "code",
   "execution_count": null,
   "id": "d7425658",
   "metadata": {},
   "outputs": [],
   "source": [
    "enrollment_data_grade_level = cleaned_df.pivot_table(values=\"all students\", \n",
    "                                                       index=\"gradelevel\", \n",
    "                                                       columns=\"schoolyear\", \n",
    "                                                       aggfunc=\"sum\")\n",
    "\n",
    "enrollment_data_grade_level"
   ]
  },
  {
   "cell_type": "code",
   "execution_count": null,
   "id": "c6341de0",
   "metadata": {},
   "outputs": [],
   "source": [
    "# Specify order of grades in pivot table & filter out unwanted grade levels\n",
    "custom_index_order = [\n",
    "    'Kindergarten', '1st Grade', '2nd Grade', '3rd Grade', '4th Grade', \n",
    "    '5th Grade', '6th Grade', '7th Grade', '8th Grade', '9th Grade', '10th Grade', \n",
    "    '11th Grade', '12th Grade']\n",
    "\n",
    "filtered_enrollment_data = enrollment_data_grade_level.query('gradelevel != \"Half-day Kindergarten\"').query('gradelevel != \"Pre-Kindergarten\"').query('gradelevel != \"All Grades\"').reindex(custom_index_order)\n",
    "\n",
    "filtered_enrollment_data"
   ]
  },
  {
   "cell_type": "code",
   "execution_count": null,
   "id": "cb62044e",
   "metadata": {},
   "outputs": [],
   "source": [
    "# Plot the data on a line graph by grade\n",
    "plt.figure(figsize=(12, 8))\n",
    "\n",
    "for grade in filtered_enrollment_data.index:\n",
    "    plt.plot(filtered_enrollment_data.columns, filtered_enrollment_data.loc[grade], marker='o', label=grade)\n",
    "    \n",
    "plt.title('Total Enrollment by Grade Level (FY20 to FY24)', fontsize=14)\n",
    "plt.xlabel('Year', fontsize=14)\n",
    "plt.ylabel('Total Enrollment', fontsize=12)\n",
    "plt.grid(True)\n",
    "plt.xticks(rotation=45)  # Rotate x-axis labels for visibility\n",
    "plt.legend(title='Grade Level', bbox_to_anchor=(1.05, 1), loc='upper left')\n",
    "plt.tight_layout()\n",
    "plt.show()"
   ]
  },
  {
   "cell_type": "code",
   "execution_count": null,
   "id": "dc0cdce2",
   "metadata": {},
   "outputs": [],
   "source": [
    "enrollment_data_by_year = concat_df.pivot_table(values=\"all students\", index=\"schoolyear\", columns=\"gradelevel\", aggfunc=\"sum\")\n",
    "enrollment_data_by_year = enrollment_data_by_year.reindex(columns=custom_index_order)\n",
    "\n",
    "enrollment_data_by_year"
   ]
  },
  {
   "cell_type": "code",
   "execution_count": null,
   "id": "574dd049",
   "metadata": {},
   "outputs": [],
   "source": [
    "# Plot the data in a bar chart\n",
    "enrollment_data_by_year.plot(kind='bar', figsize=(10, 6))\n",
    "plt.title('Enrollment by Year (FY20 to FY24)', fontsize=14)\n",
    "plt.ylabel('Enrollment', fontsize=12)\n",
    "plt.grid(True)\n",
    "plt.xticks(rotation=45)  # Rotate x-axis labels for visibility\n",
    "plt.legend(title='School Year', bbox_to_anchor=(1.05, 1), loc='upper left')\n",
    "plt.show()"
   ]
  },
  {
   "cell_type": "code",
   "execution_count": null,
   "id": "46a8994d",
   "metadata": {},
   "outputs": [],
   "source": [
    "all_grades_enrollment_data = enrollment_data_grade_level.query('gradelevel == \"All Grades\"')\n",
    "\n",
    "# Plot the data in a bar chart\n",
    "all_grades_enrollment_data.plot(kind='bar', figsize=(10, 6))\n",
    "plt.title('Total Enrollment by Year', fontsize=12)\n",
    "plt.ylabel('Total Enrollment', fontsize=12)\n",
    "plt.grid(True)\n",
    "plt.xticks(rotation=45)  # Rotate x-axis labels for visibility\n",
    "plt.legend(title='School Year', bbox_to_anchor=(1.05, 1), loc='upper left')\n",
    "plt.show()"
   ]
  },
  {
   "cell_type": "markdown",
   "id": "e65f9871",
   "metadata": {},
   "source": [
    "#### Pause use - may be able to use more specific df/pvt tbl below\n",
    "spokane_area_schools = cleaned_df[\n",
    "   cleaned_df['currentschooltype'].isin(['P']) & \n",
    "   cleaned_df['gradelevel'].isin(['9th Grade', '10th Grade', '11th Grade', '12th Grade'])]\n",
    "\n",
    "spokane_area_schools = spokane_area_schools.pivot_table(values=\"all students\", \n",
    "                                    index=[\"schoolname\", \"gradelevel\"], \n",
    "                                    columns=\"schoolyear\", \n",
    "                                    aggfunc=\"sum\")\n",
    "\n",
    "spokane_area_schools\n"
   ]
  },
  {
   "cell_type": "code",
   "execution_count": null,
   "id": "5cfae6d9",
   "metadata": {},
   "outputs": [],
   "source": [
    "feeder_districts = [\n",
    "   'Central Valley School District', \n",
    "   'Cheney School District', \n",
    "   'Deer Park School District', \n",
    "   'East Valley School District (Spokane)', \n",
    "   'Mead School District', \n",
    "   'Medical Lake School District', \n",
    "   'Nine Mile Falls School District', \n",
    "   'Riverside School District', \n",
    "   'Spokane School District', \n",
    "   'West Valley School District (Spokane)'\n",
    "   ]\n",
    "\n",
    "# Pivot Table of current high school enrollment trends\n",
    "spokane_area_schools = cleaned_df[\n",
    "   cleaned_df['currentschooltype'].isin(['P']) & \n",
    "   cleaned_df['gradelevel'].isin(['9th Grade', '10th Grade', '11th Grade', '12th Grade']) &\n",
    "   cleaned_df['districtname'].isin(feeder_districts)]\n",
    "\n",
    "spokane_area_schools = spokane_area_schools.pivot_table(values=\"all students\", \n",
    "                                    index=[\"districtname\", \"gradelevel\"], \n",
    "                                    columns=\"schoolyear\", \n",
    "                                    aggfunc=\"sum\")\n"
   ]
  },
  {
   "cell_type": "code",
   "execution_count": null,
   "id": "bf2beb65",
   "metadata": {},
   "outputs": [],
   "source": [
    "\n",
    "# Plot high school enrollment data\n",
    "for district in spokane_area_schools.index.get_level_values('districtname').unique():\n",
    "   district_data = spokane_area_schools.xs(district, level='districtname') \n",
    "   plt.figure(figsize=(12, 8))\n",
    "   for grade in district_data.index:\n",
    "       plt.plot(district_data.columns, district_data.loc[grade], marker='o', label=f\"{grade}\")\n",
    "\n",
    "   plt.title(f'Enrollment Trends for {district} (FY20 to FY24)')\n",
    "   plt.xlabel('School Year')\n",
    "   plt.ylabel('Number of Students')\n",
    "   plt.legend(title=\"Grade Level\", bbox_to_anchor=(1.05, 1), loc='upper left')\n",
    "   plt.grid(True)\n",
    "   plt.tight_layout()\n",
    "   plt.show()"
   ]
  },
  {
   "cell_type": "code",
   "execution_count": null,
   "id": "198a96dc",
   "metadata": {},
   "outputs": [],
   "source": [
    "# Pivot Table of current middle school enrollment trends\n",
    "spokane_area_middle_school_enrollment = cleaned_df[\n",
    "   cleaned_df['currentschooltype'].isin(['P']) & \n",
    "   cleaned_df['gradelevel'].isin(['5th Grade', '6th Grade', '7th Grade', '8th Grade']) &\n",
    "   cleaned_df['districtname'].isin(feeder_districts)]\n",
    "\n",
    "spokane_area_middle_school_enrollment = spokane_area_middle_school_enrollment.pivot_table(values=\"all students\", \n",
    "                                    index=[\"districtname\", \"gradelevel\"], \n",
    "                                    columns=\"schoolyear\", \n",
    "                                    aggfunc=\"sum\")\n"
   ]
  },
  {
   "cell_type": "code",
   "execution_count": null,
   "id": "38f8f0f7",
   "metadata": {},
   "outputs": [],
   "source": [
    "\n",
    "# Plot high school enrollment data\n",
    "for district in spokane_area_middle_school_enrollment.index.get_level_values('districtname').unique():\n",
    "   district_data = spokane_area_middle_school_enrollment.xs(district, level='districtname') \n",
    "   plt.figure(figsize=(12, 8))\n",
    "   for grade in district_data.index:\n",
    "       plt.plot(district_data.columns, district_data.loc[grade], marker='o', label=f\"{grade}\")\n",
    "\n",
    "   plt.title(f'Enrollment Trends for {district} (FY20 to FY24)')\n",
    "   plt.xlabel('School Year')\n",
    "   plt.ylabel('Number of Students')\n",
    "   plt.legend(title=\"Grade Level\", bbox_to_anchor=(1.05, 1), loc='upper left')\n",
    "   plt.grid(True)\n",
    "   plt.tight_layout()\n",
    "   plt.show()"
   ]
  },
  {
   "cell_type": "markdown",
   "id": "3513024c",
   "metadata": {},
   "source": [
    "#### Bonus Data Visualization\n",
    "\n",
    "Check out this district map from the National Center for Education Statistics __[NCES School District Boundaries for Washington State](https://data-nces.opendata.arcgis.com/datasets/95738ddb2b784336a60aff23312ff480_0/explore?filters=eyJTVEFURUZQIjpbIjUzIl19&location=47.320653%2C-120.046795%2C7.46)__"
   ]
  },
  {
   "cell_type": "markdown",
   "id": "d1df0176",
   "metadata": {},
   "source": [
    "\n",
    "## 6. Deriving Insights\n",
    "\n",
    "In this section, derive six insights from the data. Each insight should have:\n",
    "- A brief description of what you are examining.\n",
    "- The code used to calculate or visualize it.\n",
    "- A short analysis of the results and how they contribute to understanding the data.\n",
    "- Visuals can be used to aid your insights as well."
   ]
  },
  {
   "cell_type": "markdown",
   "id": "2dca47b4",
   "metadata": {},
   "source": [
    "### Business Questions for Analysis (from Amber)\n",
    "\n",
    "- How is enrollment trending since 2020/post-COVID era (2020-2021, 2021-2022, 2022-2023, 2023-2024)\n",
    "    - by grade\n",
    "- Can we see a heatmap of enrollment increases/decreases across school districts?\n",
    "- Isolate Spokane area schools and do same analysis as above\n",
    "    - may require school - zip code dataset to cross-reference\n",
    "    - is Spokane County good enough for aggregation?\n"
   ]
  },
  {
   "cell_type": "markdown",
   "id": "dd1a9e43",
   "metadata": {},
   "source": [
    "\n",
    "### Insight 1\n",
    "\n",
    "**Insight Description:** _[Describe what you are trying to learn from this analysis.]_ <br>\n",
    "**Analysis:** _[Describe what this insight tells you and how it can inform decisions.]_<br>\n"
   ]
  },
  {
   "cell_type": "code",
   "execution_count": null,
   "id": "bfbb568e",
   "metadata": {},
   "outputs": [],
   "source": [
    "# Code for Insight"
   ]
  },
  {
   "cell_type": "markdown",
   "id": "428fa9c0",
   "metadata": {},
   "source": [
    "\n",
    "### Insight 2\n",
    "\n",
    "**Insight Description:** _[Describe what you are trying to learn from this analysis.]_ <br>\n",
    "**Analysis:** _[Describe what this insight tells you and how it can inform decisions.]_<br>\n"
   ]
  },
  {
   "cell_type": "code",
   "execution_count": null,
   "id": "8ba2a425",
   "metadata": {},
   "outputs": [],
   "source": [
    "# Code for Insight"
   ]
  },
  {
   "cell_type": "markdown",
   "id": "b6ed92ce",
   "metadata": {},
   "source": [
    "\n",
    "### Insight 3\n",
    "\n",
    "**Insight Description:** _[Describe what you are trying to learn from this analysis.]_ <br>\n",
    "**Analysis:** _[Describe what this insight tells you and how it can inform decisions.]_<br>\n"
   ]
  },
  {
   "cell_type": "code",
   "execution_count": null,
   "id": "b26bc8b3",
   "metadata": {},
   "outputs": [],
   "source": [
    "# Code for Insight"
   ]
  },
  {
   "cell_type": "markdown",
   "id": "64501014",
   "metadata": {},
   "source": [
    "\n",
    "### Insight 4\n",
    "\n",
    "**Insight Description:** _[Describe what you are trying to learn from this analysis.]_ <br>\n",
    "**Analysis:** _[Describe what this insight tells you and how it can inform decisions.]_<br>\n"
   ]
  },
  {
   "cell_type": "code",
   "execution_count": null,
   "id": "a7b4f01c",
   "metadata": {},
   "outputs": [],
   "source": [
    "# Code for Insight"
   ]
  },
  {
   "cell_type": "markdown",
   "id": "cbd57471",
   "metadata": {},
   "source": [
    "\n",
    "### Insight 5\n",
    "\n",
    "**Insight Description:** _[Describe what you are trying to learn from this analysis.]_ <br>\n",
    "**Analysis:** _[Describe what this insight tells you and how it can inform decisions.]_<br>\n"
   ]
  },
  {
   "cell_type": "code",
   "execution_count": null,
   "id": "90dca794",
   "metadata": {},
   "outputs": [],
   "source": [
    "# Code for Insight"
   ]
  },
  {
   "cell_type": "markdown",
   "id": "0981ff0a",
   "metadata": {},
   "source": [
    "\n",
    "### Insight 6\n",
    "\n",
    "**Insight Description:** _[Describe what you are trying to learn from this analysis.]_ <br>\n",
    "**Analysis:** _[Describe what this insight tells you and how it can inform decisions.]_<br>\n"
   ]
  },
  {
   "cell_type": "code",
   "execution_count": null,
   "id": "e4e3de78",
   "metadata": {},
   "outputs": [],
   "source": [
    "# Code for Insight"
   ]
  },
  {
   "cell_type": "markdown",
   "id": "7e52b645",
   "metadata": {},
   "source": [
    "\n",
    "## 7. Summary and Conclusions\n",
    "\n",
    "Summarize your findings and highlight the most impactful insights you derived from the data.\n",
    "\n",
    "**Guiding Questions:**\n",
    "- What key takeaways did you learn from this data?\n",
    "- How can these insights inform future decisions?\n",
    "- Are there any limitations in your analysis?\n",
    "\n",
    "**Insight Description:** _[Describe what you are trying to learn from this analysis.]_ <br>\n",
    "**Analysis:** _[Describe what this insight tells you and how it can inform decisions.]_<br>\n"
   ]
  },
  {
   "cell_type": "markdown",
   "id": "ee46eb0a",
   "metadata": {},
   "source": [
    "\n",
    "## 8. Projections\n",
    "\n",
    "Finally, tell us something that can be learned from this analysis to make better decisions going forward. \n",
    "\n",
    "**Insight Description:** _[Describe what you are trying to learn from this analysis.]_ <br>\n",
    "**Analysis:** _[Describe what this insight tells you and how it can inform decisions.]_<br>"
   ]
  },
  {
   "cell_type": "markdown",
   "id": "1119e0bb",
   "metadata": {},
   "source": []
  },
  {
   "cell_type": "markdown",
   "id": "b1f1ad0c",
   "metadata": {},
   "source": [
    "\n",
    "**Instructions for Submission:**\n",
    "\n",
    "- Submit the completed `.ipynb` file, dataset, and link to dataset in Canvas.\n"
   ]
  },
  {
   "cell_type": "markdown",
   "id": "b8b342fa",
   "metadata": {},
   "source": [
    "## Grading Critiria\n",
    "\n",
    "Below are some of the critiria that I will be using when grading the final case. Keep in mind, no one part has a specific weight.\n",
    "\n",
    "| **Section**          | **Description**                                                                                                                                             |\n",
    "|----------------------|-------------------------------------------------------------------------------------------------------------------------------------------------------------|\n",
    "| **Dataset Quality**  | Does the dataset meet the length and complexity requirements?                                                                                               |\n",
    "| **Data Ingestion**   | Demonstrates a well-structured process using Python to import, explore, and clean the data.                                                                 |\n",
    "| **Data Cleanup**     | Clearly explains how data was cleaned (if necessary) to prepare it for analysis.                                                                            |\n",
    "| **Analysis**         | - Utilizes a variety of modules and functions to analyze the cleaned dataset.                                                                               |\n",
    "|                      | - You and your partner must provide at least six (6) insights derived from the analysis.                                                                    |\n",
    "|                      | - Insights should reveal something not initially obvious from the raw data.                                                                                 |\n",
    "|                      | - Present each insight with code execution, printed data tables, visuals, etc., and explain the process and significance.                                   |\n",
    "| **Conclusion**       | Synthesizes your insights to explain the overall story the data tells.                                                                                      |\n",
    "|                      | Discusses the importance of the data and general conclusions that can be drawn.                                                                             |\n",
    "| **Projection**       | Takes the analysis further by considering its application in a real-world context.                                                                          |\n",
    "|                      | Provides recommendations for stakeholders on how the findings can inform better, more informed decisions in the future.                                     |\n",
    "|----------------------|-------------------------------------------------------------------------------------------------------------------------------------------------------------|\n",
    "| **Overall Presentation Quality**                     | How descriptive your explanations in the file are and the verbal presentation piece.                                    |\n"
   ]
  },
  {
   "cell_type": "markdown",
   "id": "ad66f5a4",
   "metadata": {},
   "source": []
  }
 ],
 "metadata": {
  "kernelspec": {
   "display_name": "venv",
   "language": "python",
   "name": "python3"
  },
  "language_info": {
   "codemirror_mode": {
    "name": "ipython",
    "version": 3
   },
   "file_extension": ".py",
   "mimetype": "text/x-python",
   "name": "python",
   "nbconvert_exporter": "python",
   "pygments_lexer": "ipython3",
   "version": "3.12.4"
  }
 },
 "nbformat": 4,
 "nbformat_minor": 5
}
