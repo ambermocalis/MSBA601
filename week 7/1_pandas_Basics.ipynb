{
 "cells": [
  {
   "cell_type": "markdown",
   "id": "28bda555",
   "metadata": {},
   "source": [
    "# Pandas Basics"
   ]
  },
  {
   "cell_type": "markdown",
   "id": "41a75773",
   "metadata": {},
   "source": [
    "## What is Pandas?\n",
    "\n",
    "Pandas is a software library written for the Python programming language for data manipulation and analysis. In particular, it offers data structures and operations for manipulating numerical tables and time series."
   ]
  },
  {
   "cell_type": "markdown",
   "id": "3ccb65c8",
   "metadata": {},
   "source": [
    "## Installing Pandas (PIP)\n",
    "\n",
    "Pip is a package manager for Python that automates the process of installing, upgrading, configuring, and removing packages.\n",
    "\n",
    "`How it works`\n",
    "Pip uses PyPi as its default repository for fetching packages, but it can also install packages from other sources, such as version control systems, requirements files, and distribution files.\n",
    "\n",
    "`When it's included`\n",
    "Pip is included by default in Python version 3.4 or later. If you installed Python from source, with an installer from python.org, or via Homebrew, you should already have pip.\n",
    "\n",
    "`How to use it`\n",
    "You run pip from your system's command-line interface, not from within Python itself. To install a package, type pip install and then the name of the package.\n",
    "\n",
    "For VS Code, this is run in your terminal (and venv if you're using one.)\n",
    "\n",
    "Syntax `pip install pandas`\n"
   ]
  },
  {
   "cell_type": "markdown",
   "id": "fba790ed",
   "metadata": {},
   "source": [
    "## Introduction to Pandas\n",
    "- Pandas is a Python library used for working with data sets.\n",
    "- It provides functions for analyzing, cleaning, exploring, and manipulating data.\n",
    "- Created by Wes McKinney in 2008.\n",
    "- The name Pandas is derived from **Panel Data** and **Python Data Analysis**."
   ]
  },
  {
   "cell_type": "markdown",
   "id": "cdd36431",
   "metadata": {},
   "source": [
    "### Why Use Pandas?\n",
    "Pandas allows us to analyze large data sets and draw conclusions based on statistical theories. It also helps clean messy data to make it readable and relevant."
   ]
  },
  {
   "cell_type": "markdown",
   "id": "1d68a210",
   "metadata": {},
   "source": [
    "### Installation of Pandas\n",
    "If Pandas is not installed, you can install it using pip:\n",
    "```\n",
    "!pip install pandas\n",
    "```"
   ]
  },
  {
   "cell_type": "code",
   "execution_count": 2,
   "id": "3410931e",
   "metadata": {},
   "outputs": [
    {
     "name": "stdout",
     "output_type": "stream",
     "text": [
      "2.2.3\n"
     ]
    }
   ],
   "source": [
    "import pandas as pd\n",
    "print(pd.__version__)"
   ]
  },
  {
   "cell_type": "markdown",
   "id": "5b5a969e",
   "metadata": {},
   "source": [
    "### Pandas Series\n",
    "A **Series** is a one-dimensional array holding data of any type. It is similar to a column in a table.\n",
    "\n",
    "Note that you would only use a series if you are working with one dimensional data. While you can use a dataframe, it uses more memory. "
   ]
  },
  {
   "cell_type": "code",
   "execution_count": 3,
   "id": "d54b8fda",
   "metadata": {},
   "outputs": [
    {
     "name": "stdout",
     "output_type": "stream",
     "text": [
      "0    1\n",
      "1    7\n",
      "2    2\n",
      "dtype: int64\n"
     ]
    }
   ],
   "source": [
    "a = [1, 7, 2] #what type of variable is a?\n",
    "myvar = pd.Series(a) #call for a series. Also note that pandas is called as pd becuase that's how we imported it. \n",
    "print(myvar)"
   ]
  },
  {
   "cell_type": "markdown",
   "id": "c65bfa81",
   "metadata": {},
   "source": [
    "By default, Pandas labels the Series with index numbers starting from 0. You can also create custom labels using the `index` argument."
   ]
  },
  {
   "cell_type": "code",
   "execution_count": 4,
   "id": "13973df3",
   "metadata": {},
   "outputs": [
    {
     "name": "stdout",
     "output_type": "stream",
     "text": [
      "x    1\n",
      "y    7\n",
      "z    2\n",
      "dtype: int64\n"
     ]
    }
   ],
   "source": [
    "a = [1, 7, 2]\n",
    "myvar = pd.Series(a, index = ['x', 'y', 'z']) #must match the length of the input. \n",
    "print(myvar)"
   ]
  },
  {
   "cell_type": "markdown",
   "id": "0fc9df7d",
   "metadata": {},
   "source": [
    "### Pandas DataFrame\n",
    "A **DataFrame** is a 2-dimensional data structure, like a table with rows and columns."
   ]
  },
  {
   "cell_type": "code",
   "execution_count": 5,
   "id": "0403f362",
   "metadata": {},
   "outputs": [
    {
     "name": "stdout",
     "output_type": "stream",
     "text": [
      "   calories  duration\n",
      "0       420        50\n",
      "1       380        40\n",
      "2       390        45\n"
     ]
    }
   ],
   "source": [
    "data = {'calories': [420, 380, 390], 'duration': [50, 40, 45]} #what type is this?\n",
    "df = pd.DataFrame(data)\n",
    "print(df)"
   ]
  },
  {
   "cell_type": "code",
   "execution_count": 6,
   "id": "4f2a72d4",
   "metadata": {},
   "outputs": [
    {
     "data": {
      "text/html": [
       "<div>\n",
       "<style scoped>\n",
       "    .dataframe tbody tr th:only-of-type {\n",
       "        vertical-align: middle;\n",
       "    }\n",
       "\n",
       "    .dataframe tbody tr th {\n",
       "        vertical-align: top;\n",
       "    }\n",
       "\n",
       "    .dataframe thead th {\n",
       "        text-align: right;\n",
       "    }\n",
       "</style>\n",
       "<table border=\"1\" class=\"dataframe\">\n",
       "  <thead>\n",
       "    <tr style=\"text-align: right;\">\n",
       "      <th></th>\n",
       "      <th>calories</th>\n",
       "      <th>duration</th>\n",
       "    </tr>\n",
       "  </thead>\n",
       "  <tbody>\n",
       "    <tr>\n",
       "      <th>0</th>\n",
       "      <td>420</td>\n",
       "      <td>50</td>\n",
       "    </tr>\n",
       "    <tr>\n",
       "      <th>1</th>\n",
       "      <td>380</td>\n",
       "      <td>40</td>\n",
       "    </tr>\n",
       "    <tr>\n",
       "      <th>2</th>\n",
       "      <td>390</td>\n",
       "      <td>45</td>\n",
       "    </tr>\n",
       "  </tbody>\n",
       "</table>\n",
       "</div>"
      ],
      "text/plain": [
       "   calories  duration\n",
       "0       420        50\n",
       "1       380        40\n",
       "2       390        45"
      ]
     },
     "execution_count": 6,
     "metadata": {},
     "output_type": "execute_result"
    }
   ],
   "source": [
    "#In Jupyter Notebook, you can pretty print the df. With jus the dataframe's name.\n",
    "df"
   ]
  },
  {
   "cell_type": "markdown",
   "id": "b2d39bc7",
   "metadata": {},
   "source": [
    "### Read CSV Files\n",
    "You can load CSV files directly into Pandas DataFrames using `pd.read_csv()`."
   ]
  },
  {
   "cell_type": "code",
   "execution_count": 7,
   "id": "8b43fa28",
   "metadata": {},
   "outputs": [
    {
     "name": "stdout",
     "output_type": "stream",
     "text": [
      "  Month  Sales  Profit  Expenses  Customers\n",
      "0   Jan    200      20       150        100\n",
      "1   Feb    250      30       180        120\n",
      "2   Mar    300      50       200        130\n",
      "3   Apr    350      60       210        150\n",
      "4   May    400      70       250        160\n"
     ]
    }
   ],
   "source": [
    "# Example to load CSV file\n",
    "df = pd.read_csv('data.csv') #note how easy the syntax is in python\n",
    "print(df.head())"
   ]
  },
  {
   "cell_type": "markdown",
   "id": "25aceacd",
   "metadata": {},
   "source": [
    "Side Note: Here is the pandas source code for this funtion. Look how easy they made it for you!\n",
    "    \n",
    "https://github.com/pandas-dev/pandas/blob/main/pandas/io/parsers/readers.py"
   ]
  },
  {
   "cell_type": "markdown",
   "id": "d37edff1",
   "metadata": {},
   "source": [
    "### Read JSON Files\n",
    "You can also load JSON files into Pandas DataFrames using `pd.read_json()`."
   ]
  },
  {
   "cell_type": "code",
   "execution_count": 8,
   "id": "778f240f",
   "metadata": {},
   "outputs": [
    {
     "name": "stdout",
     "output_type": "stream",
     "text": [
      "   id       name  price  in_stock     category  rating\n",
      "0   1  Product_1  98.49      True  Electronics     2.8\n",
      "1   2  Product_2  43.87     False        Books     1.2\n",
      "2   3  Product_3  33.23      True     Clothing     1.4\n",
      "3   4  Product_4  63.88      True     Clothing     4.2\n",
      "4   5  Product_5  30.03      True  Electronics     2.1\n"
     ]
    }
   ],
   "source": [
    "# Example to load JSON file\n",
    "df = pd.read_json('data.json')\n",
    "print(df.head())"
   ]
  },
  {
   "cell_type": "markdown",
   "id": "78c01918",
   "metadata": {},
   "source": [
    "Side Note: Here is the pandas source code for this funtion. Look how easy they made it for you!\n",
    "    \n",
    "https://github.com/pandas-dev/pandas/blob/main/pandas/io/json/_json.py"
   ]
  },
  {
   "cell_type": "markdown",
   "id": "277fc23b",
   "metadata": {},
   "source": [
    "### Analyzing DataFrames\n",
    "You can get a quick overview of a DataFrame using the `head()` and `tail()` methods to view the first and last rows."
   ]
  },
  {
   "cell_type": "code",
   "execution_count": 9,
   "id": "0bc0e9e2",
   "metadata": {},
   "outputs": [
    {
     "name": "stdout",
     "output_type": "stream",
     "text": [
      "   id        name  price  in_stock     category  rating\n",
      "0   1   Product_1  98.49      True  Electronics     2.8\n",
      "1   2   Product_2  43.87     False        Books     1.2\n",
      "2   3   Product_3  33.23      True     Clothing     1.4\n",
      "3   4   Product_4  63.88      True     Clothing     4.2\n",
      "4   5   Product_5  30.03      True  Electronics     2.1\n",
      "5   6   Product_6  66.23     False         Home     4.0\n",
      "6   7   Product_7  96.98      True        Books     4.5\n",
      "7   8   Product_8  59.80      True        Books     1.0\n",
      "8   9   Product_9  91.12      True     Clothing     3.6\n",
      "9  10  Product_10  72.53      True        Books     2.2\n",
      "   id        name  price  in_stock  category  rating\n",
      "5   6   Product_6  66.23     False      Home     4.0\n",
      "6   7   Product_7  96.98      True     Books     4.5\n",
      "7   8   Product_8  59.80      True     Books     1.0\n",
      "8   9   Product_9  91.12      True  Clothing     3.6\n",
      "9  10  Product_10  72.53      True     Books     2.2\n"
     ]
    }
   ],
   "source": [
    "print(df.head(10))\n",
    "print(df.tail())"
   ]
  },
  {
   "cell_type": "markdown",
   "id": "2483f75d",
   "metadata": {},
   "source": [
    "The `info()` method gives you more information about the data, such as the number of entries, columns, and non-null values."
   ]
  },
  {
   "cell_type": "code",
   "execution_count": 10,
   "id": "c433900d",
   "metadata": {},
   "outputs": [
    {
     "name": "stdout",
     "output_type": "stream",
     "text": [
      "<class 'pandas.core.frame.DataFrame'>\n",
      "RangeIndex: 10 entries, 0 to 9\n",
      "Data columns (total 6 columns):\n",
      " #   Column    Non-Null Count  Dtype  \n",
      "---  ------    --------------  -----  \n",
      " 0   id        10 non-null     int64  \n",
      " 1   name      10 non-null     object \n",
      " 2   price     10 non-null     float64\n",
      " 3   in_stock  10 non-null     bool   \n",
      " 4   category  10 non-null     object \n",
      " 5   rating    10 non-null     float64\n",
      "dtypes: bool(1), float64(2), int64(1), object(2)\n",
      "memory usage: 542.0+ bytes\n",
      "None\n"
     ]
    }
   ],
   "source": [
    "print(df.info())"
   ]
  }
 ],
 "metadata": {
  "kernelspec": {
   "display_name": "venv",
   "language": "python",
   "name": "python3"
  },
  "language_info": {
   "codemirror_mode": {
    "name": "ipython",
    "version": 3
   },
   "file_extension": ".py",
   "mimetype": "text/x-python",
   "name": "python",
   "nbconvert_exporter": "python",
   "pygments_lexer": "ipython3",
   "version": "3.12.4"
  }
 },
 "nbformat": 4,
 "nbformat_minor": 5
}
